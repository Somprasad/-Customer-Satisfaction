{
 "cells": [
  {
   "cell_type": "markdown",
   "id": "distinct-regulation",
   "metadata": {},
   "source": [
    "# Customer Satisfaction - Santander"
   ]
  },
  {
   "cell_type": "markdown",
   "id": "printable-mineral",
   "metadata": {},
   "source": [
    "<h4> The objective of this project is to identify dissatisfied customers early in their relationship\n",
    "with use of machine learning algorithms. Doing so would allow Santander to take\n",
    "proactive steps to improve a customer's happiness before it's too late. Solutions from this\n",
    "project will be feed into Kaggle Competition hosted by Santander </h4>"
   ]
  },
  {
   "cell_type": "markdown",
   "id": "suitable-colombia",
   "metadata": {},
   "source": [
    "**Evaluation metric** for the outcome on this project is **area under the ROC curve (AUC)**\n",
    "AUC is calculated from a graphical plot curves typically feature true positive rate on the Y\n",
    "axis, and false positive rate on the X axis. This means that the top left corner of the plot is\n",
    "the “ideal” point - a false positive rate of zero, and a true positive rate of one. "
   ]
  },
  {
   "cell_type": "markdown",
   "id": "pursuant-representation",
   "metadata": {},
   "source": [
    "![Example of AUC Curve](Auc.PNG)"
   ]
  },
  {
   "cell_type": "markdown",
   "id": "falling-uncle",
   "metadata": {},
   "source": [
    "**import required libraries to this notebook instance**"
   ]
  },
  {
   "cell_type": "code",
   "execution_count": 1,
   "id": "moved-angle",
   "metadata": {},
   "outputs": [],
   "source": [
    "import pandas as pd\n",
    "import numpy as np\n",
    "import os\n",
    "import io\n",
    "import matplotlib.pyplot as plt\n",
    "import matplotlib\n",
    "%matplotlib inline \n",
    "import seaborn as sns\n",
    "from sklearn.ensemble import ExtraTreesClassifier\n",
    "# will use ExtraTreesClassifier for feature selection"
   ]
  },
  {
   "cell_type": "code",
   "execution_count": 2,
   "id": "irish-fundamental",
   "metadata": {},
   "outputs": [],
   "source": [
    "# sagemaker libraries\n",
    "import boto3\n",
    "import sagemaker"
   ]
  },
  {
   "cell_type": "markdown",
   "id": "beneficial-going",
   "metadata": {},
   "source": [
    "## Step 1 - Data loading and Feature Selection"
   ]
  },
  {
   "cell_type": "markdown",
   "id": "smooth-republican",
   "metadata": {},
   "source": [
    "**Overview of Data** \\\n",
    "Will be using the data provided to us in Kaggle Competition - (https://www.kaggle.com/c/santander-customer-satisfaction/data) \\\n",
    "\\\n",
    "There are 3 files in directory\n",
    "1. train.csv - the training set including the target\n",
    "2. test.csv - the test set without the target\n",
    "3. sample_submission.csv - a sample submission file in the correct format\n",
    "\n"
   ]
  },
  {
   "cell_type": "markdown",
   "id": "alike-failure",
   "metadata": {},
   "source": [
    "This data is uploaded to Notebook instance - project folder"
   ]
  },
  {
   "cell_type": "code",
   "execution_count": 3,
   "id": "strong-potential",
   "metadata": {},
   "outputs": [
    {
     "name": "stdout",
     "output_type": "stream",
     "text": [
      "train shape (rows, columns ) =  (76020, 371) test shape (rows, columns) (75818, 370)\n"
     ]
    }
   ],
   "source": [
    "# Read Data from notebook current folder\n",
    "train_df = pd.read_csv('Data/train.csv')\n",
    "test_submission = pd.read_csv('Data/test.csv')\n",
    "# print out the shape of both the datasets\n",
    "print(\"train shape (rows, columns ) = \",train_df.shape, \"test shape (rows, columns)\", test_submission.shape)"
   ]
  },
  {
   "cell_type": "markdown",
   "id": "burning-andrews",
   "metadata": {},
   "source": [
    "370 columns are test and train, all are anonymized. The only column difference between Train and Test is \"Target\" Variable as intended"
   ]
  },
  {
   "cell_type": "markdown",
   "id": "pleased-cleaners",
   "metadata": {},
   "source": [
    "*Please note that , the test_submission data will be used only for submission once model training is completed* \\\n",
    "*To test our model, will split the training data further into validation, test dataset later*"
   ]
  },
  {
   "cell_type": "code",
   "execution_count": 4,
   "id": "removed-bones",
   "metadata": {},
   "outputs": [
    {
     "data": {
      "text/html": [
       "<div>\n",
       "<style scoped>\n",
       "    .dataframe tbody tr th:only-of-type {\n",
       "        vertical-align: middle;\n",
       "    }\n",
       "\n",
       "    .dataframe tbody tr th {\n",
       "        vertical-align: top;\n",
       "    }\n",
       "\n",
       "    .dataframe thead th {\n",
       "        text-align: right;\n",
       "    }\n",
       "</style>\n",
       "<table border=\"1\" class=\"dataframe\">\n",
       "  <thead>\n",
       "    <tr style=\"text-align: right;\">\n",
       "      <th></th>\n",
       "      <th>ID</th>\n",
       "      <th>var3</th>\n",
       "      <th>var15</th>\n",
       "      <th>imp_ent_var16_ult1</th>\n",
       "      <th>imp_op_var39_comer_ult1</th>\n",
       "      <th>imp_op_var39_comer_ult3</th>\n",
       "      <th>imp_op_var40_comer_ult1</th>\n",
       "      <th>imp_op_var40_comer_ult3</th>\n",
       "      <th>imp_op_var40_efect_ult1</th>\n",
       "      <th>imp_op_var40_efect_ult3</th>\n",
       "      <th>...</th>\n",
       "      <th>saldo_medio_var33_hace2</th>\n",
       "      <th>saldo_medio_var33_hace3</th>\n",
       "      <th>saldo_medio_var33_ult1</th>\n",
       "      <th>saldo_medio_var33_ult3</th>\n",
       "      <th>saldo_medio_var44_hace2</th>\n",
       "      <th>saldo_medio_var44_hace3</th>\n",
       "      <th>saldo_medio_var44_ult1</th>\n",
       "      <th>saldo_medio_var44_ult3</th>\n",
       "      <th>var38</th>\n",
       "      <th>TARGET</th>\n",
       "    </tr>\n",
       "  </thead>\n",
       "  <tbody>\n",
       "    <tr>\n",
       "      <th>0</th>\n",
       "      <td>1</td>\n",
       "      <td>2</td>\n",
       "      <td>23</td>\n",
       "      <td>0.0</td>\n",
       "      <td>0.0</td>\n",
       "      <td>0.0</td>\n",
       "      <td>0.0</td>\n",
       "      <td>0.0</td>\n",
       "      <td>0.0</td>\n",
       "      <td>0.0</td>\n",
       "      <td>...</td>\n",
       "      <td>0.0</td>\n",
       "      <td>0.0</td>\n",
       "      <td>0.0</td>\n",
       "      <td>0.0</td>\n",
       "      <td>0.0</td>\n",
       "      <td>0.0</td>\n",
       "      <td>0.0</td>\n",
       "      <td>0.0</td>\n",
       "      <td>39205.170000</td>\n",
       "      <td>0</td>\n",
       "    </tr>\n",
       "    <tr>\n",
       "      <th>1</th>\n",
       "      <td>3</td>\n",
       "      <td>2</td>\n",
       "      <td>34</td>\n",
       "      <td>0.0</td>\n",
       "      <td>0.0</td>\n",
       "      <td>0.0</td>\n",
       "      <td>0.0</td>\n",
       "      <td>0.0</td>\n",
       "      <td>0.0</td>\n",
       "      <td>0.0</td>\n",
       "      <td>...</td>\n",
       "      <td>0.0</td>\n",
       "      <td>0.0</td>\n",
       "      <td>0.0</td>\n",
       "      <td>0.0</td>\n",
       "      <td>0.0</td>\n",
       "      <td>0.0</td>\n",
       "      <td>0.0</td>\n",
       "      <td>0.0</td>\n",
       "      <td>49278.030000</td>\n",
       "      <td>0</td>\n",
       "    </tr>\n",
       "    <tr>\n",
       "      <th>2</th>\n",
       "      <td>4</td>\n",
       "      <td>2</td>\n",
       "      <td>23</td>\n",
       "      <td>0.0</td>\n",
       "      <td>0.0</td>\n",
       "      <td>0.0</td>\n",
       "      <td>0.0</td>\n",
       "      <td>0.0</td>\n",
       "      <td>0.0</td>\n",
       "      <td>0.0</td>\n",
       "      <td>...</td>\n",
       "      <td>0.0</td>\n",
       "      <td>0.0</td>\n",
       "      <td>0.0</td>\n",
       "      <td>0.0</td>\n",
       "      <td>0.0</td>\n",
       "      <td>0.0</td>\n",
       "      <td>0.0</td>\n",
       "      <td>0.0</td>\n",
       "      <td>67333.770000</td>\n",
       "      <td>0</td>\n",
       "    </tr>\n",
       "    <tr>\n",
       "      <th>3</th>\n",
       "      <td>8</td>\n",
       "      <td>2</td>\n",
       "      <td>37</td>\n",
       "      <td>0.0</td>\n",
       "      <td>195.0</td>\n",
       "      <td>195.0</td>\n",
       "      <td>0.0</td>\n",
       "      <td>0.0</td>\n",
       "      <td>0.0</td>\n",
       "      <td>0.0</td>\n",
       "      <td>...</td>\n",
       "      <td>0.0</td>\n",
       "      <td>0.0</td>\n",
       "      <td>0.0</td>\n",
       "      <td>0.0</td>\n",
       "      <td>0.0</td>\n",
       "      <td>0.0</td>\n",
       "      <td>0.0</td>\n",
       "      <td>0.0</td>\n",
       "      <td>64007.970000</td>\n",
       "      <td>0</td>\n",
       "    </tr>\n",
       "    <tr>\n",
       "      <th>4</th>\n",
       "      <td>10</td>\n",
       "      <td>2</td>\n",
       "      <td>39</td>\n",
       "      <td>0.0</td>\n",
       "      <td>0.0</td>\n",
       "      <td>0.0</td>\n",
       "      <td>0.0</td>\n",
       "      <td>0.0</td>\n",
       "      <td>0.0</td>\n",
       "      <td>0.0</td>\n",
       "      <td>...</td>\n",
       "      <td>0.0</td>\n",
       "      <td>0.0</td>\n",
       "      <td>0.0</td>\n",
       "      <td>0.0</td>\n",
       "      <td>0.0</td>\n",
       "      <td>0.0</td>\n",
       "      <td>0.0</td>\n",
       "      <td>0.0</td>\n",
       "      <td>117310.979016</td>\n",
       "      <td>0</td>\n",
       "    </tr>\n",
       "  </tbody>\n",
       "</table>\n",
       "<p>5 rows × 371 columns</p>\n",
       "</div>"
      ],
      "text/plain": [
       "   ID  var3  var15  imp_ent_var16_ult1  imp_op_var39_comer_ult1  \\\n",
       "0   1     2     23                 0.0                      0.0   \n",
       "1   3     2     34                 0.0                      0.0   \n",
       "2   4     2     23                 0.0                      0.0   \n",
       "3   8     2     37                 0.0                    195.0   \n",
       "4  10     2     39                 0.0                      0.0   \n",
       "\n",
       "   imp_op_var39_comer_ult3  imp_op_var40_comer_ult1  imp_op_var40_comer_ult3  \\\n",
       "0                      0.0                      0.0                      0.0   \n",
       "1                      0.0                      0.0                      0.0   \n",
       "2                      0.0                      0.0                      0.0   \n",
       "3                    195.0                      0.0                      0.0   \n",
       "4                      0.0                      0.0                      0.0   \n",
       "\n",
       "   imp_op_var40_efect_ult1  imp_op_var40_efect_ult3  ...  \\\n",
       "0                      0.0                      0.0  ...   \n",
       "1                      0.0                      0.0  ...   \n",
       "2                      0.0                      0.0  ...   \n",
       "3                      0.0                      0.0  ...   \n",
       "4                      0.0                      0.0  ...   \n",
       "\n",
       "   saldo_medio_var33_hace2  saldo_medio_var33_hace3  saldo_medio_var33_ult1  \\\n",
       "0                      0.0                      0.0                     0.0   \n",
       "1                      0.0                      0.0                     0.0   \n",
       "2                      0.0                      0.0                     0.0   \n",
       "3                      0.0                      0.0                     0.0   \n",
       "4                      0.0                      0.0                     0.0   \n",
       "\n",
       "   saldo_medio_var33_ult3  saldo_medio_var44_hace2  saldo_medio_var44_hace3  \\\n",
       "0                     0.0                      0.0                      0.0   \n",
       "1                     0.0                      0.0                      0.0   \n",
       "2                     0.0                      0.0                      0.0   \n",
       "3                     0.0                      0.0                      0.0   \n",
       "4                     0.0                      0.0                      0.0   \n",
       "\n",
       "   saldo_medio_var44_ult1  saldo_medio_var44_ult3          var38  TARGET  \n",
       "0                     0.0                     0.0   39205.170000       0  \n",
       "1                     0.0                     0.0   49278.030000       0  \n",
       "2                     0.0                     0.0   67333.770000       0  \n",
       "3                     0.0                     0.0   64007.970000       0  \n",
       "4                     0.0                     0.0  117310.979016       0  \n",
       "\n",
       "[5 rows x 371 columns]"
      ]
     },
     "execution_count": 4,
     "metadata": {},
     "output_type": "execute_result"
    }
   ],
   "source": [
    "# Let's look at top 5 obseravations\n",
    "train_df.head(5)"
   ]
  },
  {
   "cell_type": "markdown",
   "id": "eight-reply",
   "metadata": {},
   "source": [
    "Many features but all are anonymized, So next few steps would be focus on dropping unnecessary columns"
   ]
  },
  {
   "cell_type": "code",
   "execution_count": 5,
   "id": "willing-pennsylvania",
   "metadata": {},
   "outputs": [
    {
     "data": {
      "text/plain": [
       "int64      260\n",
       "float64    111\n",
       "dtype: int64"
      ]
     },
     "execution_count": 5,
     "metadata": {},
     "output_type": "execute_result"
    }
   ],
   "source": [
    "#Find out column data types\n",
    "train_df.dtypes.value_counts()"
   ]
  },
  {
   "cell_type": "markdown",
   "id": "acoustic-safety",
   "metadata": {},
   "source": [
    "Well, there are no categorical variables."
   ]
  },
  {
   "cell_type": "code",
   "execution_count": 6,
   "id": "younger-weekly",
   "metadata": {},
   "outputs": [],
   "source": [
    "# Since there are many columns, not able to view all variable disribution metrics in output view \n",
    "# So Let's plot Standard deviation of variables to check the distribution"
   ]
  },
  {
   "cell_type": "code",
   "execution_count": 7,
   "id": "renewable-enclosure",
   "metadata": {},
   "outputs": [],
   "source": [
    "# Copy to dataset\n",
    "summary_df=train_df.describe()"
   ]
  },
  {
   "cell_type": "code",
   "execution_count": 8,
   "id": "visible-macintosh",
   "metadata": {},
   "outputs": [
    {
     "data": {
      "text/html": [
       "<div>\n",
       "<style scoped>\n",
       "    .dataframe tbody tr th:only-of-type {\n",
       "        vertical-align: middle;\n",
       "    }\n",
       "\n",
       "    .dataframe tbody tr th {\n",
       "        vertical-align: top;\n",
       "    }\n",
       "\n",
       "    .dataframe thead th {\n",
       "        text-align: right;\n",
       "    }\n",
       "</style>\n",
       "<table border=\"1\" class=\"dataframe\">\n",
       "  <thead>\n",
       "    <tr style=\"text-align: right;\">\n",
       "      <th></th>\n",
       "      <th>ID</th>\n",
       "      <th>var3</th>\n",
       "      <th>var15</th>\n",
       "      <th>imp_ent_var16_ult1</th>\n",
       "      <th>imp_op_var39_comer_ult1</th>\n",
       "      <th>imp_op_var39_comer_ult3</th>\n",
       "      <th>imp_op_var40_comer_ult1</th>\n",
       "      <th>imp_op_var40_comer_ult3</th>\n",
       "      <th>imp_op_var40_efect_ult1</th>\n",
       "      <th>imp_op_var40_efect_ult3</th>\n",
       "      <th>...</th>\n",
       "      <th>saldo_medio_var33_hace2</th>\n",
       "      <th>saldo_medio_var33_hace3</th>\n",
       "      <th>saldo_medio_var33_ult1</th>\n",
       "      <th>saldo_medio_var33_ult3</th>\n",
       "      <th>saldo_medio_var44_hace2</th>\n",
       "      <th>saldo_medio_var44_hace3</th>\n",
       "      <th>saldo_medio_var44_ult1</th>\n",
       "      <th>saldo_medio_var44_ult3</th>\n",
       "      <th>var38</th>\n",
       "      <th>TARGET</th>\n",
       "    </tr>\n",
       "  </thead>\n",
       "  <tbody>\n",
       "    <tr>\n",
       "      <th>count</th>\n",
       "      <td>76020.000000</td>\n",
       "      <td>76020.000000</td>\n",
       "      <td>76020.000000</td>\n",
       "      <td>76020.000000</td>\n",
       "      <td>76020.000000</td>\n",
       "      <td>76020.000000</td>\n",
       "      <td>76020.000000</td>\n",
       "      <td>76020.000000</td>\n",
       "      <td>76020.000000</td>\n",
       "      <td>76020.000000</td>\n",
       "      <td>...</td>\n",
       "      <td>76020.000000</td>\n",
       "      <td>76020.000000</td>\n",
       "      <td>76020.000000</td>\n",
       "      <td>76020.000000</td>\n",
       "      <td>76020.000000</td>\n",
       "      <td>76020.000000</td>\n",
       "      <td>76020.000000</td>\n",
       "      <td>76020.000000</td>\n",
       "      <td>76020.000000</td>\n",
       "      <td>76020.000000</td>\n",
       "    </tr>\n",
       "    <tr>\n",
       "      <th>mean</th>\n",
       "      <td>75964.050723</td>\n",
       "      <td>-1523.199277</td>\n",
       "      <td>33.212865</td>\n",
       "      <td>86.208265</td>\n",
       "      <td>72.363067</td>\n",
       "      <td>119.529632</td>\n",
       "      <td>3.559130</td>\n",
       "      <td>6.472698</td>\n",
       "      <td>0.412946</td>\n",
       "      <td>0.567352</td>\n",
       "      <td>...</td>\n",
       "      <td>7.935824</td>\n",
       "      <td>1.365146</td>\n",
       "      <td>12.215580</td>\n",
       "      <td>8.784074</td>\n",
       "      <td>31.505324</td>\n",
       "      <td>1.858575</td>\n",
       "      <td>76.026165</td>\n",
       "      <td>56.614351</td>\n",
       "      <td>117235.809430</td>\n",
       "      <td>0.039569</td>\n",
       "    </tr>\n",
       "    <tr>\n",
       "      <th>std</th>\n",
       "      <td>43781.947379</td>\n",
       "      <td>39033.462364</td>\n",
       "      <td>12.956486</td>\n",
       "      <td>1614.757313</td>\n",
       "      <td>339.315831</td>\n",
       "      <td>546.266294</td>\n",
       "      <td>93.155749</td>\n",
       "      <td>153.737066</td>\n",
       "      <td>30.604864</td>\n",
       "      <td>36.513513</td>\n",
       "      <td>...</td>\n",
       "      <td>455.887218</td>\n",
       "      <td>113.959637</td>\n",
       "      <td>783.207399</td>\n",
       "      <td>538.439211</td>\n",
       "      <td>2013.125393</td>\n",
       "      <td>147.786584</td>\n",
       "      <td>4040.337842</td>\n",
       "      <td>2852.579397</td>\n",
       "      <td>182664.598503</td>\n",
       "      <td>0.194945</td>\n",
       "    </tr>\n",
       "    <tr>\n",
       "      <th>min</th>\n",
       "      <td>1.000000</td>\n",
       "      <td>-999999.000000</td>\n",
       "      <td>5.000000</td>\n",
       "      <td>0.000000</td>\n",
       "      <td>0.000000</td>\n",
       "      <td>0.000000</td>\n",
       "      <td>0.000000</td>\n",
       "      <td>0.000000</td>\n",
       "      <td>0.000000</td>\n",
       "      <td>0.000000</td>\n",
       "      <td>...</td>\n",
       "      <td>0.000000</td>\n",
       "      <td>0.000000</td>\n",
       "      <td>0.000000</td>\n",
       "      <td>0.000000</td>\n",
       "      <td>0.000000</td>\n",
       "      <td>0.000000</td>\n",
       "      <td>0.000000</td>\n",
       "      <td>0.000000</td>\n",
       "      <td>5163.750000</td>\n",
       "      <td>0.000000</td>\n",
       "    </tr>\n",
       "    <tr>\n",
       "      <th>25%</th>\n",
       "      <td>38104.750000</td>\n",
       "      <td>2.000000</td>\n",
       "      <td>23.000000</td>\n",
       "      <td>0.000000</td>\n",
       "      <td>0.000000</td>\n",
       "      <td>0.000000</td>\n",
       "      <td>0.000000</td>\n",
       "      <td>0.000000</td>\n",
       "      <td>0.000000</td>\n",
       "      <td>0.000000</td>\n",
       "      <td>...</td>\n",
       "      <td>0.000000</td>\n",
       "      <td>0.000000</td>\n",
       "      <td>0.000000</td>\n",
       "      <td>0.000000</td>\n",
       "      <td>0.000000</td>\n",
       "      <td>0.000000</td>\n",
       "      <td>0.000000</td>\n",
       "      <td>0.000000</td>\n",
       "      <td>67870.612500</td>\n",
       "      <td>0.000000</td>\n",
       "    </tr>\n",
       "  </tbody>\n",
       "</table>\n",
       "<p>5 rows × 371 columns</p>\n",
       "</div>"
      ],
      "text/plain": [
       "                 ID           var3         var15  imp_ent_var16_ult1  \\\n",
       "count  76020.000000   76020.000000  76020.000000        76020.000000   \n",
       "mean   75964.050723   -1523.199277     33.212865           86.208265   \n",
       "std    43781.947379   39033.462364     12.956486         1614.757313   \n",
       "min        1.000000 -999999.000000      5.000000            0.000000   \n",
       "25%    38104.750000       2.000000     23.000000            0.000000   \n",
       "\n",
       "       imp_op_var39_comer_ult1  imp_op_var39_comer_ult3  \\\n",
       "count             76020.000000             76020.000000   \n",
       "mean                 72.363067               119.529632   \n",
       "std                 339.315831               546.266294   \n",
       "min                   0.000000                 0.000000   \n",
       "25%                   0.000000                 0.000000   \n",
       "\n",
       "       imp_op_var40_comer_ult1  imp_op_var40_comer_ult3  \\\n",
       "count             76020.000000             76020.000000   \n",
       "mean                  3.559130                 6.472698   \n",
       "std                  93.155749               153.737066   \n",
       "min                   0.000000                 0.000000   \n",
       "25%                   0.000000                 0.000000   \n",
       "\n",
       "       imp_op_var40_efect_ult1  imp_op_var40_efect_ult3  ...  \\\n",
       "count             76020.000000             76020.000000  ...   \n",
       "mean                  0.412946                 0.567352  ...   \n",
       "std                  30.604864                36.513513  ...   \n",
       "min                   0.000000                 0.000000  ...   \n",
       "25%                   0.000000                 0.000000  ...   \n",
       "\n",
       "       saldo_medio_var33_hace2  saldo_medio_var33_hace3  \\\n",
       "count             76020.000000             76020.000000   \n",
       "mean                  7.935824                 1.365146   \n",
       "std                 455.887218               113.959637   \n",
       "min                   0.000000                 0.000000   \n",
       "25%                   0.000000                 0.000000   \n",
       "\n",
       "       saldo_medio_var33_ult1  saldo_medio_var33_ult3  \\\n",
       "count            76020.000000            76020.000000   \n",
       "mean                12.215580                8.784074   \n",
       "std                783.207399              538.439211   \n",
       "min                  0.000000                0.000000   \n",
       "25%                  0.000000                0.000000   \n",
       "\n",
       "       saldo_medio_var44_hace2  saldo_medio_var44_hace3  \\\n",
       "count             76020.000000             76020.000000   \n",
       "mean                 31.505324                 1.858575   \n",
       "std                2013.125393               147.786584   \n",
       "min                   0.000000                 0.000000   \n",
       "25%                   0.000000                 0.000000   \n",
       "\n",
       "       saldo_medio_var44_ult1  saldo_medio_var44_ult3          var38  \\\n",
       "count            76020.000000            76020.000000   76020.000000   \n",
       "mean                76.026165               56.614351  117235.809430   \n",
       "std               4040.337842             2852.579397  182664.598503   \n",
       "min                  0.000000                0.000000    5163.750000   \n",
       "25%                  0.000000                0.000000   67870.612500   \n",
       "\n",
       "             TARGET  \n",
       "count  76020.000000  \n",
       "mean       0.039569  \n",
       "std        0.194945  \n",
       "min        0.000000  \n",
       "25%        0.000000  \n",
       "\n",
       "[5 rows x 371 columns]"
      ]
     },
     "execution_count": 8,
     "metadata": {},
     "output_type": "execute_result"
    }
   ],
   "source": [
    "# view top 5\n",
    "summary_df.head(5)"
   ]
  },
  {
   "cell_type": "code",
   "execution_count": 189,
   "id": "imposed-zimbabwe",
   "metadata": {},
   "outputs": [
    {
     "data": {
      "image/png": "[encoded data removed]",
      "text/plain": [
       "<Figure size 432x288 with 1 Axes>"
      ]
     },
     "metadata": {
      "needs_background": "light"
     },
     "output_type": "display_data"
    }
   ],
   "source": [
    "# Plotting STD of all variables\n",
    "plt.hist(summary_df.iloc[2])\n",
    "plt.title(\"Distribution of Standard deviation of all features in dataset\")\n",
    "plt.savefig('STD of features.png')\n",
    "plt.show()"
   ]
  },
  {
   "cell_type": "markdown",
   "id": "peripheral-extent",
   "metadata": {},
   "source": [
    "**Seems few variables has Zero Standard deviation. Zero variance variables doesnt bring value to the model prediction power**"
   ]
  },
  {
   "cell_type": "code",
   "execution_count": 10,
   "id": "moral-intranet",
   "metadata": {},
   "outputs": [],
   "source": [
    "# Create a list of variables with Zero STD to drop\n",
    "drop_columns = summary_df.iloc[2][summary_df.iloc[2] == 0].index.to_list()"
   ]
  },
  {
   "cell_type": "code",
   "execution_count": 191,
   "id": "living-architecture",
   "metadata": {},
   "outputs": [
    {
     "name": "stdout",
     "output_type": "stream",
     "text": [
      "34\n",
      "['ind_var2_0', 'ind_var2', 'ind_var27_0', 'ind_var28_0', 'ind_var28', 'ind_var27', 'ind_var41', 'ind_var46_0', 'ind_var46', 'num_var27_0', 'num_var28_0', 'num_var28', 'num_var27', 'num_var41', 'num_var46_0', 'num_var46', 'saldo_var28', 'saldo_var27', 'saldo_var41', 'saldo_var46', 'imp_amort_var18_hace3', 'imp_amort_var34_hace3', 'imp_reemb_var13_hace3', 'imp_reemb_var33_hace3', 'imp_trasp_var17_out_hace3', 'imp_trasp_var33_out_hace3', 'num_var2_0_ult1', 'num_var2_ult1', 'num_reemb_var13_hace3', 'num_reemb_var33_hace3', 'num_trasp_var17_out_hace3', 'num_trasp_var33_out_hace3', 'saldo_var2_ult1', 'saldo_medio_var13_medio_hace3']\n"
     ]
    }
   ],
   "source": [
    "print(len(drop_columns))\n",
    "print(drop_columns)"
   ]
  },
  {
   "cell_type": "code",
   "execution_count": 11,
   "id": "corporate-vocabulary",
   "metadata": {},
   "outputs": [],
   "source": [
    "# Drop columns now\n",
    "train_df.drop(drop_columns, axis=1, inplace = True)"
   ]
  },
  {
   "cell_type": "code",
   "execution_count": 12,
   "id": "exposed-verse",
   "metadata": {},
   "outputs": [
    {
     "name": "stdout",
     "output_type": "stream",
     "text": [
      "train shape (rows, columns ) =  (76020, 337)\n"
     ]
    }
   ],
   "source": [
    "# print out the shape of both the datasets after dropping columns\n",
    "print(\"train shape (rows, columns ) = \",train_df.shape)"
   ]
  },
  {
   "cell_type": "markdown",
   "id": "induced-hybrid",
   "metadata": {},
   "source": [
    "**Drop duplicate columns** - *which are common in Kaggle Competitions*"
   ]
  },
  {
   "cell_type": "code",
   "execution_count": 13,
   "id": "engaging-firmware",
   "metadata": {},
   "outputs": [],
   "source": [
    "def dropDuplicates(df):\n",
    "    '''Function to find duplicate columns in dataframe\n",
    "       df: dataset'''\n",
    "    # Declare a list to append the results\n",
    "    duplicate_columns = []\n",
    "    # Temp Variable - to store number of columns\n",
    "    tot_cols = df.shape[1]\n",
    "    # will reiterate through sequential findings\n",
    "    for base_col in range(tot_cols):\n",
    "        col_sel = df.iloc[:,base_col]\n",
    "        # iterate through all columns\n",
    "        for compare_with in range(base_col+1, df.shape[1]):\n",
    "            compare_col = df.iloc[:,compare_with]\n",
    "            if col_sel.equals(compare_col):\n",
    "                duplicate_columns.append(df.columns.values[compare_with])\n",
    "    return duplicate_columns"
   ]
  },
  {
   "cell_type": "code",
   "execution_count": 14,
   "id": "southern-return",
   "metadata": {},
   "outputs": [
    {
     "name": "stdout",
     "output_type": "stream",
     "text": [
      "duplicate columns \n",
      " : ['ind_var29_0', 'ind_var29', 'ind_var13_medio', 'ind_var18', 'ind_var26', 'ind_var25', 'ind_var32', 'ind_var34', 'ind_var37', 'ind_var39', 'num_var29_0', 'num_var29', 'num_var13_medio', 'num_var18', 'num_var26', 'num_var25', 'num_var32', 'num_var34', 'num_var37', 'num_var39', 'saldo_var29', 'saldo_medio_var13_medio_ult1', 'delta_num_reemb_var13_1y3', 'delta_num_reemb_var17_1y3', 'delta_num_reemb_var33_1y3', 'delta_num_trasp_var17_in_1y3', 'delta_num_trasp_var17_out_1y3', 'delta_num_trasp_var33_in_1y3', 'delta_num_trasp_var33_out_1y3']\n",
      "CPU times: user 3min 52s, sys: 1min 7s, total: 5min\n",
      "Wall time: 5min\n"
     ]
    }
   ],
   "source": [
    "%%time\n",
    "# Call to function\n",
    "duplicate_columns =dropDuplicates(train_df);\n",
    "# Print identified duplicate columns\n",
    "print(\"duplicate columns \\n :\",duplicate_columns)"
   ]
  },
  {
   "cell_type": "code",
   "execution_count": 192,
   "id": "official-optimum",
   "metadata": {},
   "outputs": [
    {
     "name": "stdout",
     "output_type": "stream",
     "text": [
      "29\n"
     ]
    }
   ],
   "source": [
    "print(len(duplicate_columns))"
   ]
  },
  {
   "cell_type": "code",
   "execution_count": 15,
   "id": "regional-maryland",
   "metadata": {},
   "outputs": [
    {
     "name": "stdout",
     "output_type": "stream",
     "text": [
      "train shape (rows, columns ) =  (76020, 308)\n"
     ]
    }
   ],
   "source": [
    "# Drop duplicate columns\n",
    "train_df.drop(duplicate_columns, axis=1, inplace = True)\n",
    "\n",
    "# print out the shape of both the datasets after dropping columns\n",
    "print(\"train shape (rows, columns ) = \",train_df.shape)"
   ]
  },
  {
   "cell_type": "code",
   "execution_count": 16,
   "id": "weird-snake",
   "metadata": {},
   "outputs": [],
   "source": [
    "# Drop ID column which is a record identifier\n",
    "train_df.drop('ID', axis=1, inplace = True)"
   ]
  },
  {
   "cell_type": "code",
   "execution_count": 17,
   "id": "intermediate-teaching",
   "metadata": {},
   "outputs": [
    {
     "name": "stdout",
     "output_type": "stream",
     "text": [
      "train shape (rows, columns ) =  (76020, 307)\n"
     ]
    }
   ],
   "source": [
    "# print out the shape of both the datasets after dropping columns\n",
    "print(\"train shape (rows, columns ) = \",train_df.shape)"
   ]
  },
  {
   "cell_type": "code",
   "execution_count": 194,
   "id": "reserved-nancy",
   "metadata": {},
   "outputs": [
    {
     "name": "stdout",
     "output_type": "stream",
     "text": [
      "Satisfied Customers =  96.04314654038411 Unsatisfied customers =  3.9568534596158904\n"
     ]
    },
    {
     "data": {
      "image/png": "[encoded data removed]",
      "text/plain": [
       "<Figure size 432x288 with 1 Axes>"
      ]
     },
     "metadata": {
      "needs_background": "light"
     },
     "output_type": "display_data"
    }
   ],
   "source": [
    "train_df.TARGET.value_counts().plot(kind='bar',color='blue')\n",
    "# Look at the target Variable distribution\n",
    "print(\"Satisfied Customers = \",100*train_df.TARGET.value_counts()[0]/train_df.shape[0],\"Unsatisfied customers = \",100*train_df.TARGET.value_counts()[1]/train_df.shape[0])"
   ]
  },
  {
   "cell_type": "markdown",
   "id": "extensive-looking",
   "metadata": {},
   "source": [
    "**Data is baised,should factor this in model development**"
   ]
  },
  {
   "cell_type": "code",
   "execution_count": 19,
   "id": "graphic-yellow",
   "metadata": {},
   "outputs": [
    {
     "data": {
      "text/plain": [
       "Series([], dtype: float64)"
      ]
     },
     "execution_count": 19,
     "metadata": {},
     "output_type": "execute_result"
    }
   ],
   "source": [
    "# Chekc if any variables has null values\n",
    "# Store in temporary dataset, as we can't view all columns with Jupyter limitations\n",
    "Ds = train_df.isnull().sum()/train_df.shape[0]\n",
    "# Filter only variables with atlest one null value\n",
    "Ds[Ds > 1]"
   ]
  },
  {
   "cell_type": "markdown",
   "id": "supported-router",
   "metadata": {},
   "source": [
    "*No null values in the dataset*"
   ]
  },
  {
   "cell_type": "markdown",
   "id": "reasonable-crawford",
   "metadata": {},
   "source": [
    "c300 features in our training dataset, this would imply lot of cost on model development and training\n",
    "Hence, we would be apply dimentionaly reduction methods to choose the top best features which helps us to predict in variation in target variable"
   ]
  },
  {
   "cell_type": "markdown",
   "id": "according-spanish",
   "metadata": {},
   "source": [
    "There are many dimentionality reduction methods such as PCA, SelectKbest, Chi-Square..etc. We would be using ExtraTreesClassifier to choose the best features based on importance"
   ]
  },
  {
   "cell_type": "markdown",
   "id": "accepting-platform",
   "metadata": {},
   "source": [
    "**Overview of ExtraTreesClassifier** \\\n",
    "Extremely Randomized Trees Classifier(Extra Trees Classifier) is a type of ensemble learning technique which aggregates the results of multiple de-correlated decision trees collected in a “forest” to output it’s classification result. In concept, it is very similar to a Random Forest Classifier and only differs from it in the manner of construction of the decision trees in the forest. (source - geeksforgeeks.org) \\\n",
    "\n",
    "ExtraTreeClassifer Module - https://scikit-learn.org/stable/modules/generated/sklearn.ensemble.ExtraTreesClassifier.html"
   ]
  },
  {
   "cell_type": "code",
   "execution_count": 196,
   "id": "computational-irrigation",
   "metadata": {},
   "outputs": [
    {
     "data": {
      "image/png": "[encoded data removed]",
      "text/plain": [
       "<Figure size 1080x576 with 1 Axes>"
      ]
     },
     "metadata": {
      "needs_background": "light"
     },
     "output_type": "display_data"
    }
   ],
   "source": [
    "## # Feature selection with ExtraTreesClassifier\n",
    "clf = ExtraTreesClassifier(random_state = 69)\n",
    "selector = clf.fit(train_df.drop(['TARGET'],axis=1),train_df['TARGET'])\n",
    "\n",
    "# plot most important features\n",
    "feat_imp = pd.Series(clf.feature_importances_, index = train_df.drop(['TARGET'],axis=1).columns.values).sort_values(ascending = False)\n",
    "# Visualise Top 50 features\n",
    "feat_imp[:50].plot(kind = 'bar', title = 'Feature Importances according to algorithm', \n",
    "                   figsize = (15, 8))\n",
    "plt.ylabel('Feature Importance Score')\n",
    "plt.subplots_adjust(bottom = 0.3)\n",
    "plt.savefig('Featureimportance.png')\n",
    "plt.show()"
   ]
  },
  {
   "cell_type": "code",
   "execution_count": 21,
   "id": "drawn-oxide",
   "metadata": {},
   "outputs": [
    {
     "data": {
      "image/png": "[encoded data removed]",
      "text/plain": [
       "<Figure size 864x432 with 1 Axes>"
      ]
     },
     "metadata": {
      "needs_background": "light"
     },
     "output_type": "display_data"
    }
   ],
   "source": [
    "# Let's explore Var38 as it's having high feature importance score\n",
    "plt.figure(figsize=(12,6))\n",
    "plt.hist(train_df['var38'],bins=20)\n",
    "plt.xlabel('var38')\n",
    "plt.show()"
   ]
  },
  {
   "cell_type": "code",
   "execution_count": 22,
   "id": "running-aurora",
   "metadata": {},
   "outputs": [
    {
     "name": "stdout",
     "output_type": "stream",
     "text": [
      "Minimum of Var38: 5163.75 \n",
      "Maximum of Var38: 22034738.76\n"
     ]
    }
   ],
   "source": [
    "## Seems this feature has few big values - let's find out Max and Minimum\n",
    "print(\"Minimum of Var38:\",train_df.var38.min(),\"\\nMaximum of Var38:\",train_df.var38.max())"
   ]
  },
  {
   "cell_type": "code",
   "execution_count": 197,
   "id": "numerous-timer",
   "metadata": {},
   "outputs": [
    {
     "name": "stdout",
     "output_type": "stream",
     "text": [
      "Standard deviation of Var38: 182664.59850288328\n"
     ]
    }
   ],
   "source": [
    "## Find out standard deviation of var38.\n",
    "print(\"Standard deviation of Var38:\",train_df.var38.std())"
   ]
  },
  {
   "cell_type": "code",
   "execution_count": 23,
   "id": "occupied-mozambique",
   "metadata": {},
   "outputs": [
    {
     "data": {
      "image/png": "[encoded data removed]",
      "text/plain": [
       "<Figure size 864x432 with 1 Axes>"
      ]
     },
     "metadata": {
      "needs_background": "light"
     },
     "output_type": "display_data"
    }
   ],
   "source": [
    "## Data is skewed due to high values for this feature, let's apply log and view\n",
    "plt.figure(figsize=(12,6))\n",
    "plt.hist(np.log(train_df['var38']),bins=20)\n",
    "plt.xlabel('var38')\n",
    "plt.title(\"logarithm of Var38 - distribution\")\n",
    "plt.show()"
   ]
  },
  {
   "cell_type": "code",
   "execution_count": 198,
   "id": "judicial-motel",
   "metadata": {},
   "outputs": [
    {
     "name": "stdout",
     "output_type": "stream",
     "text": [
      "Minimum of var15: 5 \n",
      "Maximum of Var38: 105\n",
      "Standard deviation of var15: 12.956485816413004\n"
     ]
    },
    {
     "data": {
      "image/png": "[encoded data removed]",
      "text/plain": [
       "<Figure size 864x432 with 1 Axes>"
      ]
     },
     "metadata": {
      "needs_background": "light"
     },
     "output_type": "display_data"
    }
   ],
   "source": [
    "# Let's explore Var15 as it's having second highest feature importance score\n",
    "print(\"Minimum of var15:\",train_df.var15.min(),\"\\nMaximum of Var38:\",train_df.var15.max())\n",
    "print(\"Standard deviation of var15:\",train_df.var15.std())\n",
    "plt.figure(figsize=(12,6))\n",
    "plt.hist(train_df['var15'],bins=20,density = True, stacked = True)\n",
    "plt.xlabel('var15')\n",
    "plt.show()"
   ]
  },
  {
   "cell_type": "markdown",
   "id": "starting-royal",
   "metadata": {},
   "source": [
    "*Look, this variable represents age of a customer*"
   ]
  },
  {
   "cell_type": "code",
   "execution_count": 199,
   "id": "novel-jerusalem",
   "metadata": {},
   "outputs": [
    {
     "data": {
      "image/png": "[encoded data removed]",
      "text/plain": [
       "<Figure size 864x432 with 1 Axes>"
      ]
     },
     "metadata": {
      "needs_background": "light"
     },
     "output_type": "display_data"
    }
   ],
   "source": [
    "# Let's distribute this plot by target\n",
    "plt.figure(figsize=(12,6))\n",
    "x1 = train_df.loc[train_df.TARGET==1, 'var15']\n",
    "x2 = train_df.loc[train_df.TARGET==0, 'var15']\n",
    "plt.hist(x1,bins=20,alpha =1,color='r', label='Unsatisfied Customers')\n",
    "plt.hist(x2,bins=20,alpha =0.3,color='g', label='Satisfied Customers')\n",
    "plt.xlabel('var15')\n",
    "plt.legend()\n",
    "plt.show()"
   ]
  },
  {
   "cell_type": "markdown",
   "id": "ecological-jason",
   "metadata": {},
   "source": [
    "Unsatisfied Customers are spread over from age 25 to 70. But Customer satisfcation levels are good in age old customers compare to middle age"
   ]
  },
  {
   "cell_type": "code",
   "execution_count": 86,
   "id": "ambient-renaissance",
   "metadata": {},
   "outputs": [],
   "source": [
    "# Select top 40 features for model development , as these features collectively explain the decent variance in target variable;\n",
    "Top_Features = feat_imp[:40].index.to_list()"
   ]
  },
  {
   "cell_type": "code",
   "execution_count": 87,
   "id": "specific-blogger",
   "metadata": {},
   "outputs": [
    {
     "data": {
      "text/plain": [
       "['var38',\n",
       " 'var15',\n",
       " 'saldo_medio_var5_hace3',\n",
       " 'saldo_medio_var5_ult3',\n",
       " 'num_var45_ult3',\n",
       " 'num_var45_hace3',\n",
       " 'num_var45_hace2',\n",
       " 'num_var22_ult3',\n",
       " 'saldo_medio_var5_hace2',\n",
       " 'num_var45_ult1',\n",
       " 'num_med_var45_ult3',\n",
       " 'saldo_medio_var5_ult1',\n",
       " 'saldo_var30',\n",
       " 'saldo_var42',\n",
       " 'num_var22_hace3',\n",
       " 'num_var22_hace2',\n",
       " 'num_meses_var5_ult3',\n",
       " 'saldo_var5',\n",
       " 'var36',\n",
       " 'num_var22_ult1',\n",
       " 'num_meses_var39_vig_ult3',\n",
       " 'ind_var30',\n",
       " 'num_med_var22_ult3',\n",
       " 'ind_var5',\n",
       " 'imp_op_var41_comer_ult3',\n",
       " 'imp_op_var39_efect_ult3',\n",
       " 'imp_op_var41_ult1',\n",
       " 'imp_op_var39_ult1',\n",
       " 'imp_op_var41_efect_ult3',\n",
       " 'imp_op_var39_comer_ult3',\n",
       " 'num_op_var41_ult3',\n",
       " 'num_op_var39_ult3',\n",
       " 'num_ent_var16_ult1',\n",
       " 'imp_trans_var37_ult1',\n",
       " 'imp_ent_var16_ult1',\n",
       " 'var3',\n",
       " 'num_op_var41_comer_ult3',\n",
       " 'imp_op_var41_comer_ult1',\n",
       " 'num_op_var39_comer_ult3',\n",
       " 'num_op_var41_hace2']"
      ]
     },
     "execution_count": 87,
     "metadata": {},
     "output_type": "execute_result"
    }
   ],
   "source": [
    "Top_Features"
   ]
  },
  {
   "cell_type": "markdown",
   "id": "settled-belfast",
   "metadata": {},
   "source": [
    "### Now this data is ready for modelling"
   ]
  },
  {
   "cell_type": "code",
   "execution_count": 88,
   "id": "sharp-drill",
   "metadata": {},
   "outputs": [],
   "source": [
    "## Split the data for train/Validation - as given test data would be used only for submission.\n",
    "from sklearn.model_selection import train_test_split"
   ]
  },
  {
   "cell_type": "code",
   "execution_count": 89,
   "id": "wicked-mandate",
   "metadata": {},
   "outputs": [],
   "source": [
    "#Step 1- split the data to train and test with 80:20%\n",
    "#Let's choose stratified sampling based on target variale as our data is baised\n",
    "X_train, X_test, y_train, y_test = train_test_split(train_df[Top_Features], train_df['TARGET'], test_size=0.20,stratify = train_df.TARGET, random_state=42)"
   ]
  },
  {
   "cell_type": "code",
   "execution_count": 90,
   "id": "revised-contents",
   "metadata": {},
   "outputs": [],
   "source": [
    "#Step 2- further split the train data to train and validation with 80:20%\n",
    "# our final datsets would be train -60% validation - 20% test- 20%\n",
    "X_train, X_validation, y_train, y_validation = train_test_split(X_train, y_train,test_size=0.20,stratify = y_train, random_state=42)"
   ]
  },
  {
   "cell_type": "code",
   "execution_count": 91,
   "id": "distinguished-promotion",
   "metadata": {},
   "outputs": [
    {
     "data": {
      "text/plain": [
       "0    46727\n",
       "1     1925\n",
       "Name: TARGET, dtype: int64"
      ]
     },
     "execution_count": 91,
     "metadata": {},
     "output_type": "execute_result"
    }
   ],
   "source": [
    "y_train.value_counts()"
   ]
  },
  {
   "cell_type": "code",
   "execution_count": 92,
   "id": "quiet-static",
   "metadata": {},
   "outputs": [
    {
     "name": "stdout",
     "output_type": "stream",
     "text": [
      "Unsatisfied Customers % in training dataset 3.9566718737153663 % in validation dataset =  3.9542913515291023 % in validation dataset =  3.9594843462246776\n"
     ]
    }
   ],
   "source": [
    "print(\"Unsatisfied Customers % in training dataset\",100*y_train.value_counts()[1]/y_train.shape[0],\\\n",
    "      \"% in validation dataset = \",100*y_validation.value_counts()[1]/y_validation.shape[0],\\\n",
    "      \"% in validation dataset = \",100*y_test.value_counts()[1]/y_test.shape[0])"
   ]
  },
  {
   "cell_type": "code",
   "execution_count": 93,
   "id": "express-brown",
   "metadata": {},
   "outputs": [],
   "source": [
    "# Split looks good"
   ]
  },
  {
   "cell_type": "code",
   "execution_count": 94,
   "id": "specific-copying",
   "metadata": {},
   "outputs": [
    {
     "name": "stdout",
     "output_type": "stream",
     "text": [
      "Training data points:  48652\n",
      "Validation data points:  12164\n"
     ]
    }
   ],
   "source": [
    "print('Training data points: ', len(X_train))\n",
    "print('Validation data points: ', len(X_validation))"
   ]
  },
  {
   "cell_type": "code",
   "execution_count": 95,
   "id": "fleet-intensity",
   "metadata": {},
   "outputs": [
    {
     "name": "stdout",
     "output_type": "stream",
     "text": [
      "arn:aws:iam::160557104793:role/service-role/AmazonSageMaker-ExecutionRole-20210110T103928\n"
     ]
    }
   ],
   "source": [
    "# Sagemaker role, session details;\n",
    "from sagemaker import get_execution_role\n",
    "\n",
    "session = sagemaker.Session() # store the current SageMaker session\n",
    "\n",
    "# get IAM role\n",
    "role = get_execution_role()\n",
    "print(role)"
   ]
  },
  {
   "cell_type": "code",
   "execution_count": 96,
   "id": "second-chemistry",
   "metadata": {},
   "outputs": [
    {
     "name": "stdout",
     "output_type": "stream",
     "text": [
      "sagemaker-ap-south-1-160557104793\n"
     ]
    }
   ],
   "source": [
    "# get default bucket\n",
    "bucket_name = session.default_bucket()\n",
    "print(bucket_name)"
   ]
  },
  {
   "cell_type": "code",
   "execution_count": 97,
   "id": "brilliant-likelihood",
   "metadata": {},
   "outputs": [
    {
     "name": "stdout",
     "output_type": "stream",
     "text": [
      "Training artifacts will be uploaded to: s3://sagemaker-ap-south-1-160557104793/customer_satisfaction/\n"
     ]
    }
   ],
   "source": [
    "# define location to store model artifacts\n",
    "prefix = 'customer_satisfaction'\n",
    "\n",
    "output_path='s3://{}/{}/'.format(bucket_name, prefix)\n",
    "\n",
    "print('Training artifacts will be uploaded to: {}'.format(output_path))"
   ]
  },
  {
   "cell_type": "markdown",
   "id": "prompt-spider",
   "metadata": {},
   "source": [
    "Amazon SageMaker's XGBoost container expects data in the libSVM or CSV data format. For this example, we'll stick to CSV. Note that the first column must be the target variable and the CSV should not include headers."
   ]
  },
  {
   "cell_type": "code",
   "execution_count": 98,
   "id": "middle-housing",
   "metadata": {},
   "outputs": [],
   "source": [
    "# Training dataframe\n",
    "pd.concat([y_train,X_train], axis=1).to_csv('train.csv', index=False, header=False)"
   ]
  },
  {
   "cell_type": "code",
   "execution_count": 99,
   "id": "continental-cooking",
   "metadata": {},
   "outputs": [],
   "source": [
    "#Validation dataframe\n",
    "pd.concat([y_validation,X_validation], axis=1).to_csv('validation.csv', index=False, header=False)"
   ]
  },
  {
   "cell_type": "code",
   "execution_count": 100,
   "id": "comprehensive-prescription",
   "metadata": {},
   "outputs": [
    {
     "data": {
      "text/plain": [
       "'s3://sagemaker-ap-south-1-160557104793/customer_satisfaction/validation/validation.csv/validation.csv'"
      ]
     },
     "execution_count": 100,
     "metadata": {},
     "output_type": "execute_result"
    }
   ],
   "source": [
    "# Upload to S3\n",
    "session.upload_data(path='train.csv', bucket=bucket_name, key_prefix=prefix+'/train/train.csv')\n",
    "session.upload_data(path='validation.csv', bucket=bucket_name, key_prefix=prefix+'/validation/validation.csv')"
   ]
  },
  {
   "cell_type": "code",
   "execution_count": 101,
   "id": "increasing-respondent",
   "metadata": {},
   "outputs": [],
   "source": [
    "# we'll create s3_inputs that our training function can use as a pointer to the files in S3\n",
    "from sagemaker.inputs import TrainingInput\n",
    "s3_input_train = TrainingInput(s3_data='s3://{}/{}/train'.format(bucket_name, prefix), content_type='csv')\n",
    "s3_input_validation = TrainingInput(s3_data='s3://{}/{}/validation/'.format(bucket_name, prefix), content_type='csv')"
   ]
  },
  {
   "cell_type": "code",
   "execution_count": 102,
   "id": "vulnerable-concern",
   "metadata": {},
   "outputs": [],
   "source": [
    "# Training parameters - XGboost\n",
    "from sagemaker import image_uris\n",
    "container = image_uris.retrieve('xgboost', boto3.Session().region_name, '1.2-1' )"
   ]
  },
  {
   "cell_type": "code",
   "execution_count": 112,
   "id": "atmospheric-spiritual",
   "metadata": {},
   "outputs": [],
   "source": [
    "# Load Estimator\n",
    "from sagemaker.estimator import Estimator"
   ]
  },
  {
   "cell_type": "code",
   "execution_count": 172,
   "id": "hired-surfing",
   "metadata": {},
   "outputs": [],
   "source": [
    "# Create XGboost model\n",
    "xgb = Estimator(container,\n",
    "                role,\n",
    "                instance_count=1,\n",
    "                instance_type='ml.m4.xlarge',\n",
    "                output_path='s3://{}/{}/output'.format(bucket_name, prefix))\n",
    "\n",
    "xgb.set_hyperparameters( max_depth=5,\n",
    "                         min_child_weight=1,\n",
    "                         gamma= 0,\n",
    "                         subsample= 0.8,\n",
    "                         colsample_bytree= 0.8,\n",
    "                         objective= 'binary:logistic',\n",
    "                         nthread=4,\n",
    "                         eval_metric ='auc',\n",
    "                         scale_pos_weight=0.396,\n",
    "                         seed=4242,\n",
    "                         num_round=30)\n",
    "# scale_pos_weight - 0.396 represents % of unsatisfied customers in our train dataset\n",
    "# after few experimentations - decided with this hyperparameters set"
   ]
  },
  {
   "cell_type": "code",
   "execution_count": 173,
   "id": "soviet-bristol",
   "metadata": {},
   "outputs": [
    {
     "name": "stdout",
     "output_type": "stream",
     "text": [
      "2021-02-28 13:25:44 Starting - Starting the training job...\n",
      "2021-02-28 13:26:07 Starting - Launching requested ML instancesProfilerReport-1614518743: InProgress\n",
      "......\n",
      "2021-02-28 13:27:08 Starting - Preparing the instances for training.........\n",
      "2021-02-28 13:28:29 Downloading - Downloading input data\n",
      "2021-02-28 13:28:29 Training - Downloading the training image.....\u001b[34m[2021-02-28 13:29:20.580 ip-10-0-113-175.ap-south-1.compute.internal:1 INFO utils.py:27] RULE_JOB_STOP_SIGNAL_FILENAME: None\u001b[0m\n",
      "\u001b[34mINFO:sagemaker-containers:Imported framework sagemaker_xgboost_container.training\u001b[0m\n",
      "\u001b[34mINFO:sagemaker-containers:Failed to parse hyperparameter eval_metric value auc to Json.\u001b[0m\n",
      "\u001b[34mReturning the value itself\u001b[0m\n",
      "\u001b[34mINFO:sagemaker-containers:Failed to parse hyperparameter objective value binary:logistic to Json.\u001b[0m\n",
      "\u001b[34mReturning the value itself\u001b[0m\n",
      "\u001b[34mINFO:sagemaker-containers:No GPUs detected (normal if no gpus installed)\u001b[0m\n",
      "\u001b[34mINFO:sagemaker_xgboost_container.training:Running XGBoost Sagemaker in algorithm mode\u001b[0m\n",
      "\u001b[34mINFO:root:Determined delimiter of CSV input is ','\u001b[0m\n",
      "\u001b[34mINFO:root:Determined delimiter of CSV input is ','\u001b[0m\n",
      "\u001b[34mINFO:root:Determined delimiter of CSV input is ','\u001b[0m\n",
      "\u001b[34mINFO:root:Determined delimiter of CSV input is ','\u001b[0m\n",
      "\u001b[34mINFO:root:Single node training.\u001b[0m\n",
      "\u001b[34mINFO:root:Train matrix has 48652 rows\u001b[0m\n",
      "\u001b[34mINFO:root:Validation matrix has 12164 rows\u001b[0m\n",
      "\u001b[34m[0]#011train-auc:0.71421#011validation-auc:0.73391\u001b[0m\n",
      "\u001b[34m[1]#011train-auc:0.78290#011validation-auc:0.79741\u001b[0m\n",
      "\u001b[34m[2]#011train-auc:0.80459#011validation-auc:0.81586\u001b[0m\n",
      "\u001b[34m[3]#011train-auc:0.80759#011validation-auc:0.81945\u001b[0m\n",
      "\u001b[34m[4]#011train-auc:0.81498#011validation-auc:0.82633\u001b[0m\n",
      "\u001b[34m[5]#011train-auc:0.82291#011validation-auc:0.83179\u001b[0m\n",
      "\u001b[34m[6]#011train-auc:0.82896#011validation-auc:0.83439\u001b[0m\n",
      "\u001b[34m[7]#011train-auc:0.83106#011validation-auc:0.83361\u001b[0m\n",
      "\u001b[34m[8]#011train-auc:0.83122#011validation-auc:0.83138\u001b[0m\n",
      "\u001b[34m[9]#011train-auc:0.84003#011validation-auc:0.83542\u001b[0m\n",
      "\u001b[34m[10]#011train-auc:0.84501#011validation-auc:0.83919\u001b[0m\n",
      "\u001b[34m[11]#011train-auc:0.84799#011validation-auc:0.83934\u001b[0m\n",
      "\u001b[34m[12]#011train-auc:0.85088#011validation-auc:0.84208\u001b[0m\n",
      "\u001b[34m[13]#011train-auc:0.85265#011validation-auc:0.84106\u001b[0m\n",
      "\u001b[34m[14]#011train-auc:0.85521#011validation-auc:0.84196\u001b[0m\n",
      "\u001b[34m[15]#011train-auc:0.85739#011validation-auc:0.84222\u001b[0m\n",
      "\u001b[34m[16]#011train-auc:0.85940#011validation-auc:0.84176\u001b[0m\n",
      "\u001b[34m[17]#011train-auc:0.86131#011validation-auc:0.84080\u001b[0m\n",
      "\u001b[34m[18]#011train-auc:0.86197#011validation-auc:0.84104\u001b[0m\n",
      "\u001b[34m[19]#011train-auc:0.86442#011validation-auc:0.84163\u001b[0m\n",
      "\u001b[34m[20]#011train-auc:0.86539#011validation-auc:0.84153\u001b[0m\n",
      "\u001b[34m[21]#011train-auc:0.86679#011validation-auc:0.84145\u001b[0m\n",
      "\u001b[34m[22]#011train-auc:0.86769#011validation-auc:0.84166\u001b[0m\n",
      "\u001b[34m[23]#011train-auc:0.86853#011validation-auc:0.84035\u001b[0m\n",
      "\u001b[34m[24]#011train-auc:0.86954#011validation-auc:0.84028\u001b[0m\n",
      "\u001b[34m[25]#011train-auc:0.87143#011validation-auc:0.84052\u001b[0m\n",
      "\u001b[34m[26]#011train-auc:0.87271#011validation-auc:0.84045\u001b[0m\n",
      "\u001b[34m[27]#011train-auc:0.87388#011validation-auc:0.84011\u001b[0m\n",
      "\u001b[34m[28]#011train-auc:0.87498#011validation-auc:0.83999\u001b[0m\n",
      "\u001b[34m[29]#011train-auc:0.87623#011validation-auc:0.83946\u001b[0m\n",
      "\n",
      "2021-02-28 13:29:30 Training - Training image download completed. Training in progress.\n",
      "2021-02-28 13:30:10 Uploading - Uploading generated training model\n",
      "2021-02-28 13:30:10 Completed - Training job completed\n",
      "Training seconds: 103\n",
      "Billable seconds: 103\n"
     ]
    }
   ],
   "source": [
    "# Fit XGboost model\n",
    "xgb.fit({'train': s3_input_train, 'validation': s3_input_validation})"
   ]
  },
  {
   "cell_type": "code",
   "execution_count": 174,
   "id": "worse-rally",
   "metadata": {},
   "outputs": [
    {
     "name": "stdout",
     "output_type": "stream",
     "text": [
      "---------------!"
     ]
    }
   ],
   "source": [
    "# Deploy XGboost model\n",
    "xgb_predictor = xgb.deploy(initial_instance_count=1,\n",
    "                           instance_type='ml.m4.xlarge')"
   ]
  },
  {
   "cell_type": "code",
   "execution_count": 175,
   "id": "controlling-episode",
   "metadata": {},
   "outputs": [],
   "source": [
    "#Our data is currently stored as NumPy arrays in memory of our notebook instance, let's serialise the data to pass our testdata to predict probability \n",
    "from sagemaker.serializers import CSVSerializer\n",
    "xgb_predictor.serializer = CSVSerializer()"
   ]
  },
  {
   "cell_type": "code",
   "execution_count": 176,
   "id": "senior-display",
   "metadata": {},
   "outputs": [],
   "source": [
    "# Convert our test data to  mini-batches to CSV string payloads and collect predictions\n",
    "def predict(data, rows=500):\n",
    "    split_array = np.array_split(data, int(data.shape[0] / float(rows) + 1))\n",
    "    predictions = ''\n",
    "    for array in split_array:\n",
    "        predictions = ','.join([predictions, xgb_predictor.predict(array).decode('utf-8')])\n",
    "\n",
    "    return np.fromstring(predictions[1:], sep=',')\n",
    "\n",
    "predictions = predict(X_validation.values)"
   ]
  },
  {
   "cell_type": "code",
   "execution_count": 208,
   "id": "seasonal-border",
   "metadata": {},
   "outputs": [
    {
     "data": {
      "image/png": "[encoded data removed]",
      "text/plain": [
       "<Figure size 1152x576 with 1 Axes>"
      ]
     },
     "metadata": {
      "needs_background": "light"
     },
     "output_type": "display_data"
    }
   ],
   "source": [
    "# Let's plot ROC and calculate AUC\n",
    "import sklearn.metrics as metrics\n",
    "#Calculate FPR and TPR for all thresholds\n",
    "fpr, tpr, threshold = metrics.roc_curve(y_validation, predictions)\n",
    "roc_auc = metrics.auc(fpr, tpr)\n",
    "# Plotting the ROC curve\n",
    "import matplotlib.pyplot as plt\n",
    "fig, ax = plt.subplots(figsize = (16, 8))\n",
    "plt.title('Receiver Operating Characteristic', fontsize=18)\n",
    "plt.plot(fpr, tpr, 'b', label = 'AUC = %0.4f' % roc_auc)\n",
    "ax.spines['top'].set_visible(False)\n",
    "ax.spines['right'].set_visible(False)\n",
    "plt.legend(loc = 'upper left', fontsize = 16)\n",
    "plt.plot([0, 1], [0, 1],'r--')\n",
    "plt.ylabel('True Positive Rate', fontsize = 16)\n",
    "plt.xlabel('False Positive Rate', fontsize = 16)\n",
    "plt.show()"
   ]
  },
  {
   "cell_type": "code",
   "execution_count": 178,
   "id": "sonic-vocabulary",
   "metadata": {},
   "outputs": [],
   "source": [
    "# Prepare the data for submission"
   ]
  },
  {
   "cell_type": "code",
   "execution_count": 179,
   "id": "interested-chain",
   "metadata": {},
   "outputs": [],
   "source": [
    "submission_prediction = predict(test_submission[Top_Features].values)"
   ]
  },
  {
   "cell_type": "code",
   "execution_count": 180,
   "id": "dramatic-judge",
   "metadata": {},
   "outputs": [],
   "source": [
    "pd.DataFrame(submission_prediction, index = [test_submission.ID], columns = ['TARGET']).to_csv('submission.csv')"
   ]
  },
  {
   "cell_type": "code",
   "execution_count": 184,
   "id": "french-enemy",
   "metadata": {},
   "outputs": [],
   "source": [
    "xgb_predictor.delete_endpoint()"
   ]
  },
  {
   "cell_type": "markdown",
   "id": "directed-sailing",
   "metadata": {},
   "source": [
    "# Linear Learner"
   ]
  },
  {
   "cell_type": "code",
   "execution_count": 154,
   "id": "transsexual-uganda",
   "metadata": {},
   "outputs": [
    {
     "name": "stderr",
     "output_type": "stream",
     "text": [
      "train_instance_count has been renamed in sagemaker>=2.\n",
      "See: https://sagemaker.readthedocs.io/en/stable/v2.html for details.\n",
      "train_instance_type has been renamed in sagemaker>=2.\n",
      "See: https://sagemaker.readthedocs.io/en/stable/v2.html for details.\n"
     ]
    }
   ],
   "source": [
    "# import LinearLearner\n",
    "from sagemaker import LinearLearner\n",
    "# instantiate LinearLearner\n",
    "# Option 1\n",
    "#\n",
    "#linear = LinearLearner(role=role,\n",
    "#                       train_instance_count=1, \n",
    "#                       train_instance_type='ml.c4.xlarge',\n",
    "#                       predictor_type='binary_classifier',\n",
    "#                       output_path=output_path,\n",
    "#                       sagemaker_session=session,\n",
    "#                       epochs=15) */\n",
    "# Option 2\n",
    "#linear = LinearLearner(role=role,\n",
    "#                                train_instance_count=1, \n",
    "#                                train_instance_type='ml.c4.xlarge',\n",
    "#                                predictor_type='binary_classifier',\n",
    "#                                output_path=output_path,\n",
    "#                                sagemaker_session=session,\n",
    "#                                epochs=15,\n",
    "#                                binary_classifier_model_selection_criteria='f_beta',\n",
    "#                                positive_example_weight_mult='balanced')\n",
    "\n",
    "# Option 3\n",
    "linear = LinearLearner(role=role,\n",
    "                                train_instance_count=1, \n",
    "                                train_instance_type='ml.c4.xlarge',\n",
    "                                predictor_type='binary_classifier',\n",
    "                                output_path=output_path,\n",
    "                                sagemaker_session=session,\n",
    "                                epochs=15,\n",
    "                                binary_classifier_model_selection_criteria='f_beta',\n",
    "                                positive_example_weight_mult='auto')"
   ]
  },
  {
   "cell_type": "code",
   "execution_count": 156,
   "id": "coupled-charleston",
   "metadata": {},
   "outputs": [],
   "source": [
    "# convert features/labels to numpy\n",
    "# Since we dont need validation data specifacally for Linear learner, let's devide the data again into test and train split\n",
    "#Let's choose stratified sampling based on target variale as our data is baised\n",
    "X_train_ls, X_test_ls, y_train_ls, y_test_ls = train_test_split(train_df[Top_Features], train_df['TARGET'], test_size=0.30,stratify = train_df.TARGET, random_state=42)\n",
    "# Convert data into numpy;\n",
    "train_x_np = X_train_ls.values.astype('float32')\n",
    "train_y_np = y_train_ls.values.astype('float32')\n",
    "# create RecordSet\n",
    "formatted_train_data = linear.record_set(train_x_np, labels=train_y_np)"
   ]
  },
  {
   "cell_type": "code",
   "execution_count": 157,
   "id": "supposed-drill",
   "metadata": {},
   "outputs": [
    {
     "name": "stderr",
     "output_type": "stream",
     "text": [
      "Defaulting to the only supported framework/algorithm version: 1. Ignoring framework/algorithm version: 1.\n",
      "Defaulting to the only supported framework/algorithm version: 1. Ignoring framework/algorithm version: 1.\n"
     ]
    },
    {
     "name": "stdout",
     "output_type": "stream",
     "text": [
      "2021-02-28 13:05:41 Starting - Starting the training job...\n",
      "2021-02-28 13:06:06 Starting - Launching requested ML instancesProfilerReport-1614517541: InProgress\n",
      "......\n",
      "2021-02-28 13:07:07 Starting - Preparing the instances for training......\n",
      "2021-02-28 13:08:12 Downloading - Downloading input data...\n",
      "2021-02-28 13:08:30 Training - Downloading the training image..\u001b[34mDocker entrypoint called with argument(s): train\u001b[0m\n",
      "\u001b[34mRunning default environment configuration script\u001b[0m\n",
      "\u001b[34m[02/28/2021 13:08:53 INFO 139728157366080] Reading default configuration from /opt/amazon/lib/python2.7/site-packages/algorithm/resources/default-input.json: {u'loss_insensitivity': u'0.01', u'epochs': u'15', u'feature_dim': u'auto', u'init_bias': u'0.0', u'lr_scheduler_factor': u'auto', u'num_calibration_samples': u'10000000', u'accuracy_top_k': u'3', u'_num_kv_servers': u'auto', u'use_bias': u'true', u'num_point_for_scaler': u'10000', u'_log_level': u'info', u'quantile': u'0.5', u'bias_lr_mult': u'auto', u'lr_scheduler_step': u'auto', u'init_method': u'uniform', u'init_sigma': u'0.01', u'lr_scheduler_minimum_lr': u'auto', u'target_recall': u'0.8', u'num_models': u'auto', u'early_stopping_patience': u'3', u'momentum': u'auto', u'unbias_label': u'auto', u'wd': u'auto', u'optimizer': u'auto', u'_tuning_objective_metric': u'', u'early_stopping_tolerance': u'0.001', u'learning_rate': u'auto', u'_kvstore': u'auto', u'normalize_data': u'true', u'binary_classifier_model_selection_criteria': u'accuracy', u'use_lr_scheduler': u'true', u'target_precision': u'0.8', u'unbias_data': u'auto', u'init_scale': u'0.07', u'bias_wd_mult': u'auto', u'f_beta': u'1.0', u'mini_batch_size': u'1000', u'huber_delta': u'1.0', u'num_classes': u'1', u'beta_1': u'auto', u'loss': u'auto', u'beta_2': u'auto', u'_enable_profiler': u'false', u'normalize_label': u'auto', u'_num_gpus': u'auto', u'balance_multiclass_weights': u'false', u'positive_example_weight_mult': u'1.0', u'l1': u'auto', u'margin': u'1.0'}\u001b[0m\n",
      "\u001b[34m[02/28/2021 13:08:53 INFO 139728157366080] Merging with provided configuration from /opt/ml/input/config/hyperparameters.json: {u'predictor_type': u'binary_classifier', u'feature_dim': u'40', u'binary_classifier_model_selection_criteria': u'f_beta', u'epochs': u'15', u'positive_example_weight_mult': u'auto', u'mini_batch_size': u'1000'}\u001b[0m\n",
      "\u001b[34m[02/28/2021 13:08:53 INFO 139728157366080] Final configuration: {u'loss_insensitivity': u'0.01', u'epochs': u'15', u'feature_dim': u'40', u'init_bias': u'0.0', u'lr_scheduler_factor': u'auto', u'num_calibration_samples': u'10000000', u'accuracy_top_k': u'3', u'_num_kv_servers': u'auto', u'use_bias': u'true', u'num_point_for_scaler': u'10000', u'_log_level': u'info', u'quantile': u'0.5', u'bias_lr_mult': u'auto', u'lr_scheduler_step': u'auto', u'init_method': u'uniform', u'init_sigma': u'0.01', u'lr_scheduler_minimum_lr': u'auto', u'target_recall': u'0.8', u'num_models': u'auto', u'early_stopping_patience': u'3', u'momentum': u'auto', u'unbias_label': u'auto', u'wd': u'auto', u'optimizer': u'auto', u'_tuning_objective_metric': u'', u'early_stopping_tolerance': u'0.001', u'learning_rate': u'auto', u'_kvstore': u'auto', u'normalize_data': u'true', u'binary_classifier_model_selection_criteria': u'f_beta', u'use_lr_scheduler': u'true', u'target_precision': u'0.8', u'unbias_data': u'auto', u'init_scale': u'0.07', u'bias_wd_mult': u'auto', u'f_beta': u'1.0', u'mini_batch_size': u'1000', u'huber_delta': u'1.0', u'num_classes': u'1', u'predictor_type': u'binary_classifier', u'beta_1': u'auto', u'loss': u'auto', u'beta_2': u'auto', u'_enable_profiler': u'false', u'normalize_label': u'auto', u'_num_gpus': u'auto', u'balance_multiclass_weights': u'false', u'positive_example_weight_mult': u'auto', u'l1': u'auto', u'margin': u'1.0'}\u001b[0m\n",
      "\u001b[34m[02/28/2021 13:08:53 WARNING 139728157366080] Loggers have already been setup.\u001b[0m\n",
      "\u001b[34mProcess 1 is a worker.\u001b[0m\n",
      "\u001b[34m[02/28/2021 13:08:53 INFO 139728157366080] Using default worker.\u001b[0m\n",
      "\u001b[34m[02/28/2021 13:08:54 INFO 139728157366080] Checkpoint loading and saving are disabled.\u001b[0m\n",
      "\u001b[34m[2021-02-28 13:08:54.186] [tensorio] [info] epoch_stats={\"data_pipeline\": \"/opt/ml/input/data/train\", \"epoch\": 0, \"duration\": 21, \"num_examples\": 1, \"num_bytes\": 208000}\u001b[0m\n",
      "\u001b[34m[02/28/2021 13:08:54 INFO 139728157366080] Create Store: local\u001b[0m\n",
      "\u001b[34m[2021-02-28 13:08:54.281] [tensorio] [info] epoch_stats={\"data_pipeline\": \"/opt/ml/input/data/train\", \"epoch\": 1, \"duration\": 94, \"num_examples\": 11, \"num_bytes\": 2288000}\u001b[0m\n",
      "\u001b[34m[02/28/2021 13:08:54 INFO 139728157366080] Scaler algorithm parameters\n",
      " <algorithm.scaler.ScalerAlgorithmStable object at 0x7f149fb02590>\u001b[0m\n",
      "\u001b[34m[02/28/2021 13:08:54 INFO 139728157366080] Scaling model computed with parameters:\n",
      " {'stdev_weight': \u001b[0m\n",
      "\u001b[34m[1.3288545e+05 1.2957820e+01 1.8563910e+04 1.1019238e+04 3.3672844e+01\n",
      " 9.9711685e+00 1.4505450e+01 6.4945149e+00 1.2877094e+04 1.5217730e+01\n",
      " 1.1045746e+01 1.0978734e+04 7.1121375e+04 5.6395453e+04 3.2112069e+00\n",
      " 3.6657588e+00 1.2958672e+00 1.0345884e+04 4.7361618e+01 2.2306595e+00\n",
      " 7.2508675e-01 4.4109091e-01 1.9418750e+00 4.7131872e-01 5.0209857e+02\n",
      " 7.8328662e+02 6.7494641e+02 6.9737018e+02 7.7348560e+02 5.4105127e+02\n",
      " 1.6949961e+01 1.7306578e+01 1.0978240e+00 2.3208377e+04 2.1772063e+03\n",
      " 3.6902324e+04 1.3852472e+01 3.2156180e+02 1.4555109e+01 7.3783960e+00]\u001b[0m\n",
      "\u001b[34m<NDArray 40 @cpu(0)>, 'stdev_label': None, 'mean_label': None, 'mean_weight': \u001b[0m\n",
      "\u001b[34m[ 1.16256430e+05  3.32120018e+01  1.03539050e+03  1.21978528e+03\n",
      "  1.38608198e+01  3.84927297e+00  5.48945475e+00  2.98636341e+00\n",
      "  1.70116321e+03  4.52209139e+00  4.08900023e+00  1.23584961e+03\n",
      "  1.48180518e+04  7.75311182e+03  1.12418187e+00  1.31018186e+00\n",
      "  1.98090923e+00  1.12271362e+03  4.04252701e+01  5.52000046e-01\n",
      "  1.58981848e+00  7.35454619e-01  6.16909146e-01  6.66909039e-01\n",
      "  1.15930702e+02  1.07546890e+02  1.36251541e+02  1.39996658e+02\n",
      "  1.06455986e+02  1.22658157e+02  4.64618206e+00  4.75090933e+00\n",
      "  1.93909109e-01  1.84139978e+03  1.10659393e+02 -1.36099146e+03\n",
      "  3.52472711e+00  7.09154816e+01  3.68754530e+00  1.66009092e+00]\u001b[0m\n",
      "\u001b[34m<NDArray 40 @cpu(0)>}\u001b[0m\n",
      "\u001b[34m[02/28/2021 13:08:54 INFO 139728157366080] nvidia-smi took: 0.0251858234406 secs to identify 0 gpus\u001b[0m\n",
      "\u001b[34m[02/28/2021 13:08:54 INFO 139728157366080] Number of GPUs being used: 0\u001b[0m\n",
      "\u001b[34m#metrics {\"Metrics\": {\"Max Batches Seen Between Resets\": {\"count\": 1, \"max\": 11, \"sum\": 11.0, \"min\": 11}, \"Number of Batches Since Last Reset\": {\"count\": 1, \"max\": 0, \"sum\": 0.0, \"min\": 0}, \"Number of Records Since Last Reset\": {\"count\": 1, \"max\": 0, \"sum\": 0.0, \"min\": 0}, \"Total Batches Seen\": {\"count\": 1, \"max\": 12, \"sum\": 12.0, \"min\": 12}, \"Total Records Seen\": {\"count\": 1, \"max\": 12000, \"sum\": 12000.0, \"min\": 12000}, \"Max Records Seen Between Resets\": {\"count\": 1, \"max\": 11000, \"sum\": 11000.0, \"min\": 11000}, \"Reset Count\": {\"count\": 1, \"max\": 2, \"sum\": 2.0, \"min\": 2}}, \"EndTime\": 1614517734.50527, \"Dimensions\": {\"Host\": \"algo-1\", \"Meta\": \"init_train_data_iter\", \"Operation\": \"training\", \"Algorithm\": \"Linear Learner\"}, \"StartTime\": 1614517734.505238}\n",
      "\u001b[0m\n",
      "\u001b[34m[2021-02-28 13:08:56.373] [tensorio] [info] epoch_stats={\"data_pipeline\": \"/opt/ml/input/data/train\", \"epoch\": 3, \"duration\": 1867, \"num_examples\": 54, \"num_bytes\": 11068512}\u001b[0m\n",
      "\u001b[34m#metrics {\"Metrics\": {\"train_binary_classification_weighted_cross_entropy_objective\": {\"count\": 1, \"max\": 1.2431796575582252, \"sum\": 1.2431796575582252, \"min\": 1.2431796575582252}}, \"EndTime\": 1614517736.373651, \"Dimensions\": {\"model\": 0, \"Host\": \"algo-1\", \"Operation\": \"training\", \"Algorithm\": \"Linear Learner\", \"epoch\": 0}, \"StartTime\": 1614517736.373549}\n",
      "\u001b[0m\n",
      "\u001b[34m#metrics {\"Metrics\": {\"train_binary_classification_weighted_cross_entropy_objective\": {\"count\": 1, \"max\": 1.2476531498747052, \"sum\": 1.2476531498747052, \"min\": 1.2476531498747052}}, \"EndTime\": 1614517736.373749, \"Dimensions\": {\"model\": 1, \"Host\": \"algo-1\", \"Operation\": \"training\", \"Algorithm\": \"Linear Learner\", \"epoch\": 0}, \"StartTime\": 1614517736.373728}\n",
      "\u001b[0m\n",
      "\u001b[34m#metrics {\"Metrics\": {\"train_binary_classification_weighted_cross_entropy_objective\": {\"count\": 1, \"max\": 1.2031244529868073, \"sum\": 1.2031244529868073, \"min\": 1.2031244529868073}}, \"EndTime\": 1614517736.37382, \"Dimensions\": {\"model\": 2, \"Host\": \"algo-1\", \"Operation\": \"training\", \"Algorithm\": \"Linear Learner\", \"epoch\": 0}, \"StartTime\": 1614517736.3738}\n",
      "\u001b[0m\n",
      "\u001b[34m#metrics {\"Metrics\": {\"train_binary_classification_weighted_cross_entropy_objective\": {\"count\": 1, \"max\": 1.2228166365713444, \"sum\": 1.2228166365713444, \"min\": 1.2228166365713444}}, \"EndTime\": 1614517736.37389, \"Dimensions\": {\"model\": 3, \"Host\": \"algo-1\", \"Operation\": \"training\", \"Algorithm\": \"Linear Learner\", \"epoch\": 0}, \"StartTime\": 1614517736.373871}\n",
      "\u001b[0m\n",
      "\u001b[34m#metrics {\"Metrics\": {\"train_binary_classification_weighted_cross_entropy_objective\": {\"count\": 1, \"max\": 1.2288545175228478, \"sum\": 1.2288545175228478, \"min\": 1.2288545175228478}}, \"EndTime\": 1614517736.373956, \"Dimensions\": {\"model\": 4, \"Host\": \"algo-1\", \"Operation\": \"training\", \"Algorithm\": \"Linear Learner\", \"epoch\": 0}, \"StartTime\": 1614517736.373937}\n",
      "\u001b[0m\n",
      "\u001b[34m#metrics {\"Metrics\": {\"train_binary_classification_weighted_cross_entropy_objective\": {\"count\": 1, \"max\": 1.2278574552715948, \"sum\": 1.2278574552715948, \"min\": 1.2278574552715948}}, \"EndTime\": 1614517736.374029, \"Dimensions\": {\"model\": 5, \"Host\": \"algo-1\", \"Operation\": \"training\", \"Algorithm\": \"Linear Learner\", \"epoch\": 0}, \"StartTime\": 1614517736.374009}\n",
      "\u001b[0m\n",
      "\u001b[34m#metrics {\"Metrics\": {\"train_binary_classification_weighted_cross_entropy_objective\": {\"count\": 1, \"max\": 1.2197292111954599, \"sum\": 1.2197292111954599, \"min\": 1.2197292111954599}}, \"EndTime\": 1614517736.374093, \"Dimensions\": {\"model\": 6, \"Host\": \"algo-1\", \"Operation\": \"training\", \"Algorithm\": \"Linear Learner\", \"epoch\": 0}, \"StartTime\": 1614517736.374075}\n",
      "\u001b[0m\n",
      "\u001b[34m#metrics {\"Metrics\": {\"train_binary_classification_weighted_cross_entropy_objective\": {\"count\": 1, \"max\": 1.2211038968068249, \"sum\": 1.2211038968068249, \"min\": 1.2211038968068249}}, \"EndTime\": 1614517736.374164, \"Dimensions\": {\"model\": 7, \"Host\": \"algo-1\", \"Operation\": \"training\", \"Algorithm\": \"Linear Learner\", \"epoch\": 0}, \"StartTime\": 1614517736.374147}\n",
      "\u001b[0m\n",
      "\u001b[34m#metrics {\"Metrics\": {\"train_binary_classification_weighted_cross_entropy_objective\": {\"count\": 1, \"max\": 1.217602207399764, \"sum\": 1.217602207399764, \"min\": 1.217602207399764}}, \"EndTime\": 1614517736.374246, \"Dimensions\": {\"model\": 8, \"Host\": \"algo-1\", \"Operation\": \"training\", \"Algorithm\": \"Linear Learner\", \"epoch\": 0}, \"StartTime\": 1614517736.374227}\n",
      "\u001b[0m\n",
      "\u001b[34m#metrics {\"Metrics\": {\"train_binary_classification_weighted_cross_entropy_objective\": {\"count\": 1, \"max\": 1.2093430072136646, \"sum\": 1.2093430072136646, \"min\": 1.2093430072136646}}, \"EndTime\": 1614517736.374314, \"Dimensions\": {\"model\": 9, \"Host\": \"algo-1\", \"Operation\": \"training\", \"Algorithm\": \"Linear Learner\", \"epoch\": 0}, \"StartTime\": 1614517736.374297}\n",
      "\u001b[0m\n",
      "\u001b[34m#metrics {\"Metrics\": {\"train_binary_classification_weighted_cross_entropy_objective\": {\"count\": 1, \"max\": 1.2217140053803066, \"sum\": 1.2217140053803066, \"min\": 1.2217140053803066}}, \"EndTime\": 1614517736.374384, \"Dimensions\": {\"model\": 10, \"Host\": \"algo-1\", \"Operation\": \"training\", \"Algorithm\": \"Linear Learner\", \"epoch\": 0}, \"StartTime\": 1614517736.374366}\n",
      "\u001b[0m\n",
      "\u001b[34m#metrics {\"Metrics\": {\"train_binary_classification_weighted_cross_entropy_objective\": {\"count\": 1, \"max\": 1.204269799574366, \"sum\": 1.204269799574366, \"min\": 1.204269799574366}}, \"EndTime\": 1614517736.374453, \"Dimensions\": {\"model\": 11, \"Host\": \"algo-1\", \"Operation\": \"training\", \"Algorithm\": \"Linear Learner\", \"epoch\": 0}, \"StartTime\": 1614517736.374435}\n",
      "\u001b[0m\n",
      "\u001b[34m#metrics {\"Metrics\": {\"train_binary_classification_weighted_cross_entropy_objective\": {\"count\": 1, \"max\": 1.2249071298275354, \"sum\": 1.2249071298275354, \"min\": 1.2249071298275354}}, \"EndTime\": 1614517736.37452, \"Dimensions\": {\"model\": 12, \"Host\": \"algo-1\", \"Operation\": \"training\", \"Algorithm\": \"Linear Learner\", \"epoch\": 0}, \"StartTime\": 1614517736.374503}\n",
      "\u001b[0m\n",
      "\u001b[34m#metrics {\"Metrics\": {\"train_binary_classification_weighted_cross_entropy_objective\": {\"count\": 1, \"max\": 1.212325080151828, \"sum\": 1.212325080151828, \"min\": 1.212325080151828}}, \"EndTime\": 1614517736.374581, \"Dimensions\": {\"model\": 13, \"Host\": \"algo-1\", \"Operation\": \"training\", \"Algorithm\": \"Linear Learner\", \"epoch\": 0}, \"StartTime\": 1614517736.374564}\n",
      "\u001b[0m\n",
      "\u001b[34m#metrics {\"Metrics\": {\"train_binary_classification_weighted_cross_entropy_objective\": {\"count\": 1, \"max\": 1.2161387248489093, \"sum\": 1.2161387248489093, \"min\": 1.2161387248489093}}, \"EndTime\": 1614517736.37464, \"Dimensions\": {\"model\": 14, \"Host\": \"algo-1\", \"Operation\": \"training\", \"Algorithm\": \"Linear Learner\", \"epoch\": 0}, \"StartTime\": 1614517736.374623}\n",
      "\u001b[0m\n",
      "\u001b[34m#metrics {\"Metrics\": {\"train_binary_classification_weighted_cross_entropy_objective\": {\"count\": 1, \"max\": 1.2179690379016803, \"sum\": 1.2179690379016803, \"min\": 1.2179690379016803}}, \"EndTime\": 1614517736.3747, \"Dimensions\": {\"model\": 15, \"Host\": \"algo-1\", \"Operation\": \"training\", \"Algorithm\": \"Linear Learner\", \"epoch\": 0}, \"StartTime\": 1614517736.374683}\n",
      "\u001b[0m\n",
      "\u001b[34m#metrics {\"Metrics\": {\"train_binary_classification_weighted_cross_entropy_objective\": {\"count\": 1, \"max\": 1.2426779646963444, \"sum\": 1.2426779646963444, \"min\": 1.2426779646963444}}, \"EndTime\": 1614517736.374763, \"Dimensions\": {\"model\": 16, \"Host\": \"algo-1\", \"Operation\": \"training\", \"Algorithm\": \"Linear Learner\", \"epoch\": 0}, \"StartTime\": 1614517736.374747}\n",
      "\u001b[0m\n",
      "\u001b[34m#metrics {\"Metrics\": {\"train_binary_classification_weighted_cross_entropy_objective\": {\"count\": 1, \"max\": 1.2439494352520637, \"sum\": 1.2439494352520637, \"min\": 1.2439494352520637}}, \"EndTime\": 1614517736.374822, \"Dimensions\": {\"model\": 17, \"Host\": \"algo-1\", \"Operation\": \"training\", \"Algorithm\": \"Linear Learner\", \"epoch\": 0}, \"StartTime\": 1614517736.374806}\n",
      "\u001b[0m\n",
      "\u001b[34m#metrics {\"Metrics\": {\"train_binary_classification_weighted_cross_entropy_objective\": {\"count\": 1, \"max\": 1.2309050108711674, \"sum\": 1.2309050108711674, \"min\": 1.2309050108711674}}, \"EndTime\": 1614517736.374873, \"Dimensions\": {\"model\": 18, \"Host\": \"algo-1\", \"Operation\": \"training\", \"Algorithm\": \"Linear Learner\", \"epoch\": 0}, \"StartTime\": 1614517736.374859}\n",
      "\u001b[0m\n",
      "\u001b[34m#metrics {\"Metrics\": {\"train_binary_classification_weighted_cross_entropy_objective\": {\"count\": 1, \"max\": 1.2222300253814122, \"sum\": 1.2222300253814122, \"min\": 1.2222300253814122}}, \"EndTime\": 1614517736.374928, \"Dimensions\": {\"model\": 19, \"Host\": \"algo-1\", \"Operation\": \"training\", \"Algorithm\": \"Linear Learner\", \"epoch\": 0}, \"StartTime\": 1614517736.374911}\n",
      "\u001b[0m\n",
      "\u001b[34m#metrics {\"Metrics\": {\"train_binary_classification_weighted_cross_entropy_objective\": {\"count\": 1, \"max\": 1.2513657871462265, \"sum\": 1.2513657871462265, \"min\": 1.2513657871462265}}, \"EndTime\": 1614517736.374986, \"Dimensions\": {\"model\": 20, \"Host\": \"algo-1\", \"Operation\": \"training\", \"Algorithm\": \"Linear Learner\", \"epoch\": 0}, \"StartTime\": 1614517736.37497}\n",
      "\u001b[0m\n",
      "\u001b[34m#metrics {\"Metrics\": {\"train_binary_classification_weighted_cross_entropy_objective\": {\"count\": 1, \"max\": 1.2435942497973171, \"sum\": 1.2435942497973171, \"min\": 1.2435942497973171}}, \"EndTime\": 1614517736.375045, \"Dimensions\": {\"model\": 21, \"Host\": \"algo-1\", \"Operation\": \"training\", \"Algorithm\": \"Linear Learner\", \"epoch\": 0}, \"StartTime\": 1614517736.375029}\n",
      "\u001b[0m\n",
      "\u001b[34m#metrics {\"Metrics\": {\"train_binary_classification_weighted_cross_entropy_objective\": {\"count\": 1, \"max\": 1.2412470680092866, \"sum\": 1.2412470680092866, \"min\": 1.2412470680092866}}, \"EndTime\": 1614517736.375102, \"Dimensions\": {\"model\": 22, \"Host\": \"algo-1\", \"Operation\": \"training\", \"Algorithm\": \"Linear Learner\", \"epoch\": 0}, \"StartTime\": 1614517736.375086}\n",
      "\u001b[0m\n",
      "\u001b[34m#metrics {\"Metrics\": {\"train_binary_classification_weighted_cross_entropy_objective\": {\"count\": 1, \"max\": 1.2531607320533609, \"sum\": 1.2531607320533609, \"min\": 1.2531607320533609}}, \"EndTime\": 1614517736.37516, \"Dimensions\": {\"model\": 23, \"Host\": \"algo-1\", \"Operation\": \"training\", \"Algorithm\": \"Linear Learner\", \"epoch\": 0}, \"StartTime\": 1614517736.375144}\n",
      "\u001b[0m\n",
      "\u001b[34m#metrics {\"Metrics\": {\"train_binary_classification_weighted_cross_entropy_objective\": {\"count\": 1, \"max\": 1.3477301232679835, \"sum\": 1.3477301232679835, \"min\": 1.3477301232679835}}, \"EndTime\": 1614517736.375219, \"Dimensions\": {\"model\": 24, \"Host\": \"algo-1\", \"Operation\": \"training\", \"Algorithm\": \"Linear Learner\", \"epoch\": 0}, \"StartTime\": 1614517736.375202}\n",
      "\u001b[0m\n",
      "\u001b[34m#metrics {\"Metrics\": {\"train_binary_classification_weighted_cross_entropy_objective\": {\"count\": 1, \"max\": 1.352840348153744, \"sum\": 1.352840348153744, \"min\": 1.352840348153744}}, \"EndTime\": 1614517736.375281, \"Dimensions\": {\"model\": 25, \"Host\": \"algo-1\", \"Operation\": \"training\", \"Algorithm\": \"Linear Learner\", \"epoch\": 0}, \"StartTime\": 1614517736.375263}\n",
      "\u001b[0m\n",
      "\u001b[34m#metrics {\"Metrics\": {\"train_binary_classification_weighted_cross_entropy_objective\": {\"count\": 1, \"max\": 1.3551827853220815, \"sum\": 1.3551827853220815, \"min\": 1.3551827853220815}}, \"EndTime\": 1614517736.37534, \"Dimensions\": {\"model\": 26, \"Host\": \"algo-1\", \"Operation\": \"training\", \"Algorithm\": \"Linear Learner\", \"epoch\": 0}, \"StartTime\": 1614517736.375323}\n",
      "\u001b[0m\n",
      "\u001b[34m#metrics {\"Metrics\": {\"train_binary_classification_weighted_cross_entropy_objective\": {\"count\": 1, \"max\": 1.3525192018904777, \"sum\": 1.3525192018904777, \"min\": 1.3525192018904777}}, \"EndTime\": 1614517736.375397, \"Dimensions\": {\"model\": 27, \"Host\": \"algo-1\", \"Operation\": \"training\", \"Algorithm\": \"Linear Learner\", \"epoch\": 0}, \"StartTime\": 1614517736.375381}\n",
      "\u001b[0m\n",
      "\u001b[34m#metrics {\"Metrics\": {\"train_binary_classification_weighted_cross_entropy_objective\": {\"count\": 1, \"max\": 1.3687158110996462, \"sum\": 1.3687158110996462, \"min\": 1.3687158110996462}}, \"EndTime\": 1614517736.375455, \"Dimensions\": {\"model\": 28, \"Host\": \"algo-1\", \"Operation\": \"training\", \"Algorithm\": \"Linear Learner\", \"epoch\": 0}, \"StartTime\": 1614517736.375438}\n",
      "\u001b[0m\n",
      "\u001b[34m#metrics {\"Metrics\": {\"train_binary_classification_weighted_cross_entropy_objective\": {\"count\": 1, \"max\": 1.3675325582252358, \"sum\": 1.3675325582252358, \"min\": 1.3675325582252358}}, \"EndTime\": 1614517736.375513, \"Dimensions\": {\"model\": 29, \"Host\": \"algo-1\", \"Operation\": \"training\", \"Algorithm\": \"Linear Learner\", \"epoch\": 0}, \"StartTime\": 1614517736.375497}\n",
      "\u001b[0m\n",
      "\u001b[34m#metrics {\"Metrics\": {\"train_binary_classification_weighted_cross_entropy_objective\": {\"count\": 1, \"max\": 1.3714409778522996, \"sum\": 1.3714409778522996, \"min\": 1.3714409778522996}}, \"EndTime\": 1614517736.375571, \"Dimensions\": {\"model\": 30, \"Host\": \"algo-1\", \"Operation\": \"training\", \"Algorithm\": \"Linear Learner\", \"epoch\": 0}, \"StartTime\": 1614517736.375555}\n",
      "\u001b[0m\n",
      "\u001b[34m#metrics {\"Metrics\": {\"train_binary_classification_weighted_cross_entropy_objective\": {\"count\": 1, \"max\": 1.369204953751474, \"sum\": 1.369204953751474, \"min\": 1.369204953751474}}, \"EndTime\": 1614517736.375635, \"Dimensions\": {\"model\": 31, \"Host\": \"algo-1\", \"Operation\": \"training\", \"Algorithm\": \"Linear Learner\", \"epoch\": 0}, \"StartTime\": 1614517736.375618}\n",
      "\u001b[0m\n",
      "\u001b[34m[02/28/2021 13:08:56 INFO 139728157366080] #quality_metric: host=algo-1, epoch=0, train binary_classification_weighted_cross_entropy_objective <loss>=1.24317965756\u001b[0m\n",
      "\u001b[34m[02/28/2021 13:08:56 INFO 139728157366080] #early_stopping_criteria_metric: host=algo-1, epoch=0, criteria=binary_classification_weighted_cross_entropy_objective, value=1.20312445299\u001b[0m\n",
      "\u001b[34m[02/28/2021 13:08:56 INFO 139728157366080] Epoch 0: Loss improved. Updating best model\u001b[0m\n",
      "\u001b[34m[02/28/2021 13:08:56 INFO 139728157366080] Saving model for epoch: 0\u001b[0m\n",
      "\u001b[34m[02/28/2021 13:08:56 INFO 139728157366080] Saved checkpoint to \"/tmp/tmpDyqiqV/mx-mod-0000.params\"\u001b[0m\n",
      "\u001b[34m[02/28/2021 13:08:56 INFO 139728157366080] #progress_metric: host=algo-1, completed 6 % of epochs\u001b[0m\n",
      "\u001b[34m#metrics {\"Metrics\": {\"Max Batches Seen Between Resets\": {\"count\": 1, \"max\": 54, \"sum\": 54.0, \"min\": 54}, \"Number of Batches Since Last Reset\": {\"count\": 1, \"max\": 54, \"sum\": 54.0, \"min\": 54}, \"Number of Records Since Last Reset\": {\"count\": 1, \"max\": 53214, \"sum\": 53214.0, \"min\": 53214}, \"Total Batches Seen\": {\"count\": 1, \"max\": 66, \"sum\": 66.0, \"min\": 66}, \"Total Records Seen\": {\"count\": 1, \"max\": 65214, \"sum\": 65214.0, \"min\": 65214}, \"Max Records Seen Between Resets\": {\"count\": 1, \"max\": 53214, \"sum\": 53214.0, \"min\": 53214}, \"Reset Count\": {\"count\": 1, \"max\": 3, \"sum\": 3.0, \"min\": 3}}, \"EndTime\": 1614517736.387165, \"Dimensions\": {\"Host\": \"algo-1\", \"Meta\": \"training_data_iter\", \"Operation\": \"training\", \"Algorithm\": \"Linear Learner\", \"epoch\": 0}, \"StartTime\": 1614517734.505521}\n",
      "\u001b[0m\n",
      "\u001b[34m[02/28/2021 13:08:56 INFO 139728157366080] #throughput_metric: host=algo-1, train throughput=28279.0549211 records/second\u001b[0m\n",
      "\n",
      "2021-02-28 13:09:09 Training - Training image download completed. Training in progress.\u001b[34m[2021-02-28 13:08:58.447] [tensorio] [info] epoch_stats={\"data_pipeline\": \"/opt/ml/input/data/train\", \"epoch\": 5, \"duration\": 2059, \"num_examples\": 54, \"num_bytes\": 11068512}\u001b[0m\n",
      "\u001b[34m#metrics {\"Metrics\": {\"train_binary_classification_weighted_cross_entropy_objective\": {\"count\": 1, \"max\": 1.1412669885023585, \"sum\": 1.1412669885023585, \"min\": 1.1412669885023585}}, \"EndTime\": 1614517738.447464, \"Dimensions\": {\"model\": 0, \"Host\": \"algo-1\", \"Operation\": \"training\", \"Algorithm\": \"Linear Learner\", \"epoch\": 1}, \"StartTime\": 1614517738.447361}\n",
      "\u001b[0m\n",
      "\u001b[34m#metrics {\"Metrics\": {\"train_binary_classification_weighted_cross_entropy_objective\": {\"count\": 1, \"max\": 1.1464566362488944, \"sum\": 1.1464566362488944, \"min\": 1.1464566362488944}}, \"EndTime\": 1614517738.447561, \"Dimensions\": {\"model\": 1, \"Host\": \"algo-1\", \"Operation\": \"training\", \"Algorithm\": \"Linear Learner\", \"epoch\": 1}, \"StartTime\": 1614517738.447541}\n",
      "\u001b[0m\n",
      "\u001b[34m#metrics {\"Metrics\": {\"train_binary_classification_weighted_cross_entropy_objective\": {\"count\": 1, \"max\": 1.1360001163122788, \"sum\": 1.1360001163122788, \"min\": 1.1360001163122788}}, \"EndTime\": 1614517738.44763, \"Dimensions\": {\"model\": 2, \"Host\": \"algo-1\", \"Operation\": \"training\", \"Algorithm\": \"Linear Learner\", \"epoch\": 1}, \"StartTime\": 1614517738.447612}\n",
      "\u001b[0m\n",
      "\u001b[34m#metrics {\"Metrics\": {\"train_binary_classification_weighted_cross_entropy_objective\": {\"count\": 1, \"max\": 1.141622185473172, \"sum\": 1.141622185473172, \"min\": 1.141622185473172}}, \"EndTime\": 1614517738.447698, \"Dimensions\": {\"model\": 3, \"Host\": \"algo-1\", \"Operation\": \"training\", \"Algorithm\": \"Linear Learner\", \"epoch\": 1}, \"StartTime\": 1614517738.447679}\n",
      "\u001b[0m\n",
      "\u001b[34m#metrics {\"Metrics\": {\"train_binary_classification_weighted_cross_entropy_objective\": {\"count\": 1, \"max\": 1.2080137847324588, \"sum\": 1.2080137847324588, \"min\": 1.2080137847324588}}, \"EndTime\": 1614517738.447762, \"Dimensions\": {\"model\": 4, \"Host\": \"algo-1\", \"Operation\": \"training\", \"Algorithm\": \"Linear Learner\", \"epoch\": 1}, \"StartTime\": 1614517738.447745}\n",
      "\u001b[0m\n",
      "\u001b[34m#metrics {\"Metrics\": {\"train_binary_classification_weighted_cross_entropy_objective\": {\"count\": 1, \"max\": 1.2232639171672317, \"sum\": 1.2232639171672317, \"min\": 1.2232639171672317}}, \"EndTime\": 1614517738.447825, \"Dimensions\": {\"model\": 5, \"Host\": \"algo-1\", \"Operation\": \"training\", \"Algorithm\": \"Linear Learner\", \"epoch\": 1}, \"StartTime\": 1614517738.447808}\n",
      "\u001b[0m\n",
      "\u001b[34m#metrics {\"Metrics\": {\"train_binary_classification_weighted_cross_entropy_objective\": {\"count\": 1, \"max\": 1.2112009922243514, \"sum\": 1.2112009922243514, \"min\": 1.2112009922243514}}, \"EndTime\": 1614517738.447893, \"Dimensions\": {\"model\": 6, \"Host\": \"algo-1\", \"Operation\": \"training\", \"Algorithm\": \"Linear Learner\", \"epoch\": 1}, \"StartTime\": 1614517738.447874}\n",
      "\u001b[0m\n",
      "\u001b[34m#metrics {\"Metrics\": {\"train_binary_classification_weighted_cross_entropy_objective\": {\"count\": 1, \"max\": 1.2243594060933816, \"sum\": 1.2243594060933816, \"min\": 1.2243594060933816}}, \"EndTime\": 1614517738.447954, \"Dimensions\": {\"model\": 7, \"Host\": \"algo-1\", \"Operation\": \"training\", \"Algorithm\": \"Linear Learner\", \"epoch\": 1}, \"StartTime\": 1614517738.447936}\n",
      "\u001b[0m\n",
      "\u001b[34m#metrics {\"Metrics\": {\"train_binary_classification_weighted_cross_entropy_objective\": {\"count\": 1, \"max\": 1.1372216658682193, \"sum\": 1.1372216658682193, \"min\": 1.1372216658682193}}, \"EndTime\": 1614517738.448044, \"Dimensions\": {\"model\": 8, \"Host\": \"algo-1\", \"Operation\": \"training\", \"Algorithm\": \"Linear Learner\", \"epoch\": 1}, \"StartTime\": 1614517738.448025}\n",
      "\u001b[0m\n",
      "\u001b[34m#metrics {\"Metrics\": {\"train_binary_classification_weighted_cross_entropy_objective\": {\"count\": 1, \"max\": 1.1392320234190743, \"sum\": 1.1392320234190743, \"min\": 1.1392320234190743}}, \"EndTime\": 1614517738.448116, \"Dimensions\": {\"model\": 9, \"Host\": \"algo-1\", \"Operation\": \"training\", \"Algorithm\": \"Linear Learner\", \"epoch\": 1}, \"StartTime\": 1614517738.448099}\n",
      "\u001b[0m\n",
      "\u001b[34m#metrics {\"Metrics\": {\"train_binary_classification_weighted_cross_entropy_objective\": {\"count\": 1, \"max\": 1.1386494900685435, \"sum\": 1.1386494900685435, \"min\": 1.1386494900685435}}, \"EndTime\": 1614517738.448176, \"Dimensions\": {\"model\": 10, \"Host\": \"algo-1\", \"Operation\": \"training\", \"Algorithm\": \"Linear Learner\", \"epoch\": 1}, \"StartTime\": 1614517738.448159}\n",
      "\u001b[0m\n",
      "\u001b[34m#metrics {\"Metrics\": {\"train_binary_classification_weighted_cross_entropy_objective\": {\"count\": 1, \"max\": 1.1350760647755749, \"sum\": 1.1350760647755749, \"min\": 1.1350760647755749}}, \"EndTime\": 1614517738.448235, \"Dimensions\": {\"model\": 11, \"Host\": \"algo-1\", \"Operation\": \"training\", \"Algorithm\": \"Linear Learner\", \"epoch\": 1}, \"StartTime\": 1614517738.448218}\n",
      "\u001b[0m\n",
      "\u001b[34m#metrics {\"Metrics\": {\"train_binary_classification_weighted_cross_entropy_objective\": {\"count\": 1, \"max\": 1.206811577563016, \"sum\": 1.206811577563016, \"min\": 1.206811577563016}}, \"EndTime\": 1614517738.448297, \"Dimensions\": {\"model\": 12, \"Host\": \"algo-1\", \"Operation\": \"training\", \"Algorithm\": \"Linear Learner\", \"epoch\": 1}, \"StartTime\": 1614517738.448279}\n",
      "\u001b[0m\n",
      "\u001b[34m#metrics {\"Metrics\": {\"train_binary_classification_weighted_cross_entropy_objective\": {\"count\": 1, \"max\": 1.2211929609190744, \"sum\": 1.2211929609190744, \"min\": 1.2211929609190744}}, \"EndTime\": 1614517738.448356, \"Dimensions\": {\"model\": 13, \"Host\": \"algo-1\", \"Operation\": \"training\", \"Algorithm\": \"Linear Learner\", \"epoch\": 1}, \"StartTime\": 1614517738.448339}\n",
      "\u001b[0m\n",
      "\u001b[34m#metrics {\"Metrics\": {\"train_binary_classification_weighted_cross_entropy_objective\": {\"count\": 1, \"max\": 1.2114558462466833, \"sum\": 1.2114558462466833, \"min\": 1.2114558462466833}}, \"EndTime\": 1614517738.448415, \"Dimensions\": {\"model\": 14, \"Host\": \"algo-1\", \"Operation\": \"training\", \"Algorithm\": \"Linear Learner\", \"epoch\": 1}, \"StartTime\": 1614517738.448399}\n",
      "\u001b[0m\n",
      "\u001b[34m#metrics {\"Metrics\": {\"train_binary_classification_weighted_cross_entropy_objective\": {\"count\": 1, \"max\": 1.2222297547538326, \"sum\": 1.2222297547538326, \"min\": 1.2222297547538326}}, \"EndTime\": 1614517738.448478, \"Dimensions\": {\"model\": 15, \"Host\": \"algo-1\", \"Operation\": \"training\", \"Algorithm\": \"Linear Learner\", \"epoch\": 1}, \"StartTime\": 1614517738.44846}\n",
      "\u001b[0m\n",
      "\u001b[34m#metrics {\"Metrics\": {\"train_binary_classification_weighted_cross_entropy_objective\": {\"count\": 1, \"max\": 1.1929010585568987, \"sum\": 1.1929010585568987, \"min\": 1.1929010585568987}}, \"EndTime\": 1614517738.448537, \"Dimensions\": {\"model\": 16, \"Host\": \"algo-1\", \"Operation\": \"training\", \"Algorithm\": \"Linear Learner\", \"epoch\": 1}, \"StartTime\": 1614517738.44852}\n",
      "\u001b[0m\n",
      "\u001b[34m#metrics {\"Metrics\": {\"train_binary_classification_weighted_cross_entropy_objective\": {\"count\": 1, \"max\": 1.1909751471753391, \"sum\": 1.1909751471753391, \"min\": 1.1909751471753391}}, \"EndTime\": 1614517738.448596, \"Dimensions\": {\"model\": 17, \"Host\": \"algo-1\", \"Operation\": \"training\", \"Algorithm\": \"Linear Learner\", \"epoch\": 1}, \"StartTime\": 1614517738.44858}\n",
      "\u001b[0m\n",
      "\u001b[34m#metrics {\"Metrics\": {\"train_binary_classification_weighted_cross_entropy_objective\": {\"count\": 1, \"max\": 1.191045504588001, \"sum\": 1.191045504588001, \"min\": 1.191045504588001}}, \"EndTime\": 1614517738.448657, \"Dimensions\": {\"model\": 18, \"Host\": \"algo-1\", \"Operation\": \"training\", \"Algorithm\": \"Linear Learner\", \"epoch\": 1}, \"StartTime\": 1614517738.448639}\n",
      "\u001b[0m\n",
      "\u001b[34m#metrics {\"Metrics\": {\"train_binary_classification_weighted_cross_entropy_objective\": {\"count\": 1, \"max\": 1.1915419069686026, \"sum\": 1.1915419069686026, \"min\": 1.1915419069686026}}, \"EndTime\": 1614517738.448718, \"Dimensions\": {\"model\": 19, \"Host\": \"algo-1\", \"Operation\": \"training\", \"Algorithm\": \"Linear Learner\", \"epoch\": 1}, \"StartTime\": 1614517738.448702}\n",
      "\u001b[0m\n",
      "\u001b[34m#metrics {\"Metrics\": {\"train_binary_classification_weighted_cross_entropy_objective\": {\"count\": 1, \"max\": 1.2356987903522996, \"sum\": 1.2356987903522996, \"min\": 1.2356987903522996}}, \"EndTime\": 1614517738.44878, \"Dimensions\": {\"model\": 20, \"Host\": \"algo-1\", \"Operation\": \"training\", \"Algorithm\": \"Linear Learner\", \"epoch\": 1}, \"StartTime\": 1614517738.448762}\n",
      "\u001b[0m\n",
      "\u001b[34m#metrics {\"Metrics\": {\"train_binary_classification_weighted_cross_entropy_objective\": {\"count\": 1, \"max\": 1.2468145268278301, \"sum\": 1.2468145268278301, \"min\": 1.2468145268278301}}, \"EndTime\": 1614517738.448839, \"Dimensions\": {\"model\": 21, \"Host\": \"algo-1\", \"Operation\": \"training\", \"Algorithm\": \"Linear Learner\", \"epoch\": 1}, \"StartTime\": 1614517738.448823}\n",
      "\u001b[0m\n",
      "\u001b[34m#metrics {\"Metrics\": {\"train_binary_classification_weighted_cross_entropy_objective\": {\"count\": 1, \"max\": 1.2489790096642837, \"sum\": 1.2489790096642837, \"min\": 1.2489790096642837}}, \"EndTime\": 1614517738.448898, \"Dimensions\": {\"model\": 22, \"Host\": \"algo-1\", \"Operation\": \"training\", \"Algorithm\": \"Linear Learner\", \"epoch\": 1}, \"StartTime\": 1614517738.448881}\n",
      "\u001b[0m\n",
      "\u001b[34m#metrics {\"Metrics\": {\"train_binary_classification_weighted_cross_entropy_objective\": {\"count\": 1, \"max\": 1.2401751570791568, \"sum\": 1.2401751570791568, \"min\": 1.2401751570791568}}, \"EndTime\": 1614517738.448957, \"Dimensions\": {\"model\": 23, \"Host\": \"algo-1\", \"Operation\": \"training\", \"Algorithm\": \"Linear Learner\", \"epoch\": 1}, \"StartTime\": 1614517738.44894}\n",
      "\u001b[0m\n",
      "\u001b[34m#metrics {\"Metrics\": {\"train_binary_classification_weighted_cross_entropy_objective\": {\"count\": 1, \"max\": 1.3484917061283903, \"sum\": 1.3484917061283903, \"min\": 1.3484917061283903}}, \"EndTime\": 1614517738.449016, \"Dimensions\": {\"model\": 24, \"Host\": \"algo-1\", \"Operation\": \"training\", \"Algorithm\": \"Linear Learner\", \"epoch\": 1}, \"StartTime\": 1614517738.448999}\n",
      "\u001b[0m\n",
      "\u001b[34m#metrics {\"Metrics\": {\"train_binary_classification_weighted_cross_entropy_objective\": {\"count\": 1, \"max\": 1.3483582763671875, \"sum\": 1.3483582763671875, \"min\": 1.3483582763671875}}, \"EndTime\": 1614517738.449074, \"Dimensions\": {\"model\": 25, \"Host\": \"algo-1\", \"Operation\": \"training\", \"Algorithm\": \"Linear Learner\", \"epoch\": 1}, \"StartTime\": 1614517738.449058}\n",
      "\u001b[0m\n",
      "\u001b[34m#metrics {\"Metrics\": {\"train_binary_classification_weighted_cross_entropy_objective\": {\"count\": 1, \"max\": 1.3483354400058962, \"sum\": 1.3483354400058962, \"min\": 1.3483354400058962}}, \"EndTime\": 1614517738.449135, \"Dimensions\": {\"model\": 26, \"Host\": \"algo-1\", \"Operation\": \"training\", \"Algorithm\": \"Linear Learner\", \"epoch\": 1}, \"StartTime\": 1614517738.449118}\n",
      "\u001b[0m\n",
      "\u001b[34m#metrics {\"Metrics\": {\"train_binary_classification_weighted_cross_entropy_objective\": {\"count\": 1, \"max\": 1.348445224977889, \"sum\": 1.348445224977889, \"min\": 1.348445224977889}}, \"EndTime\": 1614517738.449195, \"Dimensions\": {\"model\": 27, \"Host\": \"algo-1\", \"Operation\": \"training\", \"Algorithm\": \"Linear Learner\", \"epoch\": 1}, \"StartTime\": 1614517738.449178}\n",
      "\u001b[0m\n",
      "\u001b[34m#metrics {\"Metrics\": {\"train_binary_classification_weighted_cross_entropy_objective\": {\"count\": 1, \"max\": 1.3743239815190154, \"sum\": 1.3743239815190154, \"min\": 1.3743239815190154}}, \"EndTime\": 1614517738.449253, \"Dimensions\": {\"model\": 28, \"Host\": \"algo-1\", \"Operation\": \"training\", \"Algorithm\": \"Linear Learner\", \"epoch\": 1}, \"StartTime\": 1614517738.449236}\n",
      "\u001b[0m\n",
      "\u001b[34m#metrics {\"Metrics\": {\"train_binary_classification_weighted_cross_entropy_objective\": {\"count\": 1, \"max\": 1.377779296875, \"sum\": 1.377779296875, \"min\": 1.377779296875}}, \"EndTime\": 1614517738.449312, \"Dimensions\": {\"model\": 29, \"Host\": \"algo-1\", \"Operation\": \"training\", \"Algorithm\": \"Linear Learner\", \"epoch\": 1}, \"StartTime\": 1614517738.449295}\n",
      "\u001b[0m\n",
      "\u001b[34m#metrics {\"Metrics\": {\"train_binary_classification_weighted_cross_entropy_objective\": {\"count\": 1, \"max\": 1.3730446109411851, \"sum\": 1.3730446109411851, \"min\": 1.3730446109411851}}, \"EndTime\": 1614517738.449368, \"Dimensions\": {\"model\": 30, \"Host\": \"algo-1\", \"Operation\": \"training\", \"Algorithm\": \"Linear Learner\", \"epoch\": 1}, \"StartTime\": 1614517738.449352}\n",
      "\u001b[0m\n",
      "\u001b[34m#metrics {\"Metrics\": {\"train_binary_classification_weighted_cross_entropy_objective\": {\"count\": 1, \"max\": 1.3750564609743514, \"sum\": 1.3750564609743514, \"min\": 1.3750564609743514}}, \"EndTime\": 1614517738.449427, \"Dimensions\": {\"model\": 31, \"Host\": \"algo-1\", \"Operation\": \"training\", \"Algorithm\": \"Linear Learner\", \"epoch\": 1}, \"StartTime\": 1614517738.449409}\n",
      "\u001b[0m\n",
      "\u001b[34m[02/28/2021 13:08:58 INFO 139728157366080] #quality_metric: host=algo-1, epoch=1, train binary_classification_weighted_cross_entropy_objective <loss>=1.1412669885\u001b[0m\n",
      "\u001b[34m[02/28/2021 13:08:58 INFO 139728157366080] #early_stopping_criteria_metric: host=algo-1, epoch=1, criteria=binary_classification_weighted_cross_entropy_objective, value=1.13507606478\u001b[0m\n",
      "\u001b[34m[02/28/2021 13:08:58 INFO 139728157366080] Epoch 1: Loss improved. Updating best model\u001b[0m\n",
      "\u001b[34m[02/28/2021 13:08:58 INFO 139728157366080] Saving model for epoch: 1\u001b[0m\n",
      "\u001b[34m[02/28/2021 13:08:58 INFO 139728157366080] Saved checkpoint to \"/tmp/tmp0hQ_Qo/mx-mod-0000.params\"\u001b[0m\n",
      "\u001b[34m[02/28/2021 13:08:58 INFO 139728157366080] #progress_metric: host=algo-1, completed 13 % of epochs\u001b[0m\n",
      "\u001b[34m#metrics {\"Metrics\": {\"Max Batches Seen Between Resets\": {\"count\": 1, \"max\": 54, \"sum\": 54.0, \"min\": 54}, \"Number of Batches Since Last Reset\": {\"count\": 1, \"max\": 54, \"sum\": 54.0, \"min\": 54}, \"Number of Records Since Last Reset\": {\"count\": 1, \"max\": 53214, \"sum\": 53214.0, \"min\": 53214}, \"Total Batches Seen\": {\"count\": 1, \"max\": 120, \"sum\": 120.0, \"min\": 120}, \"Total Records Seen\": {\"count\": 1, \"max\": 118428, \"sum\": 118428.0, \"min\": 118428}, \"Max Records Seen Between Resets\": {\"count\": 1, \"max\": 53214, \"sum\": 53214.0, \"min\": 53214}, \"Reset Count\": {\"count\": 1, \"max\": 4, \"sum\": 4.0, \"min\": 4}}, \"EndTime\": 1614517738.459632, \"Dimensions\": {\"Host\": \"algo-1\", \"Meta\": \"training_data_iter\", \"Operation\": \"training\", \"Algorithm\": \"Linear Learner\", \"epoch\": 1}, \"StartTime\": 1614517736.387766}\n",
      "\u001b[0m\n",
      "\u001b[34m[02/28/2021 13:08:58 INFO 139728157366080] #throughput_metric: host=algo-1, train throughput=25682.6064593 records/second\u001b[0m\n",
      "\u001b[34m[2021-02-28 13:09:00.324] [tensorio] [info] epoch_stats={\"data_pipeline\": \"/opt/ml/input/data/train\", \"epoch\": 7, \"duration\": 1863, \"num_examples\": 54, \"num_bytes\": 11068512}\u001b[0m\n",
      "\u001b[34m#metrics {\"Metrics\": {\"train_binary_classification_weighted_cross_entropy_objective\": {\"count\": 1, \"max\": 1.1255798846550709, \"sum\": 1.1255798846550709, \"min\": 1.1255798846550709}}, \"EndTime\": 1614517740.324646, \"Dimensions\": {\"model\": 0, \"Host\": \"algo-1\", \"Operation\": \"training\", \"Algorithm\": \"Linear Learner\", \"epoch\": 2}, \"StartTime\": 1614517740.324559}\n",
      "\u001b[0m\n",
      "\u001b[34m#metrics {\"Metrics\": {\"train_binary_classification_weighted_cross_entropy_objective\": {\"count\": 1, \"max\": 1.127503922372494, \"sum\": 1.127503922372494, \"min\": 1.127503922372494}}, \"EndTime\": 1614517740.324757, \"Dimensions\": {\"model\": 1, \"Host\": \"algo-1\", \"Operation\": \"training\", \"Algorithm\": \"Linear Learner\", \"epoch\": 2}, \"StartTime\": 1614517740.324741}\n",
      "\u001b[0m\n",
      "\u001b[34m#metrics {\"Metrics\": {\"train_binary_classification_weighted_cross_entropy_objective\": {\"count\": 1, \"max\": 1.1236252717791864, \"sum\": 1.1236252717791864, \"min\": 1.1236252717791864}}, \"EndTime\": 1614517740.324804, \"Dimensions\": {\"model\": 2, \"Host\": \"algo-1\", \"Operation\": \"training\", \"Algorithm\": \"Linear Learner\", \"epoch\": 2}, \"StartTime\": 1614517740.324793}\n",
      "\u001b[0m\n",
      "\u001b[34m#metrics {\"Metrics\": {\"train_binary_classification_weighted_cross_entropy_objective\": {\"count\": 1, \"max\": 1.1254336386626622, \"sum\": 1.1254336386626622, \"min\": 1.1254336386626622}}, \"EndTime\": 1614517740.324846, \"Dimensions\": {\"model\": 3, \"Host\": \"algo-1\", \"Operation\": \"training\", \"Algorithm\": \"Linear Learner\", \"epoch\": 2}, \"StartTime\": 1614517740.324835}\n",
      "\u001b[0m\n",
      "\u001b[34m#metrics {\"Metrics\": {\"train_binary_classification_weighted_cross_entropy_objective\": {\"count\": 1, \"max\": 1.1914359983048348, \"sum\": 1.1914359983048348, \"min\": 1.1914359983048348}}, \"EndTime\": 1614517740.324886, \"Dimensions\": {\"model\": 4, \"Host\": \"algo-1\", \"Operation\": \"training\", \"Algorithm\": \"Linear Learner\", \"epoch\": 2}, \"StartTime\": 1614517740.324875}\n",
      "\u001b[0m\n",
      "\u001b[34m#metrics {\"Metrics\": {\"train_binary_classification_weighted_cross_entropy_objective\": {\"count\": 1, \"max\": 1.2114315968639446, \"sum\": 1.2114315968639446, \"min\": 1.2114315968639446}}, \"EndTime\": 1614517740.324924, \"Dimensions\": {\"model\": 5, \"Host\": \"algo-1\", \"Operation\": \"training\", \"Algorithm\": \"Linear Learner\", \"epoch\": 2}, \"StartTime\": 1614517740.324915}\n",
      "\u001b[0m\n",
      "\u001b[34m#metrics {\"Metrics\": {\"train_binary_classification_weighted_cross_entropy_objective\": {\"count\": 1, \"max\": 1.1933684853607753, \"sum\": 1.1933684853607753, \"min\": 1.1933684853607753}}, \"EndTime\": 1614517740.324966, \"Dimensions\": {\"model\": 6, \"Host\": \"algo-1\", \"Operation\": \"training\", \"Algorithm\": \"Linear Learner\", \"epoch\": 2}, \"StartTime\": 1614517740.324956}\n",
      "\u001b[0m\n",
      "\u001b[34m#metrics {\"Metrics\": {\"train_binary_classification_weighted_cross_entropy_objective\": {\"count\": 1, \"max\": 1.2144844245190891, \"sum\": 1.2144844245190891, \"min\": 1.2144844245190891}}, \"EndTime\": 1614517740.325005, \"Dimensions\": {\"model\": 7, \"Host\": \"algo-1\", \"Operation\": \"training\", \"Algorithm\": \"Linear Learner\", \"epoch\": 2}, \"StartTime\": 1614517740.324995}\n",
      "\u001b[0m\n",
      "\u001b[34m#metrics {\"Metrics\": {\"train_binary_classification_weighted_cross_entropy_objective\": {\"count\": 1, \"max\": 1.1240565600125294, \"sum\": 1.1240565600125294, \"min\": 1.1240565600125294}}, \"EndTime\": 1614517740.325044, \"Dimensions\": {\"model\": 8, \"Host\": \"algo-1\", \"Operation\": \"training\", \"Algorithm\": \"Linear Learner\", \"epoch\": 2}, \"StartTime\": 1614517740.325034}\n",
      "\u001b[0m\n",
      "\u001b[34m#metrics {\"Metrics\": {\"train_binary_classification_weighted_cross_entropy_objective\": {\"count\": 1, \"max\": 1.1245893658332105, \"sum\": 1.1245893658332105, \"min\": 1.1245893658332105}}, \"EndTime\": 1614517740.325082, \"Dimensions\": {\"model\": 9, \"Host\": \"algo-1\", \"Operation\": \"training\", \"Algorithm\": \"Linear Learner\", \"epoch\": 2}, \"StartTime\": 1614517740.325072}\n",
      "\u001b[0m\n",
      "\u001b[34m#metrics {\"Metrics\": {\"train_binary_classification_weighted_cross_entropy_objective\": {\"count\": 1, \"max\": 1.1243119184386055, \"sum\": 1.1243119184386055, \"min\": 1.1243119184386055}}, \"EndTime\": 1614517740.32512, \"Dimensions\": {\"model\": 10, \"Host\": \"algo-1\", \"Operation\": \"training\", \"Algorithm\": \"Linear Learner\", \"epoch\": 2}, \"StartTime\": 1614517740.32511}\n",
      "\u001b[0m\n",
      "\u001b[34m#metrics {\"Metrics\": {\"train_binary_classification_weighted_cross_entropy_objective\": {\"count\": 1, \"max\": 1.1222115708836968, \"sum\": 1.1222115708836968, \"min\": 1.1222115708836968}}, \"EndTime\": 1614517740.325159, \"Dimensions\": {\"model\": 11, \"Host\": \"algo-1\", \"Operation\": \"training\", \"Algorithm\": \"Linear Learner\", \"epoch\": 2}, \"StartTime\": 1614517740.325149}\n",
      "\u001b[0m\n",
      "\u001b[34m#metrics {\"Metrics\": {\"train_binary_classification_weighted_cross_entropy_objective\": {\"count\": 1, \"max\": 1.1907482518609964, \"sum\": 1.1907482518609964, \"min\": 1.1907482518609964}}, \"EndTime\": 1614517740.325197, \"Dimensions\": {\"model\": 12, \"Host\": \"algo-1\", \"Operation\": \"training\", \"Algorithm\": \"Linear Learner\", \"epoch\": 2}, \"StartTime\": 1614517740.325187}\n",
      "\u001b[0m\n",
      "\u001b[34m#metrics {\"Metrics\": {\"train_binary_classification_weighted_cross_entropy_objective\": {\"count\": 1, \"max\": 1.214694704451651, \"sum\": 1.214694704451651, \"min\": 1.214694704451651}}, \"EndTime\": 1614517740.325236, \"Dimensions\": {\"model\": 13, \"Host\": \"algo-1\", \"Operation\": \"training\", \"Algorithm\": \"Linear Learner\", \"epoch\": 2}, \"StartTime\": 1614517740.325226}\n",
      "\u001b[0m\n",
      "\u001b[34m#metrics {\"Metrics\": {\"train_binary_classification_weighted_cross_entropy_objective\": {\"count\": 1, \"max\": 1.1941961117150648, \"sum\": 1.1941961117150648, \"min\": 1.1941961117150648}}, \"EndTime\": 1614517740.325278, \"Dimensions\": {\"model\": 14, \"Host\": \"algo-1\", \"Operation\": \"training\", \"Algorithm\": \"Linear Learner\", \"epoch\": 2}, \"StartTime\": 1614517740.325267}\n",
      "\u001b[0m\n",
      "\u001b[34m#metrics {\"Metrics\": {\"train_binary_classification_weighted_cross_entropy_objective\": {\"count\": 1, \"max\": 1.213649993320681, \"sum\": 1.213649993320681, \"min\": 1.213649993320681}}, \"EndTime\": 1614517740.325326, \"Dimensions\": {\"model\": 15, \"Host\": \"algo-1\", \"Operation\": \"training\", \"Algorithm\": \"Linear Learner\", \"epoch\": 2}, \"StartTime\": 1614517740.325317}\n",
      "\u001b[0m\n",
      "\u001b[34m#metrics {\"Metrics\": {\"train_binary_classification_weighted_cross_entropy_objective\": {\"count\": 1, \"max\": 1.1913712872199294, \"sum\": 1.1913712872199294, \"min\": 1.1913712872199294}}, \"EndTime\": 1614517740.325362, \"Dimensions\": {\"model\": 16, \"Host\": \"algo-1\", \"Operation\": \"training\", \"Algorithm\": \"Linear Learner\", \"epoch\": 2}, \"StartTime\": 1614517740.325353}\n",
      "\u001b[0m\n",
      "\u001b[34m#metrics {\"Metrics\": {\"train_binary_classification_weighted_cross_entropy_objective\": {\"count\": 1, \"max\": 1.1917903062352595, \"sum\": 1.1917903062352595, \"min\": 1.1917903062352595}}, \"EndTime\": 1614517740.325399, \"Dimensions\": {\"model\": 17, \"Host\": \"algo-1\", \"Operation\": \"training\", \"Algorithm\": \"Linear Learner\", \"epoch\": 2}, \"StartTime\": 1614517740.32539}\n",
      "\u001b[0m\n",
      "\u001b[34m#metrics {\"Metrics\": {\"train_binary_classification_weighted_cross_entropy_objective\": {\"count\": 1, \"max\": 1.1914740289652124, \"sum\": 1.1914740289652124, \"min\": 1.1914740289652124}}, \"EndTime\": 1614517740.325436, \"Dimensions\": {\"model\": 18, \"Host\": \"algo-1\", \"Operation\": \"training\", \"Algorithm\": \"Linear Learner\", \"epoch\": 2}, \"StartTime\": 1614517740.325426}\n",
      "\u001b[0m\n",
      "\u001b[34m#metrics {\"Metrics\": {\"train_binary_classification_weighted_cross_entropy_objective\": {\"count\": 1, \"max\": 1.1917705423607017, \"sum\": 1.1917705423607017, \"min\": 1.1917705423607017}}, \"EndTime\": 1614517740.325472, \"Dimensions\": {\"model\": 19, \"Host\": \"algo-1\", \"Operation\": \"training\", \"Algorithm\": \"Linear Learner\", \"epoch\": 2}, \"StartTime\": 1614517740.325463}\n",
      "\u001b[0m\n",
      "\u001b[34m#metrics {\"Metrics\": {\"train_binary_classification_weighted_cross_entropy_objective\": {\"count\": 1, \"max\": 1.2345403672704156, \"sum\": 1.2345403672704156, \"min\": 1.2345403672704156}}, \"EndTime\": 1614517740.325509, \"Dimensions\": {\"model\": 20, \"Host\": \"algo-1\", \"Operation\": \"training\", \"Algorithm\": \"Linear Learner\", \"epoch\": 2}, \"StartTime\": 1614517740.325499}\n",
      "\u001b[0m\n",
      "\u001b[34m#metrics {\"Metrics\": {\"train_binary_classification_weighted_cross_entropy_objective\": {\"count\": 1, \"max\": 1.24279840663694, \"sum\": 1.24279840663694, \"min\": 1.24279840663694}}, \"EndTime\": 1614517740.325546, \"Dimensions\": {\"model\": 21, \"Host\": \"algo-1\", \"Operation\": \"training\", \"Algorithm\": \"Linear Learner\", \"epoch\": 2}, \"StartTime\": 1614517740.325537}\n",
      "\u001b[0m\n",
      "\u001b[34m#metrics {\"Metrics\": {\"train_binary_classification_weighted_cross_entropy_objective\": {\"count\": 1, \"max\": 1.2314879737710054, \"sum\": 1.2314879737710054, \"min\": 1.2314879737710054}}, \"EndTime\": 1614517740.325584, \"Dimensions\": {\"model\": 22, \"Host\": \"algo-1\", \"Operation\": \"training\", \"Algorithm\": \"Linear Learner\", \"epoch\": 2}, \"StartTime\": 1614517740.325575}\n",
      "\u001b[0m\n",
      "\u001b[34m#metrics {\"Metrics\": {\"train_binary_classification_weighted_cross_entropy_objective\": {\"count\": 1, \"max\": 1.245341089788473, \"sum\": 1.245341089788473, \"min\": 1.245341089788473}}, \"EndTime\": 1614517740.325621, \"Dimensions\": {\"model\": 23, \"Host\": \"algo-1\", \"Operation\": \"training\", \"Algorithm\": \"Linear Learner\", \"epoch\": 2}, \"StartTime\": 1614517740.325612}\n",
      "\u001b[0m\n",
      "\u001b[34m#metrics {\"Metrics\": {\"train_binary_classification_weighted_cross_entropy_objective\": {\"count\": 1, \"max\": 1.3482476392062206, \"sum\": 1.3482476392062206, \"min\": 1.3482476392062206}}, \"EndTime\": 1614517740.325658, \"Dimensions\": {\"model\": 24, \"Host\": \"algo-1\", \"Operation\": \"training\", \"Algorithm\": \"Linear Learner\", \"epoch\": 2}, \"StartTime\": 1614517740.325648}\n",
      "\u001b[0m\n",
      "\u001b[34m#metrics {\"Metrics\": {\"train_binary_classification_weighted_cross_entropy_objective\": {\"count\": 1, \"max\": 1.3483064632775648, \"sum\": 1.3483064632775648, \"min\": 1.3483064632775648}}, \"EndTime\": 1614517740.325696, \"Dimensions\": {\"model\": 25, \"Host\": \"algo-1\", \"Operation\": \"training\", \"Algorithm\": \"Linear Learner\", \"epoch\": 2}, \"StartTime\": 1614517740.325686}\n",
      "\u001b[0m\n",
      "\u001b[34m#metrics {\"Metrics\": {\"train_binary_classification_weighted_cross_entropy_objective\": {\"count\": 1, \"max\": 1.3482384217460202, \"sum\": 1.3482384217460202, \"min\": 1.3482384217460202}}, \"EndTime\": 1614517740.325739, \"Dimensions\": {\"model\": 26, \"Host\": \"algo-1\", \"Operation\": \"training\", \"Algorithm\": \"Linear Learner\", \"epoch\": 2}, \"StartTime\": 1614517740.325729}\n",
      "\u001b[0m\n",
      "\u001b[34m#metrics {\"Metrics\": {\"train_binary_classification_weighted_cross_entropy_objective\": {\"count\": 1, \"max\": 1.3483531632333432, \"sum\": 1.3483531632333432, \"min\": 1.3483531632333432}}, \"EndTime\": 1614517740.325779, \"Dimensions\": {\"model\": 27, \"Host\": \"algo-1\", \"Operation\": \"training\", \"Algorithm\": \"Linear Learner\", \"epoch\": 2}, \"StartTime\": 1614517740.325769}\n",
      "\u001b[0m\n",
      "\u001b[34m#metrics {\"Metrics\": {\"train_binary_classification_weighted_cross_entropy_objective\": {\"count\": 1, \"max\": 1.3655195013082253, \"sum\": 1.3655195013082253, \"min\": 1.3655195013082253}}, \"EndTime\": 1614517740.325817, \"Dimensions\": {\"model\": 28, \"Host\": \"algo-1\", \"Operation\": \"training\", \"Algorithm\": \"Linear Learner\", \"epoch\": 2}, \"StartTime\": 1614517740.325807}\n",
      "\u001b[0m\n",
      "\u001b[34m#metrics {\"Metrics\": {\"train_binary_classification_weighted_cross_entropy_objective\": {\"count\": 1, \"max\": 1.3701466179613797, \"sum\": 1.3701466179613797, \"min\": 1.3701466179613797}}, \"EndTime\": 1614517740.325855, \"Dimensions\": {\"model\": 29, \"Host\": \"algo-1\", \"Operation\": \"training\", \"Algorithm\": \"Linear Learner\", \"epoch\": 2}, \"StartTime\": 1614517740.325845}\n",
      "\u001b[0m\n",
      "\u001b[34m#metrics {\"Metrics\": {\"train_binary_classification_weighted_cross_entropy_objective\": {\"count\": 1, \"max\": 1.3646764123304835, \"sum\": 1.3646764123304835, \"min\": 1.3646764123304835}}, \"EndTime\": 1614517740.325899, \"Dimensions\": {\"model\": 30, \"Host\": \"algo-1\", \"Operation\": \"training\", \"Algorithm\": \"Linear Learner\", \"epoch\": 2}, \"StartTime\": 1614517740.325886}\n",
      "\u001b[0m\n",
      "\u001b[34m#metrics {\"Metrics\": {\"train_binary_classification_weighted_cross_entropy_objective\": {\"count\": 1, \"max\": 1.370110065964033, \"sum\": 1.370110065964033, \"min\": 1.370110065964033}}, \"EndTime\": 1614517740.325955, \"Dimensions\": {\"model\": 31, \"Host\": \"algo-1\", \"Operation\": \"training\", \"Algorithm\": \"Linear Learner\", \"epoch\": 2}, \"StartTime\": 1614517740.325939}\n",
      "\u001b[0m\n",
      "\u001b[34m[02/28/2021 13:09:00 INFO 139728157366080] #quality_metric: host=algo-1, epoch=2, train binary_classification_weighted_cross_entropy_objective <loss>=1.12557988466\u001b[0m\n",
      "\u001b[34m[02/28/2021 13:09:00 INFO 139728157366080] #early_stopping_criteria_metric: host=algo-1, epoch=2, criteria=binary_classification_weighted_cross_entropy_objective, value=1.12221157088\u001b[0m\n",
      "\u001b[34m[02/28/2021 13:09:00 INFO 139728157366080] Epoch 2: Loss improved. Updating best model\u001b[0m\n",
      "\u001b[34m[02/28/2021 13:09:00 INFO 139728157366080] Saving model for epoch: 2\u001b[0m\n",
      "\u001b[34m[02/28/2021 13:09:00 INFO 139728157366080] Saved checkpoint to \"/tmp/tmp7QVXYu/mx-mod-0000.params\"\u001b[0m\n",
      "\u001b[34m[02/28/2021 13:09:00 INFO 139728157366080] #progress_metric: host=algo-1, completed 20 % of epochs\u001b[0m\n",
      "\u001b[34m#metrics {\"Metrics\": {\"Max Batches Seen Between Resets\": {\"count\": 1, \"max\": 54, \"sum\": 54.0, \"min\": 54}, \"Number of Batches Since Last Reset\": {\"count\": 1, \"max\": 54, \"sum\": 54.0, \"min\": 54}, \"Number of Records Since Last Reset\": {\"count\": 1, \"max\": 53214, \"sum\": 53214.0, \"min\": 53214}, \"Total Batches Seen\": {\"count\": 1, \"max\": 174, \"sum\": 174.0, \"min\": 174}, \"Total Records Seen\": {\"count\": 1, \"max\": 171642, \"sum\": 171642.0, \"min\": 171642}, \"Max Records Seen Between Resets\": {\"count\": 1, \"max\": 53214, \"sum\": 53214.0, \"min\": 53214}, \"Reset Count\": {\"count\": 1, \"max\": 5, \"sum\": 5.0, \"min\": 5}}, \"EndTime\": 1614517740.335896, \"Dimensions\": {\"Host\": \"algo-1\", \"Meta\": \"training_data_iter\", \"Operation\": \"training\", \"Algorithm\": \"Linear Learner\", \"epoch\": 2}, \"StartTime\": 1614517738.460474}\n",
      "\u001b[0m\n",
      "\u001b[34m[02/28/2021 13:09:00 INFO 139728157366080] #throughput_metric: host=algo-1, train throughput=28372.3254475 records/second\u001b[0m\n",
      "\u001b[34m[2021-02-28 13:09:02.396] [tensorio] [info] epoch_stats={\"data_pipeline\": \"/opt/ml/input/data/train\", \"epoch\": 9, \"duration\": 2059, \"num_examples\": 54, \"num_bytes\": 11068512}\u001b[0m\n",
      "\u001b[34m#metrics {\"Metrics\": {\"train_binary_classification_weighted_cross_entropy_objective\": {\"count\": 1, \"max\": 1.1191114582565596, \"sum\": 1.1191114582565596, \"min\": 1.1191114582565596}}, \"EndTime\": 1614517742.396544, \"Dimensions\": {\"model\": 0, \"Host\": \"algo-1\", \"Operation\": \"training\", \"Algorithm\": \"Linear Learner\", \"epoch\": 3}, \"StartTime\": 1614517742.396453}\n",
      "\u001b[0m\n",
      "\u001b[34m#metrics {\"Metrics\": {\"train_binary_classification_weighted_cross_entropy_objective\": {\"count\": 1, \"max\": 1.119337890625, \"sum\": 1.119337890625, \"min\": 1.119337890625}}, \"EndTime\": 1614517742.396645, \"Dimensions\": {\"model\": 1, \"Host\": \"algo-1\", \"Operation\": \"training\", \"Algorithm\": \"Linear Learner\", \"epoch\": 3}, \"StartTime\": 1614517742.396625}\n",
      "\u001b[0m\n",
      "\u001b[34m#metrics {\"Metrics\": {\"train_binary_classification_weighted_cross_entropy_objective\": {\"count\": 1, \"max\": 1.1182137094173792, \"sum\": 1.1182137094173792, \"min\": 1.1182137094173792}}, \"EndTime\": 1614517742.396699, \"Dimensions\": {\"model\": 2, \"Host\": \"algo-1\", \"Operation\": \"training\", \"Algorithm\": \"Linear Learner\", \"epoch\": 3}, \"StartTime\": 1614517742.396687}\n",
      "\u001b[0m\n",
      "\u001b[34m#metrics {\"Metrics\": {\"train_binary_classification_weighted_cross_entropy_objective\": {\"count\": 1, \"max\": 1.1184151530715654, \"sum\": 1.1184151530715654, \"min\": 1.1184151530715654}}, \"EndTime\": 1614517742.396743, \"Dimensions\": {\"model\": 3, \"Host\": \"algo-1\", \"Operation\": \"training\", \"Algorithm\": \"Linear Learner\", \"epoch\": 3}, \"StartTime\": 1614517742.396732}\n",
      "\u001b[0m\n",
      "\u001b[34m#metrics {\"Metrics\": {\"train_binary_classification_weighted_cross_entropy_objective\": {\"count\": 1, \"max\": 1.1809526113834021, \"sum\": 1.1809526113834021, \"min\": 1.1809526113834021}}, \"EndTime\": 1614517742.396784, \"Dimensions\": {\"model\": 4, \"Host\": \"algo-1\", \"Operation\": \"training\", \"Algorithm\": \"Linear Learner\", \"epoch\": 3}, \"StartTime\": 1614517742.396773}\n",
      "\u001b[0m\n",
      "\u001b[34m#metrics {\"Metrics\": {\"train_binary_classification_weighted_cross_entropy_objective\": {\"count\": 1, \"max\": 1.2091794813623968, \"sum\": 1.2091794813623968, \"min\": 1.2091794813623968}}, \"EndTime\": 1614517742.396826, \"Dimensions\": {\"model\": 5, \"Host\": \"algo-1\", \"Operation\": \"training\", \"Algorithm\": \"Linear Learner\", \"epoch\": 3}, \"StartTime\": 1614517742.396815}\n",
      "\u001b[0m\n",
      "\u001b[34m#metrics {\"Metrics\": {\"train_binary_classification_weighted_cross_entropy_objective\": {\"count\": 1, \"max\": 1.181122881043632, \"sum\": 1.181122881043632, \"min\": 1.181122881043632}}, \"EndTime\": 1614517742.396866, \"Dimensions\": {\"model\": 6, \"Host\": \"algo-1\", \"Operation\": \"training\", \"Algorithm\": \"Linear Learner\", \"epoch\": 3}, \"StartTime\": 1614517742.396856}\n",
      "\u001b[0m\n",
      "\u001b[34m#metrics {\"Metrics\": {\"train_binary_classification_weighted_cross_entropy_objective\": {\"count\": 1, \"max\": 1.2085256589493663, \"sum\": 1.2085256589493663, \"min\": 1.2085256589493663}}, \"EndTime\": 1614517742.396914, \"Dimensions\": {\"model\": 7, \"Host\": \"algo-1\", \"Operation\": \"training\", \"Algorithm\": \"Linear Learner\", \"epoch\": 3}, \"StartTime\": 1614517742.396902}\n",
      "\u001b[0m\n",
      "\u001b[34m#metrics {\"Metrics\": {\"train_binary_classification_weighted_cross_entropy_objective\": {\"count\": 1, \"max\": 1.1185036390772405, \"sum\": 1.1185036390772405, \"min\": 1.1185036390772405}}, \"EndTime\": 1614517742.396957, \"Dimensions\": {\"model\": 8, \"Host\": \"algo-1\", \"Operation\": \"training\", \"Algorithm\": \"Linear Learner\", \"epoch\": 3}, \"StartTime\": 1614517742.396946}\n",
      "\u001b[0m\n",
      "\u001b[34m#metrics {\"Metrics\": {\"train_binary_classification_weighted_cross_entropy_objective\": {\"count\": 1, \"max\": 1.1184946680608785, \"sum\": 1.1184946680608785, \"min\": 1.1184946680608785}}, \"EndTime\": 1614517742.397003, \"Dimensions\": {\"model\": 9, \"Host\": \"algo-1\", \"Operation\": \"training\", \"Algorithm\": \"Linear Learner\", \"epoch\": 3}, \"StartTime\": 1614517742.396992}\n",
      "\u001b[0m\n",
      "\u001b[34m#metrics {\"Metrics\": {\"train_binary_classification_weighted_cross_entropy_objective\": {\"count\": 1, \"max\": 1.1182840898621758, \"sum\": 1.1182840898621758, \"min\": 1.1182840898621758}}, \"EndTime\": 1614517742.397051, \"Dimensions\": {\"model\": 10, \"Host\": \"algo-1\", \"Operation\": \"training\", \"Algorithm\": \"Linear Learner\", \"epoch\": 3}, \"StartTime\": 1614517742.397039}\n",
      "\u001b[0m\n",
      "\u001b[34m#metrics {\"Metrics\": {\"train_binary_classification_weighted_cross_entropy_objective\": {\"count\": 1, \"max\": 1.1170738076264004, \"sum\": 1.1170738076264004, \"min\": 1.1170738076264004}}, \"EndTime\": 1614517742.397098, \"Dimensions\": {\"model\": 11, \"Host\": \"algo-1\", \"Operation\": \"training\", \"Algorithm\": \"Linear Learner\", \"epoch\": 3}, \"StartTime\": 1614517742.397087}\n",
      "\u001b[0m\n",
      "\u001b[34m#metrics {\"Metrics\": {\"train_binary_classification_weighted_cross_entropy_objective\": {\"count\": 1, \"max\": 1.1831937255859375, \"sum\": 1.1831937255859375, \"min\": 1.1831937255859375}}, \"EndTime\": 1614517742.397145, \"Dimensions\": {\"model\": 12, \"Host\": \"algo-1\", \"Operation\": \"training\", \"Algorithm\": \"Linear Learner\", \"epoch\": 3}, \"StartTime\": 1614517742.397134}\n",
      "\u001b[0m\n",
      "\u001b[34m#metrics {\"Metrics\": {\"train_binary_classification_weighted_cross_entropy_objective\": {\"count\": 1, \"max\": 1.2110578958763267, \"sum\": 1.2110578958763267, \"min\": 1.2110578958763267}}, \"EndTime\": 1614517742.397198, \"Dimensions\": {\"model\": 13, \"Host\": \"algo-1\", \"Operation\": \"training\", \"Algorithm\": \"Linear Learner\", \"epoch\": 3}, \"StartTime\": 1614517742.397187}\n",
      "\u001b[0m\n",
      "\u001b[34m#metrics {\"Metrics\": {\"train_binary_classification_weighted_cross_entropy_objective\": {\"count\": 1, \"max\": 1.1823097960274174, \"sum\": 1.1823097960274174, \"min\": 1.1823097960274174}}, \"EndTime\": 1614517742.397242, \"Dimensions\": {\"model\": 14, \"Host\": \"algo-1\", \"Operation\": \"training\", \"Algorithm\": \"Linear Learner\", \"epoch\": 3}, \"StartTime\": 1614517742.397231}\n",
      "\u001b[0m\n",
      "\u001b[34m#metrics {\"Metrics\": {\"train_binary_classification_weighted_cross_entropy_objective\": {\"count\": 1, \"max\": 1.2113020503206073, \"sum\": 1.2113020503206073, \"min\": 1.2113020503206073}}, \"EndTime\": 1614517742.397288, \"Dimensions\": {\"model\": 15, \"Host\": \"algo-1\", \"Operation\": \"training\", \"Algorithm\": \"Linear Learner\", \"epoch\": 3}, \"StartTime\": 1614517742.397277}\n",
      "\u001b[0m\n",
      "\u001b[34m#metrics {\"Metrics\": {\"train_binary_classification_weighted_cross_entropy_objective\": {\"count\": 1, \"max\": 1.191269009572155, \"sum\": 1.191269009572155, \"min\": 1.191269009572155}}, \"EndTime\": 1614517742.397334, \"Dimensions\": {\"model\": 16, \"Host\": \"algo-1\", \"Operation\": \"training\", \"Algorithm\": \"Linear Learner\", \"epoch\": 3}, \"StartTime\": 1614517742.397323}\n",
      "\u001b[0m\n",
      "\u001b[34m#metrics {\"Metrics\": {\"train_binary_classification_weighted_cross_entropy_objective\": {\"count\": 1, \"max\": 1.1917571123231132, \"sum\": 1.1917571123231132, \"min\": 1.1917571123231132}}, \"EndTime\": 1614517742.397375, \"Dimensions\": {\"model\": 17, \"Host\": \"algo-1\", \"Operation\": \"training\", \"Algorithm\": \"Linear Learner\", \"epoch\": 3}, \"StartTime\": 1614517742.397365}\n",
      "\u001b[0m\n",
      "\u001b[34m#metrics {\"Metrics\": {\"train_binary_classification_weighted_cross_entropy_objective\": {\"count\": 1, \"max\": 1.1913009942972435, \"sum\": 1.1913009942972435, \"min\": 1.1913009942972435}}, \"EndTime\": 1614517742.39742, \"Dimensions\": {\"model\": 18, \"Host\": \"algo-1\", \"Operation\": \"training\", \"Algorithm\": \"Linear Learner\", \"epoch\": 3}, \"StartTime\": 1614517742.397409}\n",
      "\u001b[0m\n",
      "\u001b[34m#metrics {\"Metrics\": {\"train_binary_classification_weighted_cross_entropy_objective\": {\"count\": 1, \"max\": 1.1917709834260761, \"sum\": 1.1917709834260761, \"min\": 1.1917709834260761}}, \"EndTime\": 1614517742.397465, \"Dimensions\": {\"model\": 19, \"Host\": \"algo-1\", \"Operation\": \"training\", \"Algorithm\": \"Linear Learner\", \"epoch\": 3}, \"StartTime\": 1614517742.397454}\n",
      "\u001b[0m\n",
      "\u001b[34m#metrics {\"Metrics\": {\"train_binary_classification_weighted_cross_entropy_objective\": {\"count\": 1, \"max\": 1.2367954239755306, \"sum\": 1.2367954239755306, \"min\": 1.2367954239755306}}, \"EndTime\": 1614517742.39751, \"Dimensions\": {\"model\": 20, \"Host\": \"algo-1\", \"Operation\": \"training\", \"Algorithm\": \"Linear Learner\", \"epoch\": 3}, \"StartTime\": 1614517742.397499}\n",
      "\u001b[0m\n",
      "\u001b[34m#metrics {\"Metrics\": {\"train_binary_classification_weighted_cross_entropy_objective\": {\"count\": 1, \"max\": 1.2397670253537736, \"sum\": 1.2397670253537736, \"min\": 1.2397670253537736}}, \"EndTime\": 1614517742.397549, \"Dimensions\": {\"model\": 21, \"Host\": \"algo-1\", \"Operation\": \"training\", \"Algorithm\": \"Linear Learner\", \"epoch\": 3}, \"StartTime\": 1614517742.397539}\n",
      "\u001b[0m\n",
      "\u001b[34m#metrics {\"Metrics\": {\"train_binary_classification_weighted_cross_entropy_objective\": {\"count\": 1, \"max\": 1.238616873111365, \"sum\": 1.238616873111365, \"min\": 1.238616873111365}}, \"EndTime\": 1614517742.397593, \"Dimensions\": {\"model\": 22, \"Host\": \"algo-1\", \"Operation\": \"training\", \"Algorithm\": \"Linear Learner\", \"epoch\": 3}, \"StartTime\": 1614517742.397582}\n",
      "\u001b[0m\n",
      "\u001b[34m#metrics {\"Metrics\": {\"train_binary_classification_weighted_cross_entropy_objective\": {\"count\": 1, \"max\": 1.2368337333247346, \"sum\": 1.2368337333247346, \"min\": 1.2368337333247346}}, \"EndTime\": 1614517742.397638, \"Dimensions\": {\"model\": 23, \"Host\": \"algo-1\", \"Operation\": \"training\", \"Algorithm\": \"Linear Learner\", \"epoch\": 3}, \"StartTime\": 1614517742.397627}\n",
      "\u001b[0m\n",
      "\u001b[34m#metrics {\"Metrics\": {\"train_binary_classification_weighted_cross_entropy_objective\": {\"count\": 1, \"max\": 1.3482300173201651, \"sum\": 1.3482300173201651, \"min\": 1.3482300173201651}}, \"EndTime\": 1614517742.397681, \"Dimensions\": {\"model\": 24, \"Host\": \"algo-1\", \"Operation\": \"training\", \"Algorithm\": \"Linear Learner\", \"epoch\": 3}, \"StartTime\": 1614517742.397671}\n",
      "\u001b[0m\n",
      "\u001b[34m#metrics {\"Metrics\": {\"train_binary_classification_weighted_cross_entropy_objective\": {\"count\": 1, \"max\": 1.3483241335311027, \"sum\": 1.3483241335311027, \"min\": 1.3483241335311027}}, \"EndTime\": 1614517742.397726, \"Dimensions\": {\"model\": 25, \"Host\": \"algo-1\", \"Operation\": \"training\", \"Algorithm\": \"Linear Learner\", \"epoch\": 3}, \"StartTime\": 1614517742.397715}\n",
      "\u001b[0m\n",
      "\u001b[34m#metrics {\"Metrics\": {\"train_binary_classification_weighted_cross_entropy_objective\": {\"count\": 1, \"max\": 1.3482118334500295, \"sum\": 1.3482118334500295, \"min\": 1.3482118334500295}}, \"EndTime\": 1614517742.397768, \"Dimensions\": {\"model\": 26, \"Host\": \"algo-1\", \"Operation\": \"training\", \"Algorithm\": \"Linear Learner\", \"epoch\": 3}, \"StartTime\": 1614517742.397757}\n",
      "\u001b[0m\n",
      "\u001b[34m#metrics {\"Metrics\": {\"train_binary_classification_weighted_cross_entropy_objective\": {\"count\": 1, \"max\": 1.3483628574587263, \"sum\": 1.3483628574587263, \"min\": 1.3483628574587263}}, \"EndTime\": 1614517742.397812, \"Dimensions\": {\"model\": 27, \"Host\": \"algo-1\", \"Operation\": \"training\", \"Algorithm\": \"Linear Learner\", \"epoch\": 3}, \"StartTime\": 1614517742.397801}\n",
      "\u001b[0m\n",
      "\u001b[34m#metrics {\"Metrics\": {\"train_binary_classification_weighted_cross_entropy_objective\": {\"count\": 1, \"max\": 1.3635183220629423, \"sum\": 1.3635183220629423, \"min\": 1.3635183220629423}}, \"EndTime\": 1614517742.397856, \"Dimensions\": {\"model\": 28, \"Host\": \"algo-1\", \"Operation\": \"training\", \"Algorithm\": \"Linear Learner\", \"epoch\": 3}, \"StartTime\": 1614517742.397845}\n",
      "\u001b[0m\n",
      "\u001b[34m#metrics {\"Metrics\": {\"train_binary_classification_weighted_cross_entropy_objective\": {\"count\": 1, \"max\": 1.3698281411224942, \"sum\": 1.3698281411224942, \"min\": 1.3698281411224942}}, \"EndTime\": 1614517742.397901, \"Dimensions\": {\"model\": 29, \"Host\": \"algo-1\", \"Operation\": \"training\", \"Algorithm\": \"Linear Learner\", \"epoch\": 3}, \"StartTime\": 1614517742.39789}\n",
      "\u001b[0m\n",
      "\u001b[34m#metrics {\"Metrics\": {\"train_binary_classification_weighted_cross_entropy_objective\": {\"count\": 1, \"max\": 1.3635595265514446, \"sum\": 1.3635595265514446, \"min\": 1.3635595265514446}}, \"EndTime\": 1614517742.397946, \"Dimensions\": {\"model\": 30, \"Host\": \"algo-1\", \"Operation\": \"training\", \"Algorithm\": \"Linear Learner\", \"epoch\": 3}, \"StartTime\": 1614517742.397933}\n",
      "\u001b[0m\n",
      "\u001b[34m#metrics {\"Metrics\": {\"train_binary_classification_weighted_cross_entropy_objective\": {\"count\": 1, \"max\": 1.3699337273363796, \"sum\": 1.3699337273363796, \"min\": 1.3699337273363796}}, \"EndTime\": 1614517742.397994, \"Dimensions\": {\"model\": 31, \"Host\": \"algo-1\", \"Operation\": \"training\", \"Algorithm\": \"Linear Learner\", \"epoch\": 3}, \"StartTime\": 1614517742.397984}\n",
      "\u001b[0m\n",
      "\u001b[34m[02/28/2021 13:09:02 INFO 139728157366080] #quality_metric: host=algo-1, epoch=3, train binary_classification_weighted_cross_entropy_objective <loss>=1.11911145826\u001b[0m\n",
      "\u001b[34m[02/28/2021 13:09:02 INFO 139728157366080] #early_stopping_criteria_metric: host=algo-1, epoch=3, criteria=binary_classification_weighted_cross_entropy_objective, value=1.11707380763\u001b[0m\n",
      "\u001b[34m[02/28/2021 13:09:02 INFO 139728157366080] Epoch 3: Loss improved. Updating best model\u001b[0m\n",
      "\u001b[34m[02/28/2021 13:09:02 INFO 139728157366080] Saving model for epoch: 3\u001b[0m\n",
      "\u001b[34m[02/28/2021 13:09:02 INFO 139728157366080] Saved checkpoint to \"/tmp/tmpvy2FRo/mx-mod-0000.params\"\u001b[0m\n",
      "\u001b[34m[02/28/2021 13:09:02 INFO 139728157366080] #progress_metric: host=algo-1, completed 26 % of epochs\u001b[0m\n",
      "\u001b[34m#metrics {\"Metrics\": {\"Max Batches Seen Between Resets\": {\"count\": 1, \"max\": 54, \"sum\": 54.0, \"min\": 54}, \"Number of Batches Since Last Reset\": {\"count\": 1, \"max\": 54, \"sum\": 54.0, \"min\": 54}, \"Number of Records Since Last Reset\": {\"count\": 1, \"max\": 53214, \"sum\": 53214.0, \"min\": 53214}, \"Total Batches Seen\": {\"count\": 1, \"max\": 228, \"sum\": 228.0, \"min\": 228}, \"Total Records Seen\": {\"count\": 1, \"max\": 224856, \"sum\": 224856.0, \"min\": 224856}, \"Max Records Seen Between Resets\": {\"count\": 1, \"max\": 53214, \"sum\": 53214.0, \"min\": 53214}, \"Reset Count\": {\"count\": 1, \"max\": 6, \"sum\": 6.0, \"min\": 6}}, \"EndTime\": 1614517742.406216, \"Dimensions\": {\"Host\": \"algo-1\", \"Meta\": \"training_data_iter\", \"Operation\": \"training\", \"Algorithm\": \"Linear Learner\", \"epoch\": 3}, \"StartTime\": 1614517740.33658}\n",
      "\u001b[0m\n",
      "\u001b[34m[02/28/2021 13:09:02 INFO 139728157366080] #throughput_metric: host=algo-1, train throughput=25710.2647282 records/second\u001b[0m\n",
      "\u001b[34m[2021-02-28 13:09:04.234] [tensorio] [info] epoch_stats={\"data_pipeline\": \"/opt/ml/input/data/train\", \"epoch\": 11, \"duration\": 1827, \"num_examples\": 54, \"num_bytes\": 11068512}\u001b[0m\n",
      "\u001b[34m#metrics {\"Metrics\": {\"train_binary_classification_weighted_cross_entropy_objective\": {\"count\": 1, \"max\": 1.1157573011866155, \"sum\": 1.1157573011866155, \"min\": 1.1157573011866155}}, \"EndTime\": 1614517744.234683, \"Dimensions\": {\"model\": 0, \"Host\": \"algo-1\", \"Operation\": \"training\", \"Algorithm\": \"Linear Learner\", \"epoch\": 4}, \"StartTime\": 1614517744.234556}\n",
      "\u001b[0m\n",
      "\u001b[34m#metrics {\"Metrics\": {\"train_binary_classification_weighted_cross_entropy_objective\": {\"count\": 1, \"max\": 1.115372927107901, \"sum\": 1.115372927107901, \"min\": 1.115372927107901}}, \"EndTime\": 1614517744.234802, \"Dimensions\": {\"model\": 1, \"Host\": \"algo-1\", \"Operation\": \"training\", \"Algorithm\": \"Linear Learner\", \"epoch\": 4}, \"StartTime\": 1614517744.23478}\n",
      "\u001b[0m\n",
      "\u001b[34m#metrics {\"Metrics\": {\"train_binary_classification_weighted_cross_entropy_objective\": {\"count\": 1, \"max\": 1.115297160598467, \"sum\": 1.115297160598467, \"min\": 1.115297160598467}}, \"EndTime\": 1614517744.234875, \"Dimensions\": {\"model\": 2, \"Host\": \"algo-1\", \"Operation\": \"training\", \"Algorithm\": \"Linear Learner\", \"epoch\": 4}, \"StartTime\": 1614517744.234858}\n",
      "\u001b[0m\n",
      "\u001b[34m#metrics {\"Metrics\": {\"train_binary_classification_weighted_cross_entropy_objective\": {\"count\": 1, \"max\": 1.1149326206423202, \"sum\": 1.1149326206423202, \"min\": 1.1149326206423202}}, \"EndTime\": 1614517744.234941, \"Dimensions\": {\"model\": 3, \"Host\": \"algo-1\", \"Operation\": \"training\", \"Algorithm\": \"Linear Learner\", \"epoch\": 4}, \"StartTime\": 1614517744.234924}\n",
      "\u001b[0m\n",
      "\u001b[34m#metrics {\"Metrics\": {\"train_binary_classification_weighted_cross_entropy_objective\": {\"count\": 1, \"max\": 1.173616148750737, \"sum\": 1.173616148750737, \"min\": 1.173616148750737}}, \"EndTime\": 1614517744.235012, \"Dimensions\": {\"model\": 4, \"Host\": \"algo-1\", \"Operation\": \"training\", \"Algorithm\": \"Linear Learner\", \"epoch\": 4}, \"StartTime\": 1614517744.234996}\n",
      "\u001b[0m\n",
      "\u001b[34m#metrics {\"Metrics\": {\"train_binary_classification_weighted_cross_entropy_objective\": {\"count\": 1, \"max\": 1.2068416114663179, \"sum\": 1.2068416114663179, \"min\": 1.2068416114663179}}, \"EndTime\": 1614517744.23507, \"Dimensions\": {\"model\": 5, \"Host\": \"algo-1\", \"Operation\": \"training\", \"Algorithm\": \"Linear Learner\", \"epoch\": 4}, \"StartTime\": 1614517744.235054}\n",
      "\u001b[0m\n",
      "\u001b[34m#metrics {\"Metrics\": {\"train_binary_classification_weighted_cross_entropy_objective\": {\"count\": 1, \"max\": 1.1736270498599646, \"sum\": 1.1736270498599646, \"min\": 1.1736270498599646}}, \"EndTime\": 1614517744.235128, \"Dimensions\": {\"model\": 6, \"Host\": \"algo-1\", \"Operation\": \"training\", \"Algorithm\": \"Linear Learner\", \"epoch\": 4}, \"StartTime\": 1614517744.235112}\n",
      "\u001b[0m\n",
      "\u001b[34m#metrics {\"Metrics\": {\"train_binary_classification_weighted_cross_entropy_objective\": {\"count\": 1, \"max\": 1.205178561228626, \"sum\": 1.205178561228626, \"min\": 1.205178561228626}}, \"EndTime\": 1614517744.235185, \"Dimensions\": {\"model\": 7, \"Host\": \"algo-1\", \"Operation\": \"training\", \"Algorithm\": \"Linear Learner\", \"epoch\": 4}, \"StartTime\": 1614517744.23517}\n",
      "\u001b[0m\n",
      "\u001b[34m#metrics {\"Metrics\": {\"train_binary_classification_weighted_cross_entropy_objective\": {\"count\": 1, \"max\": 1.115677080262382, \"sum\": 1.115677080262382, \"min\": 1.115677080262382}}, \"EndTime\": 1614517744.235242, \"Dimensions\": {\"model\": 8, \"Host\": \"algo-1\", \"Operation\": \"training\", \"Algorithm\": \"Linear Learner\", \"epoch\": 4}, \"StartTime\": 1614517744.235226}\n",
      "\u001b[0m\n",
      "\u001b[34m#metrics {\"Metrics\": {\"train_binary_classification_weighted_cross_entropy_objective\": {\"count\": 1, \"max\": 1.1155709159419223, \"sum\": 1.1155709159419223, \"min\": 1.1155709159419223}}, \"EndTime\": 1614517744.235303, \"Dimensions\": {\"model\": 9, \"Host\": \"algo-1\", \"Operation\": \"training\", \"Algorithm\": \"Linear Learner\", \"epoch\": 4}, \"StartTime\": 1614517744.235286}\n",
      "\u001b[0m\n",
      "\u001b[34m#metrics {\"Metrics\": {\"train_binary_classification_weighted_cross_entropy_objective\": {\"count\": 1, \"max\": 1.1152658150151091, \"sum\": 1.1152658150151091, \"min\": 1.1152658150151091}}, \"EndTime\": 1614517744.235362, \"Dimensions\": {\"model\": 10, \"Host\": \"algo-1\", \"Operation\": \"training\", \"Algorithm\": \"Linear Learner\", \"epoch\": 4}, \"StartTime\": 1614517744.235346}\n",
      "\u001b[0m\n",
      "\u001b[34m#metrics {\"Metrics\": {\"train_binary_classification_weighted_cross_entropy_objective\": {\"count\": 1, \"max\": 1.114650572578862, \"sum\": 1.114650572578862, \"min\": 1.114650572578862}}, \"EndTime\": 1614517744.235423, \"Dimensions\": {\"model\": 11, \"Host\": \"algo-1\", \"Operation\": \"training\", \"Algorithm\": \"Linear Learner\", \"epoch\": 4}, \"StartTime\": 1614517744.235407}\n",
      "\u001b[0m\n",
      "\u001b[34m#metrics {\"Metrics\": {\"train_binary_classification_weighted_cross_entropy_objective\": {\"count\": 1, \"max\": 1.1753810171451209, \"sum\": 1.1753810171451209, \"min\": 1.1753810171451209}}, \"EndTime\": 1614517744.235487, \"Dimensions\": {\"model\": 12, \"Host\": \"algo-1\", \"Operation\": \"training\", \"Algorithm\": \"Linear Learner\", \"epoch\": 4}, \"StartTime\": 1614517744.235471}\n",
      "\u001b[0m\n",
      "\u001b[34m#metrics {\"Metrics\": {\"train_binary_classification_weighted_cross_entropy_objective\": {\"count\": 1, \"max\": 1.2069823124723615, \"sum\": 1.2069823124723615, \"min\": 1.2069823124723615}}, \"EndTime\": 1614517744.235545, \"Dimensions\": {\"model\": 13, \"Host\": \"algo-1\", \"Operation\": \"training\", \"Algorithm\": \"Linear Learner\", \"epoch\": 4}, \"StartTime\": 1614517744.235529}\n",
      "\u001b[0m\n",
      "\u001b[34m#metrics {\"Metrics\": {\"train_binary_classification_weighted_cross_entropy_objective\": {\"count\": 1, \"max\": 1.1745934022147702, \"sum\": 1.1745934022147702, \"min\": 1.1745934022147702}}, \"EndTime\": 1614517744.235601, \"Dimensions\": {\"model\": 14, \"Host\": \"algo-1\", \"Operation\": \"training\", \"Algorithm\": \"Linear Learner\", \"epoch\": 4}, \"StartTime\": 1614517744.235585}\n",
      "\u001b[0m\n",
      "\u001b[34m#metrics {\"Metrics\": {\"train_binary_classification_weighted_cross_entropy_objective\": {\"count\": 1, \"max\": 1.2076484432580337, \"sum\": 1.2076484432580337, \"min\": 1.2076484432580337}}, \"EndTime\": 1614517744.235661, \"Dimensions\": {\"model\": 15, \"Host\": \"algo-1\", \"Operation\": \"training\", \"Algorithm\": \"Linear Learner\", \"epoch\": 4}, \"StartTime\": 1614517744.235645}\n",
      "\u001b[0m\n",
      "\u001b[34m#metrics {\"Metrics\": {\"train_binary_classification_weighted_cross_entropy_objective\": {\"count\": 1, \"max\": 1.1911465454101562, \"sum\": 1.1911465454101562, \"min\": 1.1911465454101562}}, \"EndTime\": 1614517744.235717, \"Dimensions\": {\"model\": 16, \"Host\": \"algo-1\", \"Operation\": \"training\", \"Algorithm\": \"Linear Learner\", \"epoch\": 4}, \"StartTime\": 1614517744.235702}\n",
      "\u001b[0m\n",
      "\u001b[34m#metrics {\"Metrics\": {\"train_binary_classification_weighted_cross_entropy_objective\": {\"count\": 1, \"max\": 1.191731019218013, \"sum\": 1.191731019218013, \"min\": 1.191731019218013}}, \"EndTime\": 1614517744.235776, \"Dimensions\": {\"model\": 17, \"Host\": \"algo-1\", \"Operation\": \"training\", \"Algorithm\": \"Linear Learner\", \"epoch\": 4}, \"StartTime\": 1614517744.23576}\n",
      "\u001b[0m\n",
      "\u001b[34m#metrics {\"Metrics\": {\"train_binary_classification_weighted_cross_entropy_objective\": {\"count\": 1, \"max\": 1.1911695671801297, \"sum\": 1.1911695671801297, \"min\": 1.1911695671801297}}, \"EndTime\": 1614517744.235831, \"Dimensions\": {\"model\": 18, \"Host\": \"algo-1\", \"Operation\": \"training\", \"Algorithm\": \"Linear Learner\", \"epoch\": 4}, \"StartTime\": 1614517744.235816}\n",
      "\u001b[0m\n",
      "\u001b[34m#metrics {\"Metrics\": {\"train_binary_classification_weighted_cross_entropy_objective\": {\"count\": 1, \"max\": 1.1917350072320902, \"sum\": 1.1917350072320902, \"min\": 1.1917350072320902}}, \"EndTime\": 1614517744.235888, \"Dimensions\": {\"model\": 19, \"Host\": \"algo-1\", \"Operation\": \"training\", \"Algorithm\": \"Linear Learner\", \"epoch\": 4}, \"StartTime\": 1614517744.235871}\n",
      "\u001b[0m\n",
      "\u001b[34m#metrics {\"Metrics\": {\"train_binary_classification_weighted_cross_entropy_objective\": {\"count\": 1, \"max\": 1.234298729086822, \"sum\": 1.234298729086822, \"min\": 1.234298729086822}}, \"EndTime\": 1614517744.235944, \"Dimensions\": {\"model\": 20, \"Host\": \"algo-1\", \"Operation\": \"training\", \"Algorithm\": \"Linear Learner\", \"epoch\": 4}, \"StartTime\": 1614517744.235928}\n",
      "\u001b[0m\n",
      "\u001b[34m#metrics {\"Metrics\": {\"train_binary_classification_weighted_cross_entropy_objective\": {\"count\": 1, \"max\": 1.239700707777491, \"sum\": 1.239700707777491, \"min\": 1.239700707777491}}, \"EndTime\": 1614517744.236043, \"Dimensions\": {\"model\": 21, \"Host\": \"algo-1\", \"Operation\": \"training\", \"Algorithm\": \"Linear Learner\", \"epoch\": 4}, \"StartTime\": 1614517744.236024}\n",
      "\u001b[0m\n",
      "\u001b[34m#metrics {\"Metrics\": {\"train_binary_classification_weighted_cross_entropy_objective\": {\"count\": 1, \"max\": 1.2334121819262234, \"sum\": 1.2334121819262234, \"min\": 1.2334121819262234}}, \"EndTime\": 1614517744.236103, \"Dimensions\": {\"model\": 22, \"Host\": \"algo-1\", \"Operation\": \"training\", \"Algorithm\": \"Linear Learner\", \"epoch\": 4}, \"StartTime\": 1614517744.236088}\n",
      "\u001b[0m\n",
      "\u001b[34m#metrics {\"Metrics\": {\"train_binary_classification_weighted_cross_entropy_objective\": {\"count\": 1, \"max\": 1.2412343381485849, \"sum\": 1.2412343381485849, \"min\": 1.2412343381485849}}, \"EndTime\": 1614517744.236161, \"Dimensions\": {\"model\": 23, \"Host\": \"algo-1\", \"Operation\": \"training\", \"Algorithm\": \"Linear Learner\", \"epoch\": 4}, \"StartTime\": 1614517744.236145}\n",
      "\u001b[0m\n",
      "\u001b[34m#metrics {\"Metrics\": {\"train_binary_classification_weighted_cross_entropy_objective\": {\"count\": 1, \"max\": 1.3482247567806604, \"sum\": 1.3482247567806604, \"min\": 1.3482247567806604}}, \"EndTime\": 1614517744.23622, \"Dimensions\": {\"model\": 24, \"Host\": \"algo-1\", \"Operation\": \"training\", \"Algorithm\": \"Linear Learner\", \"epoch\": 4}, \"StartTime\": 1614517744.236204}\n",
      "\u001b[0m\n",
      "\u001b[34m#metrics {\"Metrics\": {\"train_binary_classification_weighted_cross_entropy_objective\": {\"count\": 1, \"max\": 1.3483141306751179, \"sum\": 1.3483141306751179, \"min\": 1.3483141306751179}}, \"EndTime\": 1614517744.236279, \"Dimensions\": {\"model\": 25, \"Host\": \"algo-1\", \"Operation\": \"training\", \"Algorithm\": \"Linear Learner\", \"epoch\": 4}, \"StartTime\": 1614517744.236262}\n",
      "\u001b[0m\n",
      "\u001b[34m#metrics {\"Metrics\": {\"train_binary_classification_weighted_cross_entropy_objective\": {\"count\": 1, \"max\": 1.3482142011534493, \"sum\": 1.3482142011534493, \"min\": 1.3482142011534493}}, \"EndTime\": 1614517744.236338, \"Dimensions\": {\"model\": 26, \"Host\": \"algo-1\", \"Operation\": \"training\", \"Algorithm\": \"Linear Learner\", \"epoch\": 4}, \"StartTime\": 1614517744.236322}\n",
      "\u001b[0m\n",
      "\u001b[34m#metrics {\"Metrics\": {\"train_binary_classification_weighted_cross_entropy_objective\": {\"count\": 1, \"max\": 1.3483547754827536, \"sum\": 1.3483547754827536, \"min\": 1.3483547754827536}}, \"EndTime\": 1614517744.236396, \"Dimensions\": {\"model\": 27, \"Host\": \"algo-1\", \"Operation\": \"training\", \"Algorithm\": \"Linear Learner\", \"epoch\": 4}, \"StartTime\": 1614517744.236379}\n",
      "\u001b[0m\n",
      "\u001b[34m#metrics {\"Metrics\": {\"train_binary_classification_weighted_cross_entropy_objective\": {\"count\": 1, \"max\": 1.361919843565743, \"sum\": 1.361919843565743, \"min\": 1.361919843565743}}, \"EndTime\": 1614517744.236454, \"Dimensions\": {\"model\": 28, \"Host\": \"algo-1\", \"Operation\": \"training\", \"Algorithm\": \"Linear Learner\", \"epoch\": 4}, \"StartTime\": 1614517744.236439}\n",
      "\u001b[0m\n",
      "\u001b[34m#metrics {\"Metrics\": {\"train_binary_classification_weighted_cross_entropy_objective\": {\"count\": 1, \"max\": 1.3695572417637087, \"sum\": 1.3695572417637087, \"min\": 1.3695572417637087}}, \"EndTime\": 1614517744.236513, \"Dimensions\": {\"model\": 29, \"Host\": \"algo-1\", \"Operation\": \"training\", \"Algorithm\": \"Linear Learner\", \"epoch\": 4}, \"StartTime\": 1614517744.236497}\n",
      "\u001b[0m\n",
      "\u001b[34m#metrics {\"Metrics\": {\"train_binary_classification_weighted_cross_entropy_objective\": {\"count\": 1, \"max\": 1.3619567801997348, \"sum\": 1.3619567801997348, \"min\": 1.3619567801997348}}, \"EndTime\": 1614517744.23657, \"Dimensions\": {\"model\": 30, \"Host\": \"algo-1\", \"Operation\": \"training\", \"Algorithm\": \"Linear Learner\", \"epoch\": 4}, \"StartTime\": 1614517744.236554}\n",
      "\u001b[0m\n",
      "\u001b[34m#metrics {\"Metrics\": {\"train_binary_classification_weighted_cross_entropy_objective\": {\"count\": 1, \"max\": 1.3698294954119987, \"sum\": 1.3698294954119987, \"min\": 1.3698294954119987}}, \"EndTime\": 1614517744.236627, \"Dimensions\": {\"model\": 31, \"Host\": \"algo-1\", \"Operation\": \"training\", \"Algorithm\": \"Linear Learner\", \"epoch\": 4}, \"StartTime\": 1614517744.236611}\n",
      "\u001b[0m\n",
      "\u001b[34m[02/28/2021 13:09:04 INFO 139728157366080] #quality_metric: host=algo-1, epoch=4, train binary_classification_weighted_cross_entropy_objective <loss>=1.11575730119\u001b[0m\n",
      "\u001b[34m[02/28/2021 13:09:04 INFO 139728157366080] #early_stopping_criteria_metric: host=algo-1, epoch=4, criteria=binary_classification_weighted_cross_entropy_objective, value=1.11465057258\u001b[0m\n",
      "\u001b[34m[02/28/2021 13:09:04 INFO 139728157366080] Epoch 4: Loss improved. Updating best model\u001b[0m\n",
      "\u001b[34m[02/28/2021 13:09:04 INFO 139728157366080] Saving model for epoch: 4\u001b[0m\n",
      "\u001b[34m[02/28/2021 13:09:04 INFO 139728157366080] Saved checkpoint to \"/tmp/tmpHqIbk5/mx-mod-0000.params\"\u001b[0m\n",
      "\u001b[34m[02/28/2021 13:09:04 INFO 139728157366080] #progress_metric: host=algo-1, completed 33 % of epochs\u001b[0m\n",
      "\u001b[34m#metrics {\"Metrics\": {\"Max Batches Seen Between Resets\": {\"count\": 1, \"max\": 54, \"sum\": 54.0, \"min\": 54}, \"Number of Batches Since Last Reset\": {\"count\": 1, \"max\": 54, \"sum\": 54.0, \"min\": 54}, \"Number of Records Since Last Reset\": {\"count\": 1, \"max\": 53214, \"sum\": 53214.0, \"min\": 53214}, \"Total Batches Seen\": {\"count\": 1, \"max\": 282, \"sum\": 282.0, \"min\": 282}, \"Total Records Seen\": {\"count\": 1, \"max\": 278070, \"sum\": 278070.0, \"min\": 278070}, \"Max Records Seen Between Resets\": {\"count\": 1, \"max\": 53214, \"sum\": 53214.0, \"min\": 53214}, \"Reset Count\": {\"count\": 1, \"max\": 7, \"sum\": 7.0, \"min\": 7}}, \"EndTime\": 1614517744.24937, \"Dimensions\": {\"Host\": \"algo-1\", \"Meta\": \"training_data_iter\", \"Operation\": \"training\", \"Algorithm\": \"Linear Learner\", \"epoch\": 4}, \"StartTime\": 1614517742.406912}\n",
      "\u001b[0m\n",
      "\u001b[34m[02/28/2021 13:09:04 INFO 139728157366080] #throughput_metric: host=algo-1, train throughput=28880.1746011 records/second\u001b[0m\n",
      "\u001b[34m[2021-02-28 13:09:06.605] [tensorio] [info] epoch_stats={\"data_pipeline\": \"/opt/ml/input/data/train\", \"epoch\": 13, \"duration\": 2354, \"num_examples\": 54, \"num_bytes\": 11068512}\u001b[0m\n",
      "\u001b[34m#metrics {\"Metrics\": {\"train_binary_classification_weighted_cross_entropy_objective\": {\"count\": 1, \"max\": 1.1137241533387383, \"sum\": 1.1137241533387383, \"min\": 1.1137241533387383}}, \"EndTime\": 1614517746.605505, \"Dimensions\": {\"model\": 0, \"Host\": \"algo-1\", \"Operation\": \"training\", \"Algorithm\": \"Linear Learner\", \"epoch\": 5}, \"StartTime\": 1614517746.60542}\n",
      "\u001b[0m\n",
      "\u001b[34m#metrics {\"Metrics\": {\"train_binary_classification_weighted_cross_entropy_objective\": {\"count\": 1, \"max\": 1.1132374728220813, \"sum\": 1.1132374728220813, \"min\": 1.1132374728220813}}, \"EndTime\": 1614517746.605585, \"Dimensions\": {\"model\": 1, \"Host\": \"algo-1\", \"Operation\": \"training\", \"Algorithm\": \"Linear Learner\", \"epoch\": 5}, \"StartTime\": 1614517746.605571}\n",
      "\u001b[0m\n",
      "\u001b[34m#metrics {\"Metrics\": {\"train_binary_classification_weighted_cross_entropy_objective\": {\"count\": 1, \"max\": 1.1134408408110996, \"sum\": 1.1134408408110996, \"min\": 1.1134408408110996}}, \"EndTime\": 1614517746.605634, \"Dimensions\": {\"model\": 2, \"Host\": \"algo-1\", \"Operation\": \"training\", \"Algorithm\": \"Linear Learner\", \"epoch\": 5}, \"StartTime\": 1614517746.605622}\n",
      "\u001b[0m\n",
      "\u001b[34m#metrics {\"Metrics\": {\"train_binary_classification_weighted_cross_entropy_objective\": {\"count\": 1, \"max\": 1.1129743721440153, \"sum\": 1.1129743721440153, \"min\": 1.1129743721440153}}, \"EndTime\": 1614517746.605677, \"Dimensions\": {\"model\": 3, \"Host\": \"algo-1\", \"Operation\": \"training\", \"Algorithm\": \"Linear Learner\", \"epoch\": 5}, \"StartTime\": 1614517746.605667}\n",
      "\u001b[0m\n",
      "\u001b[34m#metrics {\"Metrics\": {\"train_binary_classification_weighted_cross_entropy_objective\": {\"count\": 1, \"max\": 1.1670840108619547, \"sum\": 1.1670840108619547, \"min\": 1.1670840108619547}}, \"EndTime\": 1614517746.605717, \"Dimensions\": {\"model\": 4, \"Host\": \"algo-1\", \"Operation\": \"training\", \"Algorithm\": \"Linear Learner\", \"epoch\": 5}, \"StartTime\": 1614517746.605707}\n",
      "\u001b[0m\n",
      "\u001b[34m#metrics {\"Metrics\": {\"train_binary_classification_weighted_cross_entropy_objective\": {\"count\": 1, \"max\": 1.2043208111457104, \"sum\": 1.2043208111457104, \"min\": 1.2043208111457104}}, \"EndTime\": 1614517746.605765, \"Dimensions\": {\"model\": 5, \"Host\": \"algo-1\", \"Operation\": \"training\", \"Algorithm\": \"Linear Learner\", \"epoch\": 5}, \"StartTime\": 1614517746.605754}\n",
      "\u001b[0m\n",
      "\u001b[34m#metrics {\"Metrics\": {\"train_binary_classification_weighted_cross_entropy_objective\": {\"count\": 1, \"max\": 1.167325394540463, \"sum\": 1.167325394540463, \"min\": 1.167325394540463}}, \"EndTime\": 1614517746.605814, \"Dimensions\": {\"model\": 6, \"Host\": \"algo-1\", \"Operation\": \"training\", \"Algorithm\": \"Linear Learner\", \"epoch\": 5}, \"StartTime\": 1614517746.605802}\n",
      "\u001b[0m\n",
      "\u001b[34m#metrics {\"Metrics\": {\"train_binary_classification_weighted_cross_entropy_objective\": {\"count\": 1, \"max\": 1.2030316496075324, \"sum\": 1.2030316496075324, \"min\": 1.2030316496075324}}, \"EndTime\": 1614517746.605855, \"Dimensions\": {\"model\": 7, \"Host\": \"algo-1\", \"Operation\": \"training\", \"Algorithm\": \"Linear Learner\", \"epoch\": 5}, \"StartTime\": 1614517746.605844}\n",
      "\u001b[0m\n",
      "\u001b[34m#metrics {\"Metrics\": {\"train_binary_classification_weighted_cross_entropy_objective\": {\"count\": 1, \"max\": 1.1140071526293485, \"sum\": 1.1140071526293485, \"min\": 1.1140071526293485}}, \"EndTime\": 1614517746.605901, \"Dimensions\": {\"model\": 8, \"Host\": \"algo-1\", \"Operation\": \"training\", \"Algorithm\": \"Linear Learner\", \"epoch\": 5}, \"StartTime\": 1614517746.60589}\n",
      "\u001b[0m\n",
      "\u001b[34m#metrics {\"Metrics\": {\"train_binary_classification_weighted_cross_entropy_objective\": {\"count\": 1, \"max\": 1.1140005988354953, \"sum\": 1.1140005988354953, \"min\": 1.1140005988354953}}, \"EndTime\": 1614517746.605943, \"Dimensions\": {\"model\": 9, \"Host\": \"algo-1\", \"Operation\": \"training\", \"Algorithm\": \"Linear Learner\", \"epoch\": 5}, \"StartTime\": 1614517746.605933}\n",
      "\u001b[0m\n",
      "\u001b[34m#metrics {\"Metrics\": {\"train_binary_classification_weighted_cross_entropy_objective\": {\"count\": 1, \"max\": 1.1135389035782723, \"sum\": 1.1135389035782723, \"min\": 1.1135389035782723}}, \"EndTime\": 1614517746.605991, \"Dimensions\": {\"model\": 10, \"Host\": \"algo-1\", \"Operation\": \"training\", \"Algorithm\": \"Linear Learner\", \"epoch\": 5}, \"StartTime\": 1614517746.605979}\n",
      "\u001b[0m\n",
      "\u001b[34m#metrics {\"Metrics\": {\"train_binary_classification_weighted_cross_entropy_objective\": {\"count\": 1, \"max\": 1.1133583880730396, \"sum\": 1.1133583880730396, \"min\": 1.1133583880730396}}, \"EndTime\": 1614517746.606039, \"Dimensions\": {\"model\": 11, \"Host\": \"algo-1\", \"Operation\": \"training\", \"Algorithm\": \"Linear Learner\", \"epoch\": 5}, \"StartTime\": 1614517746.606028}\n",
      "\u001b[0m\n",
      "\u001b[34m#metrics {\"Metrics\": {\"train_binary_classification_weighted_cross_entropy_objective\": {\"count\": 1, \"max\": 1.1696230503298202, \"sum\": 1.1696230503298202, \"min\": 1.1696230503298202}}, \"EndTime\": 1614517746.606086, \"Dimensions\": {\"model\": 12, \"Host\": \"algo-1\", \"Operation\": \"training\", \"Algorithm\": \"Linear Learner\", \"epoch\": 5}, \"StartTime\": 1614517746.606075}\n",
      "\u001b[0m\n",
      "\u001b[34m#metrics {\"Metrics\": {\"train_binary_classification_weighted_cross_entropy_objective\": {\"count\": 1, \"max\": 1.206275770655218, \"sum\": 1.206275770655218, \"min\": 1.206275770655218}}, \"EndTime\": 1614517746.606133, \"Dimensions\": {\"model\": 13, \"Host\": \"algo-1\", \"Operation\": \"training\", \"Algorithm\": \"Linear Learner\", \"epoch\": 5}, \"StartTime\": 1614517746.606122}\n",
      "\u001b[0m\n",
      "\u001b[34m#metrics {\"Metrics\": {\"train_binary_classification_weighted_cross_entropy_objective\": {\"count\": 1, \"max\": 1.1693041312739534, \"sum\": 1.1693041312739534, \"min\": 1.1693041312739534}}, \"EndTime\": 1614517746.60619, \"Dimensions\": {\"model\": 14, \"Host\": \"algo-1\", \"Operation\": \"training\", \"Algorithm\": \"Linear Learner\", \"epoch\": 5}, \"StartTime\": 1614517746.606179}\n",
      "\u001b[0m\n",
      "\u001b[34m#metrics {\"Metrics\": {\"train_binary_classification_weighted_cross_entropy_objective\": {\"count\": 1, \"max\": 1.206759926849941, \"sum\": 1.206759926849941, \"min\": 1.206759926849941}}, \"EndTime\": 1614517746.606236, \"Dimensions\": {\"model\": 15, \"Host\": \"algo-1\", \"Operation\": \"training\", \"Algorithm\": \"Linear Learner\", \"epoch\": 5}, \"StartTime\": 1614517746.606225}\n",
      "\u001b[0m\n",
      "\u001b[34m#metrics {\"Metrics\": {\"train_binary_classification_weighted_cross_entropy_objective\": {\"count\": 1, \"max\": 1.1910378095518868, \"sum\": 1.1910378095518868, \"min\": 1.1910378095518868}}, \"EndTime\": 1614517746.606281, \"Dimensions\": {\"model\": 16, \"Host\": \"algo-1\", \"Operation\": \"training\", \"Algorithm\": \"Linear Learner\", \"epoch\": 5}, \"StartTime\": 1614517746.60627}\n",
      "\u001b[0m\n",
      "\u001b[34m#metrics {\"Metrics\": {\"train_binary_classification_weighted_cross_entropy_objective\": {\"count\": 1, \"max\": 1.1917319232292896, \"sum\": 1.1917319232292896, \"min\": 1.1917319232292896}}, \"EndTime\": 1614517746.606327, \"Dimensions\": {\"model\": 17, \"Host\": \"algo-1\", \"Operation\": \"training\", \"Algorithm\": \"Linear Learner\", \"epoch\": 5}, \"StartTime\": 1614517746.606316}\n",
      "\u001b[0m\n",
      "\u001b[34m#metrics {\"Metrics\": {\"train_binary_classification_weighted_cross_entropy_objective\": {\"count\": 1, \"max\": 1.1910526537625294, \"sum\": 1.1910526537625294, \"min\": 1.1910526537625294}}, \"EndTime\": 1614517746.606374, \"Dimensions\": {\"model\": 18, \"Host\": \"algo-1\", \"Operation\": \"training\", \"Algorithm\": \"Linear Learner\", \"epoch\": 5}, \"StartTime\": 1614517746.606364}\n",
      "\u001b[0m\n",
      "\u001b[34m#metrics {\"Metrics\": {\"train_binary_classification_weighted_cross_entropy_objective\": {\"count\": 1, \"max\": 1.1917314314932193, \"sum\": 1.1917314314932193, \"min\": 1.1917314314932193}}, \"EndTime\": 1614517746.60642, \"Dimensions\": {\"model\": 19, \"Host\": \"algo-1\", \"Operation\": \"training\", \"Algorithm\": \"Linear Learner\", \"epoch\": 5}, \"StartTime\": 1614517746.606409}\n",
      "\u001b[0m\n",
      "\u001b[34m#metrics {\"Metrics\": {\"train_binary_classification_weighted_cross_entropy_objective\": {\"count\": 1, \"max\": 1.2310082950232164, \"sum\": 1.2310082950232164, \"min\": 1.2310082950232164}}, \"EndTime\": 1614517746.606466, \"Dimensions\": {\"model\": 20, \"Host\": \"algo-1\", \"Operation\": \"training\", \"Algorithm\": \"Linear Learner\", \"epoch\": 5}, \"StartTime\": 1614517746.606455}\n",
      "\u001b[0m\n",
      "\u001b[34m#metrics {\"Metrics\": {\"train_binary_classification_weighted_cross_entropy_objective\": {\"count\": 1, \"max\": 1.2371068322523584, \"sum\": 1.2371068322523584, \"min\": 1.2371068322523584}}, \"EndTime\": 1614517746.606512, \"Dimensions\": {\"model\": 21, \"Host\": \"algo-1\", \"Operation\": \"training\", \"Algorithm\": \"Linear Learner\", \"epoch\": 5}, \"StartTime\": 1614517746.606501}\n",
      "\u001b[0m\n",
      "\u001b[34m#metrics {\"Metrics\": {\"train_binary_classification_weighted_cross_entropy_objective\": {\"count\": 1, \"max\": 1.2303055166568395, \"sum\": 1.2303055166568395, \"min\": 1.2303055166568395}}, \"EndTime\": 1614517746.606559, \"Dimensions\": {\"model\": 22, \"Host\": \"algo-1\", \"Operation\": \"training\", \"Algorithm\": \"Linear Learner\", \"epoch\": 5}, \"StartTime\": 1614517746.606548}\n",
      "\u001b[0m\n",
      "\u001b[34m#metrics {\"Metrics\": {\"train_binary_classification_weighted_cross_entropy_objective\": {\"count\": 1, \"max\": 1.2362435268186174, \"sum\": 1.2362435268186174, \"min\": 1.2362435268186174}}, \"EndTime\": 1614517746.606606, \"Dimensions\": {\"model\": 23, \"Host\": \"algo-1\", \"Operation\": \"training\", \"Algorithm\": \"Linear Learner\", \"epoch\": 5}, \"StartTime\": 1614517746.606595}\n",
      "\u001b[0m\n",
      "\u001b[34m#metrics {\"Metrics\": {\"train_binary_classification_weighted_cross_entropy_objective\": {\"count\": 1, \"max\": 1.3482320303287145, \"sum\": 1.3482320303287145, \"min\": 1.3482320303287145}}, \"EndTime\": 1614517746.606652, \"Dimensions\": {\"model\": 24, \"Host\": \"algo-1\", \"Operation\": \"training\", \"Algorithm\": \"Linear Learner\", \"epoch\": 5}, \"StartTime\": 1614517746.606641}\n",
      "\u001b[0m\n",
      "\u001b[34m#metrics {\"Metrics\": {\"train_binary_classification_weighted_cross_entropy_objective\": {\"count\": 1, \"max\": 1.3483008595592572, \"sum\": 1.3483008595592572, \"min\": 1.3483008595592572}}, \"EndTime\": 1614517746.606697, \"Dimensions\": {\"model\": 25, \"Host\": \"algo-1\", \"Operation\": \"training\", \"Algorithm\": \"Linear Learner\", \"epoch\": 5}, \"StartTime\": 1614517746.606686}\n",
      "\u001b[0m\n",
      "\u001b[34m#metrics {\"Metrics\": {\"train_binary_classification_weighted_cross_entropy_objective\": {\"count\": 1, \"max\": 1.3482185818654187, \"sum\": 1.3482185818654187, \"min\": 1.3482185818654187}}, \"EndTime\": 1614517746.606743, \"Dimensions\": {\"model\": 26, \"Host\": \"algo-1\", \"Operation\": \"training\", \"Algorithm\": \"Linear Learner\", \"epoch\": 5}, \"StartTime\": 1614517746.606732}\n",
      "\u001b[0m\n",
      "\u001b[34m#metrics {\"Metrics\": {\"train_binary_classification_weighted_cross_entropy_objective\": {\"count\": 1, \"max\": 1.3483477483785378, \"sum\": 1.3483477483785378, \"min\": 1.3483477483785378}}, \"EndTime\": 1614517746.606795, \"Dimensions\": {\"model\": 27, \"Host\": \"algo-1\", \"Operation\": \"training\", \"Algorithm\": \"Linear Learner\", \"epoch\": 5}, \"StartTime\": 1614517746.60678}\n",
      "\u001b[0m\n",
      "\u001b[34m#metrics {\"Metrics\": {\"train_binary_classification_weighted_cross_entropy_objective\": {\"count\": 1, \"max\": 1.3607981325545402, \"sum\": 1.3607981325545402, \"min\": 1.3607981325545402}}, \"EndTime\": 1614517746.606847, \"Dimensions\": {\"model\": 28, \"Host\": \"algo-1\", \"Operation\": \"training\", \"Algorithm\": \"Linear Learner\", \"epoch\": 5}, \"StartTime\": 1614517746.606833}\n",
      "\u001b[0m\n",
      "\u001b[34m#metrics {\"Metrics\": {\"train_binary_classification_weighted_cross_entropy_objective\": {\"count\": 1, \"max\": 1.3697793797906839, \"sum\": 1.3697793797906839, \"min\": 1.3697793797906839}}, \"EndTime\": 1614517746.60689, \"Dimensions\": {\"model\": 29, \"Host\": \"algo-1\", \"Operation\": \"training\", \"Algorithm\": \"Linear Learner\", \"epoch\": 5}, \"StartTime\": 1614517746.606878}\n",
      "\u001b[0m\n",
      "\u001b[34m#metrics {\"Metrics\": {\"train_binary_classification_weighted_cross_entropy_objective\": {\"count\": 1, \"max\": 1.360821818801592, \"sum\": 1.360821818801592, \"min\": 1.360821818801592}}, \"EndTime\": 1614517746.60694, \"Dimensions\": {\"model\": 30, \"Host\": \"algo-1\", \"Operation\": \"training\", \"Algorithm\": \"Linear Learner\", \"epoch\": 5}, \"StartTime\": 1614517746.606925}\n",
      "\u001b[0m\n",
      "\u001b[34m#metrics {\"Metrics\": {\"train_binary_classification_weighted_cross_entropy_objective\": {\"count\": 1, \"max\": 1.369871810049381, \"sum\": 1.369871810049381, \"min\": 1.369871810049381}}, \"EndTime\": 1614517746.606996, \"Dimensions\": {\"model\": 31, \"Host\": \"algo-1\", \"Operation\": \"training\", \"Algorithm\": \"Linear Learner\", \"epoch\": 5}, \"StartTime\": 1614517746.606979}\n",
      "\u001b[0m\n",
      "\u001b[34m[02/28/2021 13:09:06 INFO 139728157366080] #quality_metric: host=algo-1, epoch=5, train binary_classification_weighted_cross_entropy_objective <loss>=1.11372415334\u001b[0m\n",
      "\u001b[34m[02/28/2021 13:09:06 INFO 139728157366080] #early_stopping_criteria_metric: host=algo-1, epoch=5, criteria=binary_classification_weighted_cross_entropy_objective, value=1.11297437214\u001b[0m\n",
      "\u001b[34m[02/28/2021 13:09:06 INFO 139728157366080] Epoch 5: Loss improved. Updating best model\u001b[0m\n",
      "\u001b[34m[02/28/2021 13:09:06 INFO 139728157366080] Saving model for epoch: 5\u001b[0m\n",
      "\u001b[34m[02/28/2021 13:09:06 INFO 139728157366080] Saved checkpoint to \"/tmp/tmp2PsBKI/mx-mod-0000.params\"\u001b[0m\n",
      "\u001b[34m[02/28/2021 13:09:06 INFO 139728157366080] #progress_metric: host=algo-1, completed 40 % of epochs\u001b[0m\n",
      "\u001b[34m#metrics {\"Metrics\": {\"Max Batches Seen Between Resets\": {\"count\": 1, \"max\": 54, \"sum\": 54.0, \"min\": 54}, \"Number of Batches Since Last Reset\": {\"count\": 1, \"max\": 54, \"sum\": 54.0, \"min\": 54}, \"Number of Records Since Last Reset\": {\"count\": 1, \"max\": 53214, \"sum\": 53214.0, \"min\": 53214}, \"Total Batches Seen\": {\"count\": 1, \"max\": 336, \"sum\": 336.0, \"min\": 336}, \"Total Records Seen\": {\"count\": 1, \"max\": 331284, \"sum\": 331284.0, \"min\": 331284}, \"Max Records Seen Between Resets\": {\"count\": 1, \"max\": 53214, \"sum\": 53214.0, \"min\": 53214}, \"Reset Count\": {\"count\": 1, \"max\": 8, \"sum\": 8.0, \"min\": 8}}, \"EndTime\": 1614517746.614975, \"Dimensions\": {\"Host\": \"algo-1\", \"Meta\": \"training_data_iter\", \"Operation\": \"training\", \"Algorithm\": \"Linear Learner\", \"epoch\": 5}, \"StartTime\": 1614517744.250224}\n",
      "\u001b[0m\n",
      "\u001b[34m[02/28/2021 13:09:06 INFO 139728157366080] #throughput_metric: host=algo-1, train throughput=22501.9475908 records/second\u001b[0m\n",
      "\u001b[34m[2021-02-28 13:09:08.232] [tensorio] [info] epoch_stats={\"data_pipeline\": \"/opt/ml/input/data/train\", \"epoch\": 15, \"duration\": 1616, \"num_examples\": 54, \"num_bytes\": 11068512}\u001b[0m\n",
      "\u001b[34m#metrics {\"Metrics\": {\"train_binary_classification_weighted_cross_entropy_objective\": {\"count\": 1, \"max\": 1.1123141318267247, \"sum\": 1.1123141318267247, \"min\": 1.1123141318267247}}, \"EndTime\": 1614517748.232305, \"Dimensions\": {\"model\": 0, \"Host\": \"algo-1\", \"Operation\": \"training\", \"Algorithm\": \"Linear Learner\", \"epoch\": 6}, \"StartTime\": 1614517748.23221}\n",
      "\u001b[0m\n",
      "\u001b[34m#metrics {\"Metrics\": {\"train_binary_classification_weighted_cross_entropy_objective\": {\"count\": 1, \"max\": 1.1118731424583579, \"sum\": 1.1118731424583579, \"min\": 1.1118731424583579}}, \"EndTime\": 1614517748.2324, \"Dimensions\": {\"model\": 1, \"Host\": \"algo-1\", \"Operation\": \"training\", \"Algorithm\": \"Linear Learner\", \"epoch\": 6}, \"StartTime\": 1614517748.232379}\n",
      "\u001b[0m\n",
      "\u001b[34m#metrics {\"Metrics\": {\"train_binary_classification_weighted_cross_entropy_objective\": {\"count\": 1, \"max\": 1.1121053674086085, \"sum\": 1.1121053674086085, \"min\": 1.1121053674086085}}, \"EndTime\": 1614517748.232466, \"Dimensions\": {\"model\": 2, \"Host\": \"algo-1\", \"Operation\": \"training\", \"Algorithm\": \"Linear Learner\", \"epoch\": 6}, \"StartTime\": 1614517748.232448}\n",
      "\u001b[0m\n",
      "\u001b[34m#metrics {\"Metrics\": {\"train_binary_classification_weighted_cross_entropy_objective\": {\"count\": 1, \"max\": 1.1116603105653007, \"sum\": 1.1116603105653007, \"min\": 1.1116603105653007}}, \"EndTime\": 1614517748.232534, \"Dimensions\": {\"model\": 3, \"Host\": \"algo-1\", \"Operation\": \"training\", \"Algorithm\": \"Linear Learner\", \"epoch\": 6}, \"StartTime\": 1614517748.232515}\n",
      "\u001b[0m\n",
      "\u001b[34m#metrics {\"Metrics\": {\"train_binary_classification_weighted_cross_entropy_objective\": {\"count\": 1, \"max\": 1.1636135806677477, \"sum\": 1.1636135806677477, \"min\": 1.1636135806677477}}, \"EndTime\": 1614517748.232601, \"Dimensions\": {\"model\": 4, \"Host\": \"algo-1\", \"Operation\": \"training\", \"Algorithm\": \"Linear Learner\", \"epoch\": 6}, \"StartTime\": 1614517748.232583}\n",
      "\u001b[0m\n",
      "\u001b[34m#metrics {\"Metrics\": {\"train_binary_classification_weighted_cross_entropy_objective\": {\"count\": 1, \"max\": 1.2035241883475825, \"sum\": 1.2035241883475825, \"min\": 1.2035241883475825}}, \"EndTime\": 1614517748.232664, \"Dimensions\": {\"model\": 5, \"Host\": \"algo-1\", \"Operation\": \"training\", \"Algorithm\": \"Linear Learner\", \"epoch\": 6}, \"StartTime\": 1614517748.232647}\n",
      "\u001b[0m\n",
      "\u001b[34m#metrics {\"Metrics\": {\"train_binary_classification_weighted_cross_entropy_objective\": {\"count\": 1, \"max\": 1.163800967810289, \"sum\": 1.163800967810289, \"min\": 1.163800967810289}}, \"EndTime\": 1614517748.23273, \"Dimensions\": {\"model\": 6, \"Host\": \"algo-1\", \"Operation\": \"training\", \"Algorithm\": \"Linear Learner\", \"epoch\": 6}, \"StartTime\": 1614517748.232712}\n",
      "\u001b[0m\n",
      "\u001b[34m#metrics {\"Metrics\": {\"train_binary_classification_weighted_cross_entropy_objective\": {\"count\": 1, \"max\": 1.202591131246315, \"sum\": 1.202591131246315, \"min\": 1.202591131246315}}, \"EndTime\": 1614517748.232794, \"Dimensions\": {\"model\": 7, \"Host\": \"algo-1\", \"Operation\": \"training\", \"Algorithm\": \"Linear Learner\", \"epoch\": 6}, \"StartTime\": 1614517748.232777}\n",
      "\u001b[0m\n",
      "\u001b[34m#metrics {\"Metrics\": {\"train_binary_classification_weighted_cross_entropy_objective\": {\"count\": 1, \"max\": 1.1128892499815743, \"sum\": 1.1128892499815743, \"min\": 1.1128892499815743}}, \"EndTime\": 1614517748.232857, \"Dimensions\": {\"model\": 8, \"Host\": \"algo-1\", \"Operation\": \"training\", \"Algorithm\": \"Linear Learner\", \"epoch\": 6}, \"StartTime\": 1614517748.23284}\n",
      "\u001b[0m\n",
      "\u001b[34m#metrics {\"Metrics\": {\"train_binary_classification_weighted_cross_entropy_objective\": {\"count\": 1, \"max\": 1.1130024460126768, \"sum\": 1.1130024460126768, \"min\": 1.1130024460126768}}, \"EndTime\": 1614517748.232921, \"Dimensions\": {\"model\": 9, \"Host\": \"algo-1\", \"Operation\": \"training\", \"Algorithm\": \"Linear Learner\", \"epoch\": 6}, \"StartTime\": 1614517748.232903}\n",
      "\u001b[0m\n",
      "\u001b[34m#metrics {\"Metrics\": {\"train_binary_classification_weighted_cross_entropy_objective\": {\"count\": 1, \"max\": 1.1124221248986585, \"sum\": 1.1124221248986585, \"min\": 1.1124221248986585}}, \"EndTime\": 1614517748.232993, \"Dimensions\": {\"model\": 10, \"Host\": \"algo-1\", \"Operation\": \"training\", \"Algorithm\": \"Linear Learner\", \"epoch\": 6}, \"StartTime\": 1614517748.232965}\n",
      "\u001b[0m\n",
      "\u001b[34m#metrics {\"Metrics\": {\"train_binary_classification_weighted_cross_entropy_objective\": {\"count\": 1, \"max\": 1.112529094192217, \"sum\": 1.112529094192217, \"min\": 1.112529094192217}}, \"EndTime\": 1614517748.233052, \"Dimensions\": {\"model\": 11, \"Host\": \"algo-1\", \"Operation\": \"training\", \"Algorithm\": \"Linear Learner\", \"epoch\": 6}, \"StartTime\": 1614517748.233036}\n",
      "\u001b[0m\n",
      "\u001b[34m#metrics {\"Metrics\": {\"train_binary_classification_weighted_cross_entropy_objective\": {\"count\": 1, \"max\": 1.1655346046303803, \"sum\": 1.1655346046303803, \"min\": 1.1655346046303803}}, \"EndTime\": 1614517748.233112, \"Dimensions\": {\"model\": 12, \"Host\": \"algo-1\", \"Operation\": \"training\", \"Algorithm\": \"Linear Learner\", \"epoch\": 6}, \"StartTime\": 1614517748.233095}\n",
      "\u001b[0m\n",
      "\u001b[34m#metrics {\"Metrics\": {\"train_binary_classification_weighted_cross_entropy_objective\": {\"count\": 1, \"max\": 1.2043807361530807, \"sum\": 1.2043807361530807, \"min\": 1.2043807361530807}}, \"EndTime\": 1614517748.233174, \"Dimensions\": {\"model\": 13, \"Host\": \"algo-1\", \"Operation\": \"training\", \"Algorithm\": \"Linear Learner\", \"epoch\": 6}, \"StartTime\": 1614517748.233157}\n",
      "\u001b[0m\n",
      "\u001b[34m#metrics {\"Metrics\": {\"train_binary_classification_weighted_cross_entropy_objective\": {\"count\": 1, \"max\": 1.1655150514998527, \"sum\": 1.1655150514998527, \"min\": 1.1655150514998527}}, \"EndTime\": 1614517748.233232, \"Dimensions\": {\"model\": 14, \"Host\": \"algo-1\", \"Operation\": \"training\", \"Algorithm\": \"Linear Learner\", \"epoch\": 6}, \"StartTime\": 1614517748.233216}\n",
      "\u001b[0m\n",
      "\u001b[34m#metrics {\"Metrics\": {\"train_binary_classification_weighted_cross_entropy_objective\": {\"count\": 1, \"max\": 1.2046353230026532, \"sum\": 1.2046353230026532, \"min\": 1.2046353230026532}}, \"EndTime\": 1614517748.233294, \"Dimensions\": {\"model\": 15, \"Host\": \"algo-1\", \"Operation\": \"training\", \"Algorithm\": \"Linear Learner\", \"epoch\": 6}, \"StartTime\": 1614517748.233276}\n",
      "\u001b[0m\n",
      "\u001b[34m#metrics {\"Metrics\": {\"train_binary_classification_weighted_cross_entropy_objective\": {\"count\": 1, \"max\": 1.1909330571012677, \"sum\": 1.1909330571012677, \"min\": 1.1909330571012677}}, \"EndTime\": 1614517748.233355, \"Dimensions\": {\"model\": 16, \"Host\": \"algo-1\", \"Operation\": \"training\", \"Algorithm\": \"Linear Learner\", \"epoch\": 6}, \"StartTime\": 1614517748.233338}\n",
      "\u001b[0m\n",
      "\u001b[34m#metrics {\"Metrics\": {\"train_binary_classification_weighted_cross_entropy_objective\": {\"count\": 1, \"max\": 1.1916956741045106, \"sum\": 1.1916956741045106, \"min\": 1.1916956741045106}}, \"EndTime\": 1614517748.23342, \"Dimensions\": {\"model\": 17, \"Host\": \"algo-1\", \"Operation\": \"training\", \"Algorithm\": \"Linear Learner\", \"epoch\": 6}, \"StartTime\": 1614517748.233402}\n",
      "\u001b[0m\n",
      "\u001b[34m#metrics {\"Metrics\": {\"train_binary_classification_weighted_cross_entropy_objective\": {\"count\": 1, \"max\": 1.1909426983527418, \"sum\": 1.1909426983527418, \"min\": 1.1909426983527418}}, \"EndTime\": 1614517748.233483, \"Dimensions\": {\"model\": 18, \"Host\": \"algo-1\", \"Operation\": \"training\", \"Algorithm\": \"Linear Learner\", \"epoch\": 6}, \"StartTime\": 1614517748.233466}\n",
      "\u001b[0m\n",
      "\u001b[34m#metrics {\"Metrics\": {\"train_binary_classification_weighted_cross_entropy_objective\": {\"count\": 1, \"max\": 1.191691770157724, \"sum\": 1.191691770157724, \"min\": 1.191691770157724}}, \"EndTime\": 1614517748.233544, \"Dimensions\": {\"model\": 19, \"Host\": \"algo-1\", \"Operation\": \"training\", \"Algorithm\": \"Linear Learner\", \"epoch\": 6}, \"StartTime\": 1614517748.233527}\n",
      "\u001b[0m\n",
      "\u001b[34m#metrics {\"Metrics\": {\"train_binary_classification_weighted_cross_entropy_objective\": {\"count\": 1, \"max\": 1.2283954318064563, \"sum\": 1.2283954318064563, \"min\": 1.2283954318064563}}, \"EndTime\": 1614517748.233609, \"Dimensions\": {\"model\": 20, \"Host\": \"algo-1\", \"Operation\": \"training\", \"Algorithm\": \"Linear Learner\", \"epoch\": 6}, \"StartTime\": 1614517748.233591}\n",
      "\u001b[0m\n",
      "\u001b[34m#metrics {\"Metrics\": {\"train_binary_classification_weighted_cross_entropy_objective\": {\"count\": 1, \"max\": 1.2373781577056309, \"sum\": 1.2373781577056309, \"min\": 1.2373781577056309}}, \"EndTime\": 1614517748.233668, \"Dimensions\": {\"model\": 21, \"Host\": \"algo-1\", \"Operation\": \"training\", \"Algorithm\": \"Linear Learner\", \"epoch\": 6}, \"StartTime\": 1614517748.233652}\n",
      "\u001b[0m\n",
      "\u001b[34m#metrics {\"Metrics\": {\"train_binary_classification_weighted_cross_entropy_objective\": {\"count\": 1, \"max\": 1.2279367053913621, \"sum\": 1.2279367053913621, \"min\": 1.2279367053913621}}, \"EndTime\": 1614517748.233726, \"Dimensions\": {\"model\": 22, \"Host\": \"algo-1\", \"Operation\": \"training\", \"Algorithm\": \"Linear Learner\", \"epoch\": 6}, \"StartTime\": 1614517748.23371}\n",
      "\u001b[0m\n",
      "\u001b[34m#metrics {\"Metrics\": {\"train_binary_classification_weighted_cross_entropy_objective\": {\"count\": 1, \"max\": 1.2382863838627653, \"sum\": 1.2382863838627653, \"min\": 1.2382863838627653}}, \"EndTime\": 1614517748.233794, \"Dimensions\": {\"model\": 23, \"Host\": \"algo-1\", \"Operation\": \"training\", \"Algorithm\": \"Linear Learner\", \"epoch\": 6}, \"StartTime\": 1614517748.233777}\n",
      "\u001b[0m\n",
      "\u001b[34m#metrics {\"Metrics\": {\"train_binary_classification_weighted_cross_entropy_objective\": {\"count\": 1, \"max\": 1.3482415103552476, \"sum\": 1.3482415103552476, \"min\": 1.3482415103552476}}, \"EndTime\": 1614517748.233854, \"Dimensions\": {\"model\": 24, \"Host\": \"algo-1\", \"Operation\": \"training\", \"Algorithm\": \"Linear Learner\", \"epoch\": 6}, \"StartTime\": 1614517748.233837}\n",
      "\u001b[0m\n",
      "\u001b[34m#metrics {\"Metrics\": {\"train_binary_classification_weighted_cross_entropy_objective\": {\"count\": 1, \"max\": 1.3482956427808077, \"sum\": 1.3482956427808077, \"min\": 1.3482956427808077}}, \"EndTime\": 1614517748.233924, \"Dimensions\": {\"model\": 25, \"Host\": \"algo-1\", \"Operation\": \"training\", \"Algorithm\": \"Linear Learner\", \"epoch\": 6}, \"StartTime\": 1614517748.233906}\n",
      "\u001b[0m\n",
      "\u001b[34m#metrics {\"Metrics\": {\"train_binary_classification_weighted_cross_entropy_objective\": {\"count\": 1, \"max\": 1.3482222186394457, \"sum\": 1.3482222186394457, \"min\": 1.3482222186394457}}, \"EndTime\": 1614517748.233997, \"Dimensions\": {\"model\": 26, \"Host\": \"algo-1\", \"Operation\": \"training\", \"Algorithm\": \"Linear Learner\", \"epoch\": 6}, \"StartTime\": 1614517748.233978}\n",
      "\u001b[0m\n",
      "\u001b[34m#metrics {\"Metrics\": {\"train_binary_classification_weighted_cross_entropy_objective\": {\"count\": 1, \"max\": 1.348350461563974, \"sum\": 1.348350461563974, \"min\": 1.348350461563974}}, \"EndTime\": 1614517748.234058, \"Dimensions\": {\"model\": 27, \"Host\": \"algo-1\", \"Operation\": \"training\", \"Algorithm\": \"Linear Learner\", \"epoch\": 6}, \"StartTime\": 1614517748.234041}\n",
      "\u001b[0m\n",
      "\u001b[34m#metrics {\"Metrics\": {\"train_binary_classification_weighted_cross_entropy_objective\": {\"count\": 1, \"max\": 1.3599231072191922, \"sum\": 1.3599231072191922, \"min\": 1.3599231072191922}}, \"EndTime\": 1614517748.234103, \"Dimensions\": {\"model\": 28, \"Host\": \"algo-1\", \"Operation\": \"training\", \"Algorithm\": \"Linear Learner\", \"epoch\": 6}, \"StartTime\": 1614517748.234088}\n",
      "\u001b[0m\n",
      "\u001b[34m#metrics {\"Metrics\": {\"train_binary_classification_weighted_cross_entropy_objective\": {\"count\": 1, \"max\": 1.3694551103699881, \"sum\": 1.3694551103699881, \"min\": 1.3694551103699881}}, \"EndTime\": 1614517748.23417, \"Dimensions\": {\"model\": 29, \"Host\": \"algo-1\", \"Operation\": \"training\", \"Algorithm\": \"Linear Learner\", \"epoch\": 6}, \"StartTime\": 1614517748.234152}\n",
      "\u001b[0m\n",
      "\u001b[34m#metrics {\"Metrics\": {\"train_binary_classification_weighted_cross_entropy_objective\": {\"count\": 1, \"max\": 1.3600500764666863, \"sum\": 1.3600500764666863, \"min\": 1.3600500764666863}}, \"EndTime\": 1614517748.234233, \"Dimensions\": {\"model\": 30, \"Host\": \"algo-1\", \"Operation\": \"training\", \"Algorithm\": \"Linear Learner\", \"epoch\": 6}, \"StartTime\": 1614517748.234215}\n",
      "\u001b[0m\n",
      "\u001b[34m#metrics {\"Metrics\": {\"train_binary_classification_weighted_cross_entropy_objective\": {\"count\": 1, \"max\": 1.3693978755159197, \"sum\": 1.3693978755159197, \"min\": 1.3693978755159197}}, \"EndTime\": 1614517748.234293, \"Dimensions\": {\"model\": 31, \"Host\": \"algo-1\", \"Operation\": \"training\", \"Algorithm\": \"Linear Learner\", \"epoch\": 6}, \"StartTime\": 1614517748.234277}\n",
      "\u001b[0m\n",
      "\u001b[34m[02/28/2021 13:09:08 INFO 139728157366080] #quality_metric: host=algo-1, epoch=6, train binary_classification_weighted_cross_entropy_objective <loss>=1.11231413183\u001b[0m\n",
      "\u001b[34m[02/28/2021 13:09:08 INFO 139728157366080] #early_stopping_criteria_metric: host=algo-1, epoch=6, criteria=binary_classification_weighted_cross_entropy_objective, value=1.11166031057\u001b[0m\n",
      "\u001b[34m[02/28/2021 13:09:08 INFO 139728157366080] Epoch 6: Loss improved. Updating best model\u001b[0m\n",
      "\u001b[34m[02/28/2021 13:09:08 INFO 139728157366080] Saving model for epoch: 6\u001b[0m\n",
      "\u001b[34m[02/28/2021 13:09:08 INFO 139728157366080] Saved checkpoint to \"/tmp/tmprtIaOO/mx-mod-0000.params\"\u001b[0m\n",
      "\u001b[34m[02/28/2021 13:09:08 INFO 139728157366080] #progress_metric: host=algo-1, completed 46 % of epochs\u001b[0m\n",
      "\u001b[34m#metrics {\"Metrics\": {\"Max Batches Seen Between Resets\": {\"count\": 1, \"max\": 54, \"sum\": 54.0, \"min\": 54}, \"Number of Batches Since Last Reset\": {\"count\": 1, \"max\": 54, \"sum\": 54.0, \"min\": 54}, \"Number of Records Since Last Reset\": {\"count\": 1, \"max\": 53214, \"sum\": 53214.0, \"min\": 53214}, \"Total Batches Seen\": {\"count\": 1, \"max\": 390, \"sum\": 390.0, \"min\": 390}, \"Total Records Seen\": {\"count\": 1, \"max\": 384498, \"sum\": 384498.0, \"min\": 384498}, \"Max Records Seen Between Resets\": {\"count\": 1, \"max\": 53214, \"sum\": 53214.0, \"min\": 53214}, \"Reset Count\": {\"count\": 1, \"max\": 9, \"sum\": 9.0, \"min\": 9}}, \"EndTime\": 1614517748.241829, \"Dimensions\": {\"Host\": \"algo-1\", \"Meta\": \"training_data_iter\", \"Operation\": \"training\", \"Algorithm\": \"Linear Learner\", \"epoch\": 6}, \"StartTime\": 1614517746.615679}\n",
      "\u001b[0m\n",
      "\u001b[34m[02/28/2021 13:09:08 INFO 139728157366080] #throughput_metric: host=algo-1, train throughput=32721.6082242 records/second\u001b[0m\n",
      "\u001b[34m[2021-02-28 13:09:09.744] [tensorio] [info] epoch_stats={\"data_pipeline\": \"/opt/ml/input/data/train\", \"epoch\": 17, \"duration\": 1501, \"num_examples\": 54, \"num_bytes\": 11068512}\u001b[0m\n",
      "\u001b[34m#metrics {\"Metrics\": {\"train_binary_classification_weighted_cross_entropy_objective\": {\"count\": 1, \"max\": 1.1112366620909493, \"sum\": 1.1112366620909493, \"min\": 1.1112366620909493}}, \"EndTime\": 1614517749.744809, \"Dimensions\": {\"model\": 0, \"Host\": \"algo-1\", \"Operation\": \"training\", \"Algorithm\": \"Linear Learner\", \"epoch\": 7}, \"StartTime\": 1614517749.744722}\n",
      "\u001b[0m\n",
      "\u001b[34m#metrics {\"Metrics\": {\"train_binary_classification_weighted_cross_entropy_objective\": {\"count\": 1, \"max\": 1.1109151288878243, \"sum\": 1.1109151288878243, \"min\": 1.1109151288878243}}, \"EndTime\": 1614517749.744884, \"Dimensions\": {\"model\": 1, \"Host\": \"algo-1\", \"Operation\": \"training\", \"Algorithm\": \"Linear Learner\", \"epoch\": 7}, \"StartTime\": 1614517749.744867}\n",
      "\u001b[0m\n",
      "\u001b[34m#metrics {\"Metrics\": {\"train_binary_classification_weighted_cross_entropy_objective\": {\"count\": 1, \"max\": 1.1110659410008845, \"sum\": 1.1110659410008845, \"min\": 1.1110659410008845}}, \"EndTime\": 1614517749.744944, \"Dimensions\": {\"model\": 2, \"Host\": \"algo-1\", \"Operation\": \"training\", \"Algorithm\": \"Linear Learner\", \"epoch\": 7}, \"StartTime\": 1614517749.744928}\n",
      "\u001b[0m\n",
      "\u001b[34m#metrics {\"Metrics\": {\"train_binary_classification_weighted_cross_entropy_objective\": {\"count\": 1, \"max\": 1.1107094795658903, \"sum\": 1.1107094795658903, \"min\": 1.1107094795658903}}, \"EndTime\": 1614517749.745003, \"Dimensions\": {\"model\": 3, \"Host\": \"algo-1\", \"Operation\": \"training\", \"Algorithm\": \"Linear Learner\", \"epoch\": 7}, \"StartTime\": 1614517749.744986}\n",
      "\u001b[0m\n",
      "\u001b[34m#metrics {\"Metrics\": {\"train_binary_classification_weighted_cross_entropy_objective\": {\"count\": 1, \"max\": 1.1607208701079748, \"sum\": 1.1607208701079748, \"min\": 1.1607208701079748}}, \"EndTime\": 1614517749.745064, \"Dimensions\": {\"model\": 4, \"Host\": \"algo-1\", \"Operation\": \"training\", \"Algorithm\": \"Linear Learner\", \"epoch\": 7}, \"StartTime\": 1614517749.745047}\n",
      "\u001b[0m\n",
      "\u001b[34m#metrics {\"Metrics\": {\"train_binary_classification_weighted_cross_entropy_objective\": {\"count\": 1, \"max\": 1.2012103248452242, \"sum\": 1.2012103248452242, \"min\": 1.2012103248452242}}, \"EndTime\": 1614517749.745123, \"Dimensions\": {\"model\": 5, \"Host\": \"algo-1\", \"Operation\": \"training\", \"Algorithm\": \"Linear Learner\", \"epoch\": 7}, \"StartTime\": 1614517749.745107}\n",
      "\u001b[0m\n",
      "\u001b[34m#metrics {\"Metrics\": {\"train_binary_classification_weighted_cross_entropy_objective\": {\"count\": 1, \"max\": 1.1609500145102447, \"sum\": 1.1609500145102447, \"min\": 1.1609500145102447}}, \"EndTime\": 1614517749.745189, \"Dimensions\": {\"model\": 6, \"Host\": \"algo-1\", \"Operation\": \"training\", \"Algorithm\": \"Linear Learner\", \"epoch\": 7}, \"StartTime\": 1614517749.745171}\n",
      "\u001b[0m\n",
      "\u001b[34m#metrics {\"Metrics\": {\"train_binary_classification_weighted_cross_entropy_objective\": {\"count\": 1, \"max\": 1.20047621471477, \"sum\": 1.20047621471477, \"min\": 1.20047621471477}}, \"EndTime\": 1614517749.745253, \"Dimensions\": {\"model\": 7, \"Host\": \"algo-1\", \"Operation\": \"training\", \"Algorithm\": \"Linear Learner\", \"epoch\": 7}, \"StartTime\": 1614517749.745235}\n",
      "\u001b[0m\n",
      "\u001b[34m#metrics {\"Metrics\": {\"train_binary_classification_weighted_cross_entropy_objective\": {\"count\": 1, \"max\": 1.1120672872291422, \"sum\": 1.1120672872291422, \"min\": 1.1120672872291422}}, \"EndTime\": 1614517749.745314, \"Dimensions\": {\"model\": 8, \"Host\": \"algo-1\", \"Operation\": \"training\", \"Algorithm\": \"Linear Learner\", \"epoch\": 7}, \"StartTime\": 1614517749.745297}\n",
      "\u001b[0m\n",
      "\u001b[34m#metrics {\"Metrics\": {\"train_binary_classification_weighted_cross_entropy_objective\": {\"count\": 1, \"max\": 1.1123370729842277, \"sum\": 1.1123370729842277, \"min\": 1.1123370729842277}}, \"EndTime\": 1614517749.745373, \"Dimensions\": {\"model\": 9, \"Host\": \"algo-1\", \"Operation\": \"training\", \"Algorithm\": \"Linear Learner\", \"epoch\": 7}, \"StartTime\": 1614517749.745357}\n",
      "\u001b[0m\n",
      "\u001b[34m#metrics {\"Metrics\": {\"train_binary_classification_weighted_cross_entropy_objective\": {\"count\": 1, \"max\": 1.1116246337890625, \"sum\": 1.1116246337890625, \"min\": 1.1116246337890625}}, \"EndTime\": 1614517749.745435, \"Dimensions\": {\"model\": 10, \"Host\": \"algo-1\", \"Operation\": \"training\", \"Algorithm\": \"Linear Learner\", \"epoch\": 7}, \"StartTime\": 1614517749.745418}\n",
      "\u001b[0m\n",
      "\u001b[34m#metrics {\"Metrics\": {\"train_binary_classification_weighted_cross_entropy_objective\": {\"count\": 1, \"max\": 1.111975876142394, \"sum\": 1.111975876142394, \"min\": 1.111975876142394}}, \"EndTime\": 1614517749.745503, \"Dimensions\": {\"model\": 11, \"Host\": \"algo-1\", \"Operation\": \"training\", \"Algorithm\": \"Linear Learner\", \"epoch\": 7}, \"StartTime\": 1614517749.745487}\n",
      "\u001b[0m\n",
      "\u001b[34m#metrics {\"Metrics\": {\"train_binary_classification_weighted_cross_entropy_objective\": {\"count\": 1, \"max\": 1.1633849383660082, \"sum\": 1.1633849383660082, \"min\": 1.1633849383660082}}, \"EndTime\": 1614517749.745563, \"Dimensions\": {\"model\": 12, \"Host\": \"algo-1\", \"Operation\": \"training\", \"Algorithm\": \"Linear Learner\", \"epoch\": 7}, \"StartTime\": 1614517749.745546}\n",
      "\u001b[0m\n",
      "\u001b[34m#metrics {\"Metrics\": {\"train_binary_classification_weighted_cross_entropy_objective\": {\"count\": 1, \"max\": 1.204065544848172, \"sum\": 1.204065544848172, \"min\": 1.204065544848172}}, \"EndTime\": 1614517749.745621, \"Dimensions\": {\"model\": 13, \"Host\": \"algo-1\", \"Operation\": \"training\", \"Algorithm\": \"Linear Learner\", \"epoch\": 7}, \"StartTime\": 1614517749.745605}\n",
      "\u001b[0m\n",
      "\u001b[34m#metrics {\"Metrics\": {\"train_binary_classification_weighted_cross_entropy_objective\": {\"count\": 1, \"max\": 1.163598065070386, \"sum\": 1.163598065070386, \"min\": 1.163598065070386}}, \"EndTime\": 1614517749.74568, \"Dimensions\": {\"model\": 14, \"Host\": \"algo-1\", \"Operation\": \"training\", \"Algorithm\": \"Linear Learner\", \"epoch\": 7}, \"StartTime\": 1614517749.745664}\n",
      "\u001b[0m\n",
      "\u001b[34m#metrics {\"Metrics\": {\"train_binary_classification_weighted_cross_entropy_objective\": {\"count\": 1, \"max\": 1.2042575303563532, \"sum\": 1.2042575303563532, \"min\": 1.2042575303563532}}, \"EndTime\": 1614517749.745739, \"Dimensions\": {\"model\": 15, \"Host\": \"algo-1\", \"Operation\": \"training\", \"Algorithm\": \"Linear Learner\", \"epoch\": 7}, \"StartTime\": 1614517749.745721}\n",
      "\u001b[0m\n",
      "\u001b[34m#metrics {\"Metrics\": {\"train_binary_classification_weighted_cross_entropy_objective\": {\"count\": 1, \"max\": 1.1908300723669665, \"sum\": 1.1908300723669665, \"min\": 1.1908300723669665}}, \"EndTime\": 1614517749.745797, \"Dimensions\": {\"model\": 16, \"Host\": \"algo-1\", \"Operation\": \"training\", \"Algorithm\": \"Linear Learner\", \"epoch\": 7}, \"StartTime\": 1614517749.74578}\n",
      "\u001b[0m\n",
      "\u001b[34m#metrics {\"Metrics\": {\"train_binary_classification_weighted_cross_entropy_objective\": {\"count\": 1, \"max\": 1.191694774699661, \"sum\": 1.191694774699661, \"min\": 1.191694774699661}}, \"EndTime\": 1614517749.74587, \"Dimensions\": {\"model\": 17, \"Host\": \"algo-1\", \"Operation\": \"training\", \"Algorithm\": \"Linear Learner\", \"epoch\": 7}, \"StartTime\": 1614517749.745853}\n",
      "\u001b[0m\n",
      "\u001b[34m#metrics {\"Metrics\": {\"train_binary_classification_weighted_cross_entropy_objective\": {\"count\": 1, \"max\": 1.1908364165683962, \"sum\": 1.1908364165683962, \"min\": 1.1908364165683962}}, \"EndTime\": 1614517749.745931, \"Dimensions\": {\"model\": 18, \"Host\": \"algo-1\", \"Operation\": \"training\", \"Algorithm\": \"Linear Learner\", \"epoch\": 7}, \"StartTime\": 1614517749.745914}\n",
      "\u001b[0m\n",
      "\u001b[34m#metrics {\"Metrics\": {\"train_binary_classification_weighted_cross_entropy_objective\": {\"count\": 1, \"max\": 1.1916903318009286, \"sum\": 1.1916903318009286, \"min\": 1.1916903318009286}}, \"EndTime\": 1614517749.745989, \"Dimensions\": {\"model\": 19, \"Host\": \"algo-1\", \"Operation\": \"training\", \"Algorithm\": \"Linear Learner\", \"epoch\": 7}, \"StartTime\": 1614517749.745973}\n",
      "\u001b[0m\n",
      "\u001b[34m#metrics {\"Metrics\": {\"train_binary_classification_weighted_cross_entropy_objective\": {\"count\": 1, \"max\": 1.226385118016657, \"sum\": 1.226385118016657, \"min\": 1.226385118016657}}, \"EndTime\": 1614517749.746046, \"Dimensions\": {\"model\": 20, \"Host\": \"algo-1\", \"Operation\": \"training\", \"Algorithm\": \"Linear Learner\", \"epoch\": 7}, \"StartTime\": 1614517749.746031}\n",
      "\u001b[0m\n",
      "\u001b[34m#metrics {\"Metrics\": {\"train_binary_classification_weighted_cross_entropy_objective\": {\"count\": 1, \"max\": 1.2356039394162737, \"sum\": 1.2356039394162737, \"min\": 1.2356039394162737}}, \"EndTime\": 1614517749.746115, \"Dimensions\": {\"model\": 21, \"Host\": \"algo-1\", \"Operation\": \"training\", \"Algorithm\": \"Linear Learner\", \"epoch\": 7}, \"StartTime\": 1614517749.746097}\n",
      "\u001b[0m\n",
      "\u001b[34m#metrics {\"Metrics\": {\"train_binary_classification_weighted_cross_entropy_objective\": {\"count\": 1, \"max\": 1.2260430654849646, \"sum\": 1.2260430654849646, \"min\": 1.2260430654849646}}, \"EndTime\": 1614517749.746176, \"Dimensions\": {\"model\": 22, \"Host\": \"algo-1\", \"Operation\": \"training\", \"Algorithm\": \"Linear Learner\", \"epoch\": 7}, \"StartTime\": 1614517749.746159}\n",
      "\u001b[0m\n",
      "\u001b[34m#metrics {\"Metrics\": {\"train_binary_classification_weighted_cross_entropy_objective\": {\"count\": 1, \"max\": 1.2357574808372642, \"sum\": 1.2357574808372642, \"min\": 1.2357574808372642}}, \"EndTime\": 1614517749.746227, \"Dimensions\": {\"model\": 23, \"Host\": \"algo-1\", \"Operation\": \"training\", \"Algorithm\": \"Linear Learner\", \"epoch\": 7}, \"StartTime\": 1614517749.746216}\n",
      "\u001b[0m\n",
      "\u001b[34m#metrics {\"Metrics\": {\"train_binary_classification_weighted_cross_entropy_objective\": {\"count\": 1, \"max\": 1.3482494610480542, \"sum\": 1.3482494610480542, \"min\": 1.3482494610480542}}, \"EndTime\": 1614517749.746281, \"Dimensions\": {\"model\": 24, \"Host\": \"algo-1\", \"Operation\": \"training\", \"Algorithm\": \"Linear Learner\", \"epoch\": 7}, \"StartTime\": 1614517749.746265}\n",
      "\u001b[0m\n",
      "\u001b[34m#metrics {\"Metrics\": {\"train_binary_classification_weighted_cross_entropy_objective\": {\"count\": 1, \"max\": 1.3482923123341686, \"sum\": 1.3482923123341686, \"min\": 1.3482923123341686}}, \"EndTime\": 1614517749.74635, \"Dimensions\": {\"model\": 25, \"Host\": \"algo-1\", \"Operation\": \"training\", \"Algorithm\": \"Linear Learner\", \"epoch\": 7}, \"StartTime\": 1614517749.746332}\n",
      "\u001b[0m\n",
      "\u001b[34m#metrics {\"Metrics\": {\"train_binary_classification_weighted_cross_entropy_objective\": {\"count\": 1, \"max\": 1.3482246669553362, \"sum\": 1.3482246669553362, \"min\": 1.3482246669553362}}, \"EndTime\": 1614517749.746414, \"Dimensions\": {\"model\": 26, \"Host\": \"algo-1\", \"Operation\": \"training\", \"Algorithm\": \"Linear Learner\", \"epoch\": 7}, \"StartTime\": 1614517749.746397}\n",
      "\u001b[0m\n",
      "\u001b[34m#metrics {\"Metrics\": {\"train_binary_classification_weighted_cross_entropy_objective\": {\"count\": 1, \"max\": 1.3483583984375, \"sum\": 1.3483583984375, \"min\": 1.3483583984375}}, \"EndTime\": 1614517749.746468, \"Dimensions\": {\"model\": 27, \"Host\": \"algo-1\", \"Operation\": \"training\", \"Algorithm\": \"Linear Learner\", \"epoch\": 7}, \"StartTime\": 1614517749.746456}\n",
      "\u001b[0m\n",
      "\u001b[34m#metrics {\"Metrics\": {\"train_binary_classification_weighted_cross_entropy_objective\": {\"count\": 1, \"max\": 1.3592135170990567, \"sum\": 1.3592135170990567, \"min\": 1.3592135170990567}}, \"EndTime\": 1614517749.746511, \"Dimensions\": {\"model\": 28, \"Host\": \"algo-1\", \"Operation\": \"training\", \"Algorithm\": \"Linear Learner\", \"epoch\": 7}, \"StartTime\": 1614517749.746496}\n",
      "\u001b[0m\n",
      "\u001b[34m#metrics {\"Metrics\": {\"train_binary_classification_weighted_cross_entropy_objective\": {\"count\": 1, \"max\": 1.3697292825950766, \"sum\": 1.3697292825950766, \"min\": 1.3697292825950766}}, \"EndTime\": 1614517749.746572, \"Dimensions\": {\"model\": 29, \"Host\": \"algo-1\", \"Operation\": \"training\", \"Algorithm\": \"Linear Learner\", \"epoch\": 7}, \"StartTime\": 1614517749.746555}\n",
      "\u001b[0m\n",
      "\u001b[34m#metrics {\"Metrics\": {\"train_binary_classification_weighted_cross_entropy_objective\": {\"count\": 1, \"max\": 1.359431640625, \"sum\": 1.359431640625, \"min\": 1.359431640625}}, \"EndTime\": 1614517749.74664, \"Dimensions\": {\"model\": 30, \"Host\": \"algo-1\", \"Operation\": \"training\", \"Algorithm\": \"Linear Learner\", \"epoch\": 7}, \"StartTime\": 1614517749.746622}\n",
      "\u001b[0m\n",
      "\u001b[34m#metrics {\"Metrics\": {\"train_binary_classification_weighted_cross_entropy_objective\": {\"count\": 1, \"max\": 1.3697202516951652, \"sum\": 1.3697202516951652, \"min\": 1.3697202516951652}}, \"EndTime\": 1614517749.746694, \"Dimensions\": {\"model\": 31, \"Host\": \"algo-1\", \"Operation\": \"training\", \"Algorithm\": \"Linear Learner\", \"epoch\": 7}, \"StartTime\": 1614517749.746682}\n",
      "\u001b[0m\n",
      "\u001b[34m[02/28/2021 13:09:09 INFO 139728157366080] #quality_metric: host=algo-1, epoch=7, train binary_classification_weighted_cross_entropy_objective <loss>=1.11123666209\u001b[0m\n",
      "\u001b[34m[02/28/2021 13:09:09 INFO 139728157366080] #early_stopping_criteria_metric: host=algo-1, epoch=7, criteria=binary_classification_weighted_cross_entropy_objective, value=1.11070947957\u001b[0m\n",
      "\u001b[34m[02/28/2021 13:09:09 INFO 139728157366080] Saving model for epoch: 7\u001b[0m\n",
      "\u001b[34m[02/28/2021 13:09:09 INFO 139728157366080] Saved checkpoint to \"/tmp/tmp4Da9gR/mx-mod-0000.params\"\u001b[0m\n",
      "\u001b[34m[02/28/2021 13:09:09 INFO 139728157366080] #progress_metric: host=algo-1, completed 53 % of epochs\u001b[0m\n",
      "\u001b[34m#metrics {\"Metrics\": {\"Max Batches Seen Between Resets\": {\"count\": 1, \"max\": 54, \"sum\": 54.0, \"min\": 54}, \"Number of Batches Since Last Reset\": {\"count\": 1, \"max\": 54, \"sum\": 54.0, \"min\": 54}, \"Number of Records Since Last Reset\": {\"count\": 1, \"max\": 53214, \"sum\": 53214.0, \"min\": 53214}, \"Total Batches Seen\": {\"count\": 1, \"max\": 444, \"sum\": 444.0, \"min\": 444}, \"Total Records Seen\": {\"count\": 1, \"max\": 437712, \"sum\": 437712.0, \"min\": 437712}, \"Max Records Seen Between Resets\": {\"count\": 1, \"max\": 53214, \"sum\": 53214.0, \"min\": 53214}, \"Reset Count\": {\"count\": 1, \"max\": 10, \"sum\": 10.0, \"min\": 10}}, \"EndTime\": 1614517749.754127, \"Dimensions\": {\"Host\": \"algo-1\", \"Meta\": \"training_data_iter\", \"Operation\": \"training\", \"Algorithm\": \"Linear Learner\", \"epoch\": 7}, \"StartTime\": 1614517748.242581}\n",
      "\u001b[0m\n",
      "\u001b[34m[02/28/2021 13:09:09 INFO 139728157366080] #throughput_metric: host=algo-1, train throughput=35202.5245769 records/second\u001b[0m\n",
      "\u001b[34m[2021-02-28 13:09:11.360] [tensorio] [info] epoch_stats={\"data_pipeline\": \"/opt/ml/input/data/train\", \"epoch\": 19, \"duration\": 1605, \"num_examples\": 54, \"num_bytes\": 11068512}\u001b[0m\n",
      "\u001b[34m#metrics {\"Metrics\": {\"train_binary_classification_weighted_cross_entropy_objective\": {\"count\": 1, \"max\": 1.1103650627855985, \"sum\": 1.1103650627855985, \"min\": 1.1103650627855985}}, \"EndTime\": 1614517751.360326, \"Dimensions\": {\"model\": 0, \"Host\": \"algo-1\", \"Operation\": \"training\", \"Algorithm\": \"Linear Learner\", \"epoch\": 8}, \"StartTime\": 1614517751.360121}\n",
      "\u001b[0m\n",
      "\u001b[34m#metrics {\"Metrics\": {\"train_binary_classification_weighted_cross_entropy_objective\": {\"count\": 1, \"max\": 1.1101545479252652, \"sum\": 1.1101545479252652, \"min\": 1.1101545479252652}}, \"EndTime\": 1614517751.360467, \"Dimensions\": {\"model\": 1, \"Host\": \"algo-1\", \"Operation\": \"training\", \"Algorithm\": \"Linear Learner\", \"epoch\": 8}, \"StartTime\": 1614517751.360411}\n",
      "\u001b[0m\n",
      "\u001b[34m#metrics {\"Metrics\": {\"train_binary_classification_weighted_cross_entropy_objective\": {\"count\": 1, \"max\": 1.1102205557193396, \"sum\": 1.1102205557193396, \"min\": 1.1102205557193396}}, \"EndTime\": 1614517751.360572, \"Dimensions\": {\"model\": 2, \"Host\": \"algo-1\", \"Operation\": \"training\", \"Algorithm\": \"Linear Learner\", \"epoch\": 8}, \"StartTime\": 1614517751.360553}\n",
      "\u001b[0m\n",
      "\u001b[34m#metrics {\"Metrics\": {\"train_binary_classification_weighted_cross_entropy_objective\": {\"count\": 1, \"max\": 1.1099467393407283, \"sum\": 1.1099467393407283, \"min\": 1.1099467393407283}}, \"EndTime\": 1614517751.360734, \"Dimensions\": {\"model\": 3, \"Host\": \"algo-1\", \"Operation\": \"training\", \"Algorithm\": \"Linear Learner\", \"epoch\": 8}, \"StartTime\": 1614517751.360696}\n",
      "\u001b[0m\n",
      "\u001b[34m#metrics {\"Metrics\": {\"train_binary_classification_weighted_cross_entropy_objective\": {\"count\": 1, \"max\": 1.1614557011442364, \"sum\": 1.1614557011442364, \"min\": 1.1614557011442364}}, \"EndTime\": 1614517751.360896, \"Dimensions\": {\"model\": 4, \"Host\": \"algo-1\", \"Operation\": \"training\", \"Algorithm\": \"Linear Learner\", \"epoch\": 8}, \"StartTime\": 1614517751.360844}\n",
      "\u001b[0m\n",
      "\u001b[34m#metrics {\"Metrics\": {\"train_binary_classification_weighted_cross_entropy_objective\": {\"count\": 1, \"max\": 1.2012053291752653, \"sum\": 1.2012053291752653, \"min\": 1.2012053291752653}}, \"EndTime\": 1614517751.360991, \"Dimensions\": {\"model\": 5, \"Host\": \"algo-1\", \"Operation\": \"training\", \"Algorithm\": \"Linear Learner\", \"epoch\": 8}, \"StartTime\": 1614517751.360974}\n",
      "\u001b[0m\n",
      "\u001b[34m#metrics {\"Metrics\": {\"train_binary_classification_weighted_cross_entropy_objective\": {\"count\": 1, \"max\": 1.1616411190392837, \"sum\": 1.1616411190392837, \"min\": 1.1616411190392837}}, \"EndTime\": 1614517751.361142, \"Dimensions\": {\"model\": 6, \"Host\": \"algo-1\", \"Operation\": \"training\", \"Algorithm\": \"Linear Learner\", \"epoch\": 8}, \"StartTime\": 1614517751.36109}\n",
      "\u001b[0m\n",
      "\u001b[34m#metrics {\"Metrics\": {\"train_binary_classification_weighted_cross_entropy_objective\": {\"count\": 1, \"max\": 1.2006903813200176, \"sum\": 1.2006903813200176, \"min\": 1.2006903813200176}}, \"EndTime\": 1614517751.361251, \"Dimensions\": {\"model\": 7, \"Host\": \"algo-1\", \"Operation\": \"training\", \"Algorithm\": \"Linear Learner\", \"epoch\": 8}, \"StartTime\": 1614517751.361234}\n",
      "\u001b[0m\n",
      "\u001b[34m#metrics {\"Metrics\": {\"train_binary_classification_weighted_cross_entropy_objective\": {\"count\": 1, \"max\": 1.1114263962079893, \"sum\": 1.1114263962079893, \"min\": 1.1114263962079893}}, \"EndTime\": 1614517751.361346, \"Dimensions\": {\"model\": 8, \"Host\": \"algo-1\", \"Operation\": \"training\", \"Algorithm\": \"Linear Learner\", \"epoch\": 8}, \"StartTime\": 1614517751.36133}\n",
      "\u001b[0m\n",
      "\u001b[34m#metrics {\"Metrics\": {\"train_binary_classification_weighted_cross_entropy_objective\": {\"count\": 1, \"max\": 1.1118358661003833, \"sum\": 1.1118358661003833, \"min\": 1.1118358661003833}}, \"EndTime\": 1614517751.361402, \"Dimensions\": {\"model\": 9, \"Host\": \"algo-1\", \"Operation\": \"training\", \"Algorithm\": \"Linear Learner\", \"epoch\": 8}, \"StartTime\": 1614517751.361387}\n",
      "\u001b[0m\n",
      "\u001b[34m#metrics {\"Metrics\": {\"train_binary_classification_weighted_cross_entropy_objective\": {\"count\": 1, \"max\": 1.1110165336177034, \"sum\": 1.1110165336177034, \"min\": 1.1110165336177034}}, \"EndTime\": 1614517751.361509, \"Dimensions\": {\"model\": 10, \"Host\": \"algo-1\", \"Operation\": \"training\", \"Algorithm\": \"Linear Learner\", \"epoch\": 8}, \"StartTime\": 1614517751.361491}\n",
      "\u001b[0m\n",
      "\u001b[34m#metrics {\"Metrics\": {\"train_binary_classification_weighted_cross_entropy_objective\": {\"count\": 1, \"max\": 1.1115512925633844, \"sum\": 1.1115512925633844, \"min\": 1.1115512925633844}}, \"EndTime\": 1614517751.361566, \"Dimensions\": {\"model\": 11, \"Host\": \"algo-1\", \"Operation\": \"training\", \"Algorithm\": \"Linear Learner\", \"epoch\": 8}, \"StartTime\": 1614517751.361551}\n",
      "\u001b[0m\n",
      "\u001b[34m#metrics {\"Metrics\": {\"train_binary_classification_weighted_cross_entropy_objective\": {\"count\": 1, \"max\": 1.1638267522847878, \"sum\": 1.1638267522847878, \"min\": 1.1638267522847878}}, \"EndTime\": 1614517751.361619, \"Dimensions\": {\"model\": 12, \"Host\": \"algo-1\", \"Operation\": \"training\", \"Algorithm\": \"Linear Learner\", \"epoch\": 8}, \"StartTime\": 1614517751.361605}\n",
      "\u001b[0m\n",
      "\u001b[34m#metrics {\"Metrics\": {\"train_binary_classification_weighted_cross_entropy_objective\": {\"count\": 1, \"max\": 1.2024604687960643, \"sum\": 1.2024604687960643, \"min\": 1.2024604687960643}}, \"EndTime\": 1614517751.361694, \"Dimensions\": {\"model\": 13, \"Host\": \"algo-1\", \"Operation\": \"training\", \"Algorithm\": \"Linear Learner\", \"epoch\": 8}, \"StartTime\": 1614517751.361678}\n",
      "\u001b[0m\n",
      "\u001b[34m#metrics {\"Metrics\": {\"train_binary_classification_weighted_cross_entropy_objective\": {\"count\": 1, \"max\": 1.1642630292784493, \"sum\": 1.1642630292784493, \"min\": 1.1642630292784493}}, \"EndTime\": 1614517751.361746, \"Dimensions\": {\"model\": 14, \"Host\": \"algo-1\", \"Operation\": \"training\", \"Algorithm\": \"Linear Learner\", \"epoch\": 8}, \"StartTime\": 1614517751.361732}\n",
      "\u001b[0m\n",
      "\u001b[34m#metrics {\"Metrics\": {\"train_binary_classification_weighted_cross_entropy_objective\": {\"count\": 1, \"max\": 1.2025454320367777, \"sum\": 1.2025454320367777, \"min\": 1.2025454320367777}}, \"EndTime\": 1614517751.361806, \"Dimensions\": {\"model\": 15, \"Host\": \"algo-1\", \"Operation\": \"training\", \"Algorithm\": \"Linear Learner\", \"epoch\": 8}, \"StartTime\": 1614517751.361791}\n",
      "\u001b[0m\n",
      "\u001b[34m#metrics {\"Metrics\": {\"train_binary_classification_weighted_cross_entropy_objective\": {\"count\": 1, \"max\": 1.190733071381191, \"sum\": 1.190733071381191, \"min\": 1.190733071381191}}, \"EndTime\": 1614517751.361866, \"Dimensions\": {\"model\": 16, \"Host\": \"algo-1\", \"Operation\": \"training\", \"Algorithm\": \"Linear Learner\", \"epoch\": 8}, \"StartTime\": 1614517751.36185}\n",
      "\u001b[0m\n",
      "\u001b[34m#metrics {\"Metrics\": {\"train_binary_classification_weighted_cross_entropy_objective\": {\"count\": 1, \"max\": 1.1916594100088442, \"sum\": 1.1916594100088442, \"min\": 1.1916594100088442}}, \"EndTime\": 1614517751.361926, \"Dimensions\": {\"model\": 17, \"Host\": \"algo-1\", \"Operation\": \"training\", \"Algorithm\": \"Linear Learner\", \"epoch\": 8}, \"StartTime\": 1614517751.361911}\n",
      "\u001b[0m\n",
      "\u001b[34m#metrics {\"Metrics\": {\"train_binary_classification_weighted_cross_entropy_objective\": {\"count\": 1, \"max\": 1.1907372931714328, \"sum\": 1.1907372931714328, \"min\": 1.1907372931714328}}, \"EndTime\": 1614517751.361985, \"Dimensions\": {\"model\": 18, \"Host\": \"algo-1\", \"Operation\": \"training\", \"Algorithm\": \"Linear Learner\", \"epoch\": 8}, \"StartTime\": 1614517751.36197}\n",
      "\u001b[0m\n",
      "\u001b[34m#metrics {\"Metrics\": {\"train_binary_classification_weighted_cross_entropy_objective\": {\"count\": 1, \"max\": 1.1916533732864092, \"sum\": 1.1916533732864092, \"min\": 1.1916533732864092}}, \"EndTime\": 1614517751.362046, \"Dimensions\": {\"model\": 19, \"Host\": \"algo-1\", \"Operation\": \"training\", \"Algorithm\": \"Linear Learner\", \"epoch\": 8}, \"StartTime\": 1614517751.36203}\n",
      "\u001b[0m\n",
      "\u001b[34m#metrics {\"Metrics\": {\"train_binary_classification_weighted_cross_entropy_objective\": {\"count\": 1, \"max\": 1.223334592423349, \"sum\": 1.223334592423349, \"min\": 1.223334592423349}}, \"EndTime\": 1614517751.3621, \"Dimensions\": {\"model\": 20, \"Host\": \"algo-1\", \"Operation\": \"training\", \"Algorithm\": \"Linear Learner\", \"epoch\": 8}, \"StartTime\": 1614517751.362085}\n",
      "\u001b[0m\n",
      "\u001b[34m#metrics {\"Metrics\": {\"train_binary_classification_weighted_cross_entropy_objective\": {\"count\": 1, \"max\": 1.235984437186763, \"sum\": 1.235984437186763, \"min\": 1.235984437186763}}, \"EndTime\": 1614517751.362149, \"Dimensions\": {\"model\": 21, \"Host\": \"algo-1\", \"Operation\": \"training\", \"Algorithm\": \"Linear Learner\", \"epoch\": 8}, \"StartTime\": 1614517751.362135}\n",
      "\u001b[0m\n",
      "\u001b[34m#metrics {\"Metrics\": {\"train_binary_classification_weighted_cross_entropy_objective\": {\"count\": 1, \"max\": 1.2231160796543337, \"sum\": 1.2231160796543337, \"min\": 1.2231160796543337}}, \"EndTime\": 1614517751.362197, \"Dimensions\": {\"model\": 22, \"Host\": \"algo-1\", \"Operation\": \"training\", \"Algorithm\": \"Linear Learner\", \"epoch\": 8}, \"StartTime\": 1614517751.362184}\n",
      "\u001b[0m\n",
      "\u001b[34m#metrics {\"Metrics\": {\"train_binary_classification_weighted_cross_entropy_objective\": {\"count\": 1, \"max\": 1.2366422648879718, \"sum\": 1.2366422648879718, \"min\": 1.2366422648879718}}, \"EndTime\": 1614517751.362244, \"Dimensions\": {\"model\": 23, \"Host\": \"algo-1\", \"Operation\": \"training\", \"Algorithm\": \"Linear Learner\", \"epoch\": 8}, \"StartTime\": 1614517751.362231}\n",
      "\u001b[0m\n",
      "\u001b[34m#metrics {\"Metrics\": {\"train_binary_classification_weighted_cross_entropy_objective\": {\"count\": 1, \"max\": 1.3482558340396522, \"sum\": 1.3482558340396522, \"min\": 1.3482558340396522}}, \"EndTime\": 1614517751.362291, \"Dimensions\": {\"model\": 24, \"Host\": \"algo-1\", \"Operation\": \"training\", \"Algorithm\": \"Linear Learner\", \"epoch\": 8}, \"StartTime\": 1614517751.362278}\n",
      "\u001b[0m\n",
      "\u001b[34m#metrics {\"Metrics\": {\"train_binary_classification_weighted_cross_entropy_objective\": {\"count\": 1, \"max\": 1.3482937656618514, \"sum\": 1.3482937656618514, \"min\": 1.3482937656618514}}, \"EndTime\": 1614517751.36234, \"Dimensions\": {\"model\": 25, \"Host\": \"algo-1\", \"Operation\": \"training\", \"Algorithm\": \"Linear Learner\", \"epoch\": 8}, \"StartTime\": 1614517751.362327}\n",
      "\u001b[0m\n",
      "\u001b[34m#metrics {\"Metrics\": {\"train_binary_classification_weighted_cross_entropy_objective\": {\"count\": 1, \"max\": 1.3482288956552182, \"sum\": 1.3482288956552182, \"min\": 1.3482288956552182}}, \"EndTime\": 1614517751.362388, \"Dimensions\": {\"model\": 26, \"Host\": \"algo-1\", \"Operation\": \"training\", \"Algorithm\": \"Linear Learner\", \"epoch\": 8}, \"StartTime\": 1614517751.362374}\n",
      "\u001b[0m\n",
      "\u001b[34m#metrics {\"Metrics\": {\"train_binary_classification_weighted_cross_entropy_objective\": {\"count\": 1, \"max\": 1.3483726898769162, \"sum\": 1.3483726898769162, \"min\": 1.3483726898769162}}, \"EndTime\": 1614517751.362486, \"Dimensions\": {\"model\": 27, \"Host\": \"algo-1\", \"Operation\": \"training\", \"Algorithm\": \"Linear Learner\", \"epoch\": 8}, \"StartTime\": 1614517751.362469}\n",
      "\u001b[0m\n",
      "\u001b[34m#metrics {\"Metrics\": {\"train_binary_classification_weighted_cross_entropy_objective\": {\"count\": 1, \"max\": 1.3584835389335201, \"sum\": 1.3584835389335201, \"min\": 1.3584835389335201}}, \"EndTime\": 1614517751.362542, \"Dimensions\": {\"model\": 28, \"Host\": \"algo-1\", \"Operation\": \"training\", \"Algorithm\": \"Linear Learner\", \"epoch\": 8}, \"StartTime\": 1614517751.362527}\n",
      "\u001b[0m\n",
      "\u001b[34m#metrics {\"Metrics\": {\"train_binary_classification_weighted_cross_entropy_objective\": {\"count\": 1, \"max\": 1.369412067917158, \"sum\": 1.369412067917158, \"min\": 1.369412067917158}}, \"EndTime\": 1614517751.362594, \"Dimensions\": {\"model\": 29, \"Host\": \"algo-1\", \"Operation\": \"training\", \"Algorithm\": \"Linear Learner\", \"epoch\": 8}, \"StartTime\": 1614517751.362579}\n",
      "\u001b[0m\n",
      "\u001b[34m#metrics {\"Metrics\": {\"train_binary_classification_weighted_cross_entropy_objective\": {\"count\": 1, \"max\": 1.3587310906176298, \"sum\": 1.3587310906176298, \"min\": 1.3587310906176298}}, \"EndTime\": 1614517751.362644, \"Dimensions\": {\"model\": 30, \"Host\": \"algo-1\", \"Operation\": \"training\", \"Algorithm\": \"Linear Learner\", \"epoch\": 8}, \"StartTime\": 1614517751.36263}\n",
      "\u001b[0m\n",
      "\u001b[34m#metrics {\"Metrics\": {\"train_binary_classification_weighted_cross_entropy_objective\": {\"count\": 1, \"max\": 1.369431698205336, \"sum\": 1.369431698205336, \"min\": 1.369431698205336}}, \"EndTime\": 1614517751.362697, \"Dimensions\": {\"model\": 31, \"Host\": \"algo-1\", \"Operation\": \"training\", \"Algorithm\": \"Linear Learner\", \"epoch\": 8}, \"StartTime\": 1614517751.362682}\n",
      "\u001b[0m\n",
      "\u001b[34m[02/28/2021 13:09:11 INFO 139728157366080] #quality_metric: host=algo-1, epoch=8, train binary_classification_weighted_cross_entropy_objective <loss>=1.11036506279\u001b[0m\n",
      "\u001b[34m[02/28/2021 13:09:11 INFO 139728157366080] #early_stopping_criteria_metric: host=algo-1, epoch=8, criteria=binary_classification_weighted_cross_entropy_objective, value=1.10994673934\u001b[0m\n",
      "\u001b[34m[02/28/2021 13:09:11 INFO 139728157366080] Saving model for epoch: 8\u001b[0m\n",
      "\u001b[34m[02/28/2021 13:09:11 INFO 139728157366080] Saved checkpoint to \"/tmp/tmpG0mKw9/mx-mod-0000.params\"\u001b[0m\n",
      "\u001b[34m[02/28/2021 13:09:11 INFO 139728157366080] #progress_metric: host=algo-1, completed 60 % of epochs\u001b[0m\n",
      "\u001b[34m#metrics {\"Metrics\": {\"Max Batches Seen Between Resets\": {\"count\": 1, \"max\": 54, \"sum\": 54.0, \"min\": 54}, \"Number of Batches Since Last Reset\": {\"count\": 1, \"max\": 54, \"sum\": 54.0, \"min\": 54}, \"Number of Records Since Last Reset\": {\"count\": 1, \"max\": 53214, \"sum\": 53214.0, \"min\": 53214}, \"Total Batches Seen\": {\"count\": 1, \"max\": 498, \"sum\": 498.0, \"min\": 498}, \"Total Records Seen\": {\"count\": 1, \"max\": 490926, \"sum\": 490926.0, \"min\": 490926}, \"Max Records Seen Between Resets\": {\"count\": 1, \"max\": 53214, \"sum\": 53214.0, \"min\": 53214}, \"Reset Count\": {\"count\": 1, \"max\": 11, \"sum\": 11.0, \"min\": 11}}, \"EndTime\": 1614517751.37353, \"Dimensions\": {\"Host\": \"algo-1\", \"Meta\": \"training_data_iter\", \"Operation\": \"training\", \"Algorithm\": \"Linear Learner\", \"epoch\": 8}, \"StartTime\": 1614517749.754855}\n",
      "\u001b[0m\n",
      "\u001b[34m[02/28/2021 13:09:11 INFO 139728157366080] #throughput_metric: host=algo-1, train throughput=32872.6013446 records/second\u001b[0m\n",
      "\u001b[34m[2021-02-28 13:09:13.246] [tensorio] [info] epoch_stats={\"data_pipeline\": \"/opt/ml/input/data/train\", \"epoch\": 21, \"duration\": 1871, \"num_examples\": 54, \"num_bytes\": 11068512}\u001b[0m\n",
      "\u001b[34m#metrics {\"Metrics\": {\"train_binary_classification_weighted_cross_entropy_objective\": {\"count\": 1, \"max\": 1.1096360761534494, \"sum\": 1.1096360761534494, \"min\": 1.1096360761534494}}, \"EndTime\": 1614517753.246496, \"Dimensions\": {\"model\": 0, \"Host\": \"algo-1\", \"Operation\": \"training\", \"Algorithm\": \"Linear Learner\", \"epoch\": 9}, \"StartTime\": 1614517753.246407}\n",
      "\u001b[0m\n",
      "\u001b[34m#metrics {\"Metrics\": {\"train_binary_classification_weighted_cross_entropy_objective\": {\"count\": 1, \"max\": 1.1095432025261645, \"sum\": 1.1095432025261645, \"min\": 1.1095432025261645}}, \"EndTime\": 1614517753.24657, \"Dimensions\": {\"model\": 1, \"Host\": \"algo-1\", \"Operation\": \"training\", \"Algorithm\": \"Linear Learner\", \"epoch\": 9}, \"StartTime\": 1614517753.246554}\n",
      "\u001b[0m\n",
      "\u001b[34m#metrics {\"Metrics\": {\"train_binary_classification_weighted_cross_entropy_objective\": {\"count\": 1, \"max\": 1.1095138388579746, \"sum\": 1.1095138388579746, \"min\": 1.1095138388579746}}, \"EndTime\": 1614517753.246635, \"Dimensions\": {\"model\": 2, \"Host\": \"algo-1\", \"Operation\": \"training\", \"Algorithm\": \"Linear Learner\", \"epoch\": 9}, \"StartTime\": 1614517753.246617}\n",
      "\u001b[0m\n",
      "\u001b[34m#metrics {\"Metrics\": {\"train_binary_classification_weighted_cross_entropy_objective\": {\"count\": 1, \"max\": 1.1093347755288179, \"sum\": 1.1093347755288179, \"min\": 1.1093347755288179}}, \"EndTime\": 1614517753.2467, \"Dimensions\": {\"model\": 3, \"Host\": \"algo-1\", \"Operation\": \"training\", \"Algorithm\": \"Linear Learner\", \"epoch\": 9}, \"StartTime\": 1614517753.246681}\n",
      "\u001b[0m\n",
      "\u001b[34m#metrics {\"Metrics\": {\"train_binary_classification_weighted_cross_entropy_objective\": {\"count\": 1, \"max\": 1.1629328728441921, \"sum\": 1.1629328728441921, \"min\": 1.1629328728441921}}, \"EndTime\": 1614517753.246765, \"Dimensions\": {\"model\": 4, \"Host\": \"algo-1\", \"Operation\": \"training\", \"Algorithm\": \"Linear Learner\", \"epoch\": 9}, \"StartTime\": 1614517753.246747}\n",
      "\u001b[0m\n",
      "\u001b[34m#metrics {\"Metrics\": {\"train_binary_classification_weighted_cross_entropy_objective\": {\"count\": 1, \"max\": 1.198870335992777, \"sum\": 1.198870335992777, \"min\": 1.198870335992777}}, \"EndTime\": 1614517753.246818, \"Dimensions\": {\"model\": 5, \"Host\": \"algo-1\", \"Operation\": \"training\", \"Algorithm\": \"Linear Learner\", \"epoch\": 9}, \"StartTime\": 1614517753.246806}\n",
      "\u001b[0m\n",
      "\u001b[34m#metrics {\"Metrics\": {\"train_binary_classification_weighted_cross_entropy_objective\": {\"count\": 1, \"max\": 1.163082779794369, \"sum\": 1.163082779794369, \"min\": 1.163082779794369}}, \"EndTime\": 1614517753.246849, \"Dimensions\": {\"model\": 6, \"Host\": \"algo-1\", \"Operation\": \"training\", \"Algorithm\": \"Linear Learner\", \"epoch\": 9}, \"StartTime\": 1614517753.246841}\n",
      "\u001b[0m\n",
      "\u001b[34m#metrics {\"Metrics\": {\"train_binary_classification_weighted_cross_entropy_objective\": {\"count\": 1, \"max\": 1.1984114909621904, \"sum\": 1.1984114909621904, \"min\": 1.1984114909621904}}, \"EndTime\": 1614517753.246876, \"Dimensions\": {\"model\": 7, \"Host\": \"algo-1\", \"Operation\": \"training\", \"Algorithm\": \"Linear Learner\", \"epoch\": 9}, \"StartTime\": 1614517753.246869}\n",
      "\u001b[0m\n",
      "\u001b[34m#metrics {\"Metrics\": {\"train_binary_classification_weighted_cross_entropy_objective\": {\"count\": 1, \"max\": 1.1109067751326651, \"sum\": 1.1109067751326651, \"min\": 1.1109067751326651}}, \"EndTime\": 1614517753.246926, \"Dimensions\": {\"model\": 8, \"Host\": \"algo-1\", \"Operation\": \"training\", \"Algorithm\": \"Linear Learner\", \"epoch\": 9}, \"StartTime\": 1614517753.246913}\n",
      "\u001b[0m\n",
      "\u001b[34m#metrics {\"Metrics\": {\"train_binary_classification_weighted_cross_entropy_objective\": {\"count\": 1, \"max\": 1.1114636944464917, \"sum\": 1.1114636944464917, \"min\": 1.1114636944464917}}, \"EndTime\": 1614517753.246964, \"Dimensions\": {\"model\": 9, \"Host\": \"algo-1\", \"Operation\": \"training\", \"Algorithm\": \"Linear Learner\", \"epoch\": 9}, \"StartTime\": 1614517753.24695}\n",
      "\u001b[0m\n",
      "\u001b[34m#metrics {\"Metrics\": {\"train_binary_classification_weighted_cross_entropy_objective\": {\"count\": 1, \"max\": 1.1105315079599056, \"sum\": 1.1105315079599056, \"min\": 1.1105315079599056}}, \"EndTime\": 1614517753.247024, \"Dimensions\": {\"model\": 10, \"Host\": \"algo-1\", \"Operation\": \"training\", \"Algorithm\": \"Linear Learner\", \"epoch\": 9}, \"StartTime\": 1614517753.247007}\n",
      "\u001b[0m\n",
      "\u001b[34m#metrics {\"Metrics\": {\"train_binary_classification_weighted_cross_entropy_objective\": {\"count\": 1, \"max\": 1.1112337220389887, \"sum\": 1.1112337220389887, \"min\": 1.1112337220389887}}, \"EndTime\": 1614517753.247103, \"Dimensions\": {\"model\": 11, \"Host\": \"algo-1\", \"Operation\": \"training\", \"Algorithm\": \"Linear Learner\", \"epoch\": 9}, \"StartTime\": 1614517753.247086}\n",
      "\u001b[0m\n",
      "\u001b[34m#metrics {\"Metrics\": {\"train_binary_classification_weighted_cross_entropy_objective\": {\"count\": 1, \"max\": 1.1667265590451799, \"sum\": 1.1667265590451799, \"min\": 1.1667265590451799}}, \"EndTime\": 1614517753.247176, \"Dimensions\": {\"model\": 12, \"Host\": \"algo-1\", \"Operation\": \"training\", \"Algorithm\": \"Linear Learner\", \"epoch\": 9}, \"StartTime\": 1614517753.247157}\n",
      "\u001b[0m\n",
      "\u001b[34m#metrics {\"Metrics\": {\"train_binary_classification_weighted_cross_entropy_objective\": {\"count\": 1, \"max\": 1.2019529177107902, \"sum\": 1.2019529177107902, \"min\": 1.2019529177107902}}, \"EndTime\": 1614517753.247244, \"Dimensions\": {\"model\": 13, \"Host\": \"algo-1\", \"Operation\": \"training\", \"Algorithm\": \"Linear Learner\", \"epoch\": 9}, \"StartTime\": 1614517753.247227}\n",
      "\u001b[0m\n",
      "\u001b[34m#metrics {\"Metrics\": {\"train_binary_classification_weighted_cross_entropy_objective\": {\"count\": 1, \"max\": 1.1669951229455335, \"sum\": 1.1669951229455335, \"min\": 1.1669951229455335}}, \"EndTime\": 1614517753.247314, \"Dimensions\": {\"model\": 14, \"Host\": \"algo-1\", \"Operation\": \"training\", \"Algorithm\": \"Linear Learner\", \"epoch\": 9}, \"StartTime\": 1614517753.247296}\n",
      "\u001b[0m\n",
      "\u001b[34m#metrics {\"Metrics\": {\"train_binary_classification_weighted_cross_entropy_objective\": {\"count\": 1, \"max\": 1.2020839325526975, \"sum\": 1.2020839325526975, \"min\": 1.2020839325526975}}, \"EndTime\": 1614517753.247384, \"Dimensions\": {\"model\": 15, \"Host\": \"algo-1\", \"Operation\": \"training\", \"Algorithm\": \"Linear Learner\", \"epoch\": 9}, \"StartTime\": 1614517753.247366}\n",
      "\u001b[0m\n",
      "\u001b[34m#metrics {\"Metrics\": {\"train_binary_classification_weighted_cross_entropy_objective\": {\"count\": 1, \"max\": 1.190638453069723, \"sum\": 1.190638453069723, \"min\": 1.190638453069723}}, \"EndTime\": 1614517753.247451, \"Dimensions\": {\"model\": 16, \"Host\": \"algo-1\", \"Operation\": \"training\", \"Algorithm\": \"Linear Learner\", \"epoch\": 9}, \"StartTime\": 1614517753.247435}\n",
      "\u001b[0m\n",
      "\u001b[34m#metrics {\"Metrics\": {\"train_binary_classification_weighted_cross_entropy_objective\": {\"count\": 1, \"max\": 1.1916494370946344, \"sum\": 1.1916494370946344, \"min\": 1.1916494370946344}}, \"EndTime\": 1614517753.247522, \"Dimensions\": {\"model\": 17, \"Host\": \"algo-1\", \"Operation\": \"training\", \"Algorithm\": \"Linear Learner\", \"epoch\": 9}, \"StartTime\": 1614517753.247504}\n",
      "\u001b[0m\n",
      "\u001b[34m#metrics {\"Metrics\": {\"train_binary_classification_weighted_cross_entropy_objective\": {\"count\": 1, \"max\": 1.190641547436984, \"sum\": 1.190641547436984, \"min\": 1.190641547436984}}, \"EndTime\": 1614517753.24759, \"Dimensions\": {\"model\": 18, \"Host\": \"algo-1\", \"Operation\": \"training\", \"Algorithm\": \"Linear Learner\", \"epoch\": 9}, \"StartTime\": 1614517753.247573}\n",
      "\u001b[0m\n",
      "\u001b[34m#metrics {\"Metrics\": {\"train_binary_classification_weighted_cross_entropy_objective\": {\"count\": 1, \"max\": 1.191643988843234, \"sum\": 1.191643988843234, \"min\": 1.191643988843234}}, \"EndTime\": 1614517753.247658, \"Dimensions\": {\"model\": 19, \"Host\": \"algo-1\", \"Operation\": \"training\", \"Algorithm\": \"Linear Learner\", \"epoch\": 9}, \"StartTime\": 1614517753.247641}\n",
      "\u001b[0m\n",
      "\u001b[34m#metrics {\"Metrics\": {\"train_binary_classification_weighted_cross_entropy_objective\": {\"count\": 1, \"max\": 1.2196248525943396, \"sum\": 1.2196248525943396, \"min\": 1.2196248525943396}}, \"EndTime\": 1614517753.247719, \"Dimensions\": {\"model\": 20, \"Host\": \"algo-1\", \"Operation\": \"training\", \"Algorithm\": \"Linear Learner\", \"epoch\": 9}, \"StartTime\": 1614517753.247705}\n",
      "\u001b[0m\n",
      "\u001b[34m#metrics {\"Metrics\": {\"train_binary_classification_weighted_cross_entropy_objective\": {\"count\": 1, \"max\": 1.2346415462853773, \"sum\": 1.2346415462853773, \"min\": 1.2346415462853773}}, \"EndTime\": 1614517753.247784, \"Dimensions\": {\"model\": 21, \"Host\": \"algo-1\", \"Operation\": \"training\", \"Algorithm\": \"Linear Learner\", \"epoch\": 9}, \"StartTime\": 1614517753.247766}\n",
      "\u001b[0m\n",
      "\u001b[34m#metrics {\"Metrics\": {\"train_binary_classification_weighted_cross_entropy_objective\": {\"count\": 1, \"max\": 1.2195010917231721, \"sum\": 1.2195010917231721, \"min\": 1.2195010917231721}}, \"EndTime\": 1614517753.247825, \"Dimensions\": {\"model\": 22, \"Host\": \"algo-1\", \"Operation\": \"training\", \"Algorithm\": \"Linear Learner\", \"epoch\": 9}, \"StartTime\": 1614517753.247815}\n",
      "\u001b[0m\n",
      "\u001b[34m#metrics {\"Metrics\": {\"train_binary_classification_weighted_cross_entropy_objective\": {\"count\": 1, \"max\": 1.2350928713240714, \"sum\": 1.2350928713240714, \"min\": 1.2350928713240714}}, \"EndTime\": 1614517753.247871, \"Dimensions\": {\"model\": 23, \"Host\": \"algo-1\", \"Operation\": \"training\", \"Algorithm\": \"Linear Learner\", \"epoch\": 9}, \"StartTime\": 1614517753.247855}\n",
      "\u001b[0m\n",
      "\u001b[34m#metrics {\"Metrics\": {\"train_binary_classification_weighted_cross_entropy_objective\": {\"count\": 1, \"max\": 1.3482524713480248, \"sum\": 1.3482524713480248, \"min\": 1.3482524713480248}}, \"EndTime\": 1614517753.247939, \"Dimensions\": {\"model\": 24, \"Host\": \"algo-1\", \"Operation\": \"training\", \"Algorithm\": \"Linear Learner\", \"epoch\": 9}, \"StartTime\": 1614517753.247921}\n",
      "\u001b[0m\n",
      "\u001b[34m#metrics {\"Metrics\": {\"train_binary_classification_weighted_cross_entropy_objective\": {\"count\": 1, \"max\": 1.3482883208652712, \"sum\": 1.3482883208652712, \"min\": 1.3482883208652712}}, \"EndTime\": 1614517753.248038, \"Dimensions\": {\"model\": 25, \"Host\": \"algo-1\", \"Operation\": \"training\", \"Algorithm\": \"Linear Learner\", \"epoch\": 9}, \"StartTime\": 1614517753.248018}\n",
      "\u001b[0m\n",
      "\u001b[34m#metrics {\"Metrics\": {\"train_binary_classification_weighted_cross_entropy_objective\": {\"count\": 1, \"max\": 1.348227419295401, \"sum\": 1.348227419295401, \"min\": 1.348227419295401}}, \"EndTime\": 1614517753.248103, \"Dimensions\": {\"model\": 26, \"Host\": \"algo-1\", \"Operation\": \"training\", \"Algorithm\": \"Linear Learner\", \"epoch\": 9}, \"StartTime\": 1614517753.248086}\n",
      "\u001b[0m\n",
      "\u001b[34m#metrics {\"Metrics\": {\"train_binary_classification_weighted_cross_entropy_objective\": {\"count\": 1, \"max\": 1.3483817023511202, \"sum\": 1.3483817023511202, \"min\": 1.3483817023511202}}, \"EndTime\": 1614517753.248141, \"Dimensions\": {\"model\": 27, \"Host\": \"algo-1\", \"Operation\": \"training\", \"Algorithm\": \"Linear Learner\", \"epoch\": 9}, \"StartTime\": 1614517753.248129}\n",
      "\u001b[0m\n",
      "\u001b[34m#metrics {\"Metrics\": {\"train_binary_classification_weighted_cross_entropy_objective\": {\"count\": 1, \"max\": 1.3575964747015035, \"sum\": 1.3575964747015035, \"min\": 1.3575964747015035}}, \"EndTime\": 1614517753.248202, \"Dimensions\": {\"model\": 28, \"Host\": \"algo-1\", \"Operation\": \"training\", \"Algorithm\": \"Linear Learner\", \"epoch\": 9}, \"StartTime\": 1614517753.248185}\n",
      "\u001b[0m\n",
      "\u001b[34m#metrics {\"Metrics\": {\"train_binary_classification_weighted_cross_entropy_objective\": {\"count\": 1, \"max\": 1.3694946519383844, \"sum\": 1.3694946519383844, \"min\": 1.3694946519383844}}, \"EndTime\": 1614517753.248255, \"Dimensions\": {\"model\": 29, \"Host\": \"algo-1\", \"Operation\": \"training\", \"Algorithm\": \"Linear Learner\", \"epoch\": 9}, \"StartTime\": 1614517753.248241}\n",
      "\u001b[0m\n",
      "\u001b[34m#metrics {\"Metrics\": {\"train_binary_classification_weighted_cross_entropy_objective\": {\"count\": 1, \"max\": 1.3578341985738502, \"sum\": 1.3578341985738502, \"min\": 1.3578341985738502}}, \"EndTime\": 1614517753.248308, \"Dimensions\": {\"model\": 30, \"Host\": \"algo-1\", \"Operation\": \"training\", \"Algorithm\": \"Linear Learner\", \"epoch\": 9}, \"StartTime\": 1614517753.248295}\n",
      "\u001b[0m\n",
      "\u001b[34m#metrics {\"Metrics\": {\"train_binary_classification_weighted_cross_entropy_objective\": {\"count\": 1, \"max\": 1.3694759820902123, \"sum\": 1.3694759820902123, \"min\": 1.3694759820902123}}, \"EndTime\": 1614517753.248356, \"Dimensions\": {\"model\": 31, \"Host\": \"algo-1\", \"Operation\": \"training\", \"Algorithm\": \"Linear Learner\", \"epoch\": 9}, \"StartTime\": 1614517753.248346}\n",
      "\u001b[0m\n",
      "\u001b[34m[02/28/2021 13:09:13 INFO 139728157366080] #quality_metric: host=algo-1, epoch=9, train binary_classification_weighted_cross_entropy_objective <loss>=1.10963607615\u001b[0m\n",
      "\u001b[34m[02/28/2021 13:09:13 INFO 139728157366080] #early_stopping_criteria_metric: host=algo-1, epoch=9, criteria=binary_classification_weighted_cross_entropy_objective, value=1.10933477553\u001b[0m\n",
      "\u001b[34m[02/28/2021 13:09:13 INFO 139728157366080] Saving model for epoch: 9\u001b[0m\n",
      "\u001b[34m[02/28/2021 13:09:13 INFO 139728157366080] Saved checkpoint to \"/tmp/tmpHrO5CZ/mx-mod-0000.params\"\u001b[0m\n",
      "\u001b[34m[02/28/2021 13:09:13 INFO 139728157366080] #progress_metric: host=algo-1, completed 66 % of epochs\u001b[0m\n",
      "\u001b[34m#metrics {\"Metrics\": {\"Max Batches Seen Between Resets\": {\"count\": 1, \"max\": 54, \"sum\": 54.0, \"min\": 54}, \"Number of Batches Since Last Reset\": {\"count\": 1, \"max\": 54, \"sum\": 54.0, \"min\": 54}, \"Number of Records Since Last Reset\": {\"count\": 1, \"max\": 53214, \"sum\": 53214.0, \"min\": 53214}, \"Total Batches Seen\": {\"count\": 1, \"max\": 552, \"sum\": 552.0, \"min\": 552}, \"Total Records Seen\": {\"count\": 1, \"max\": 544140, \"sum\": 544140.0, \"min\": 544140}, \"Max Records Seen Between Resets\": {\"count\": 1, \"max\": 53214, \"sum\": 53214.0, \"min\": 53214}, \"Reset Count\": {\"count\": 1, \"max\": 12, \"sum\": 12.0, \"min\": 12}}, \"EndTime\": 1614517753.255861, \"Dimensions\": {\"Host\": \"algo-1\", \"Meta\": \"training_data_iter\", \"Operation\": \"training\", \"Algorithm\": \"Linear Learner\", \"epoch\": 9}, \"StartTime\": 1614517751.37445}\n",
      "\u001b[0m\n",
      "\u001b[34m[02/28/2021 13:09:13 INFO 139728157366080] #throughput_metric: host=algo-1, train throughput=28282.1688706 records/second\u001b[0m\n",
      "\u001b[34m[2021-02-28 13:09:14.913] [tensorio] [info] epoch_stats={\"data_pipeline\": \"/opt/ml/input/data/train\", \"epoch\": 23, \"duration\": 1656, \"num_examples\": 54, \"num_bytes\": 11068512}\u001b[0m\n",
      "\u001b[34m#metrics {\"Metrics\": {\"train_binary_classification_weighted_cross_entropy_objective\": {\"count\": 1, \"max\": 1.1090082524137677, \"sum\": 1.1090082524137677, \"min\": 1.1090082524137677}}, \"EndTime\": 1614517754.913738, \"Dimensions\": {\"model\": 0, \"Host\": \"algo-1\", \"Operation\": \"training\", \"Algorithm\": \"Linear Learner\", \"epoch\": 10}, \"StartTime\": 1614517754.913641}\n",
      "\u001b[0m\n",
      "\u001b[34m#metrics {\"Metrics\": {\"train_binary_classification_weighted_cross_entropy_objective\": {\"count\": 1, \"max\": 1.1090265226544074, \"sum\": 1.1090265226544074, \"min\": 1.1090265226544074}}, \"EndTime\": 1614517754.913816, \"Dimensions\": {\"model\": 1, \"Host\": \"algo-1\", \"Operation\": \"training\", \"Algorithm\": \"Linear Learner\", \"epoch\": 10}, \"StartTime\": 1614517754.913797}\n",
      "\u001b[0m\n",
      "\u001b[34m#metrics {\"Metrics\": {\"train_binary_classification_weighted_cross_entropy_objective\": {\"count\": 1, \"max\": 1.1089067313716097, \"sum\": 1.1089067313716097, \"min\": 1.1089067313716097}}, \"EndTime\": 1614517754.913881, \"Dimensions\": {\"model\": 2, \"Host\": \"algo-1\", \"Operation\": \"training\", \"Algorithm\": \"Linear Learner\", \"epoch\": 10}, \"StartTime\": 1614517754.913861}\n",
      "\u001b[0m\n",
      "\u001b[34m#metrics {\"Metrics\": {\"train_binary_classification_weighted_cross_entropy_objective\": {\"count\": 1, \"max\": 1.1088217381891214, \"sum\": 1.1088217381891214, \"min\": 1.1088217381891214}}, \"EndTime\": 1614517754.913945, \"Dimensions\": {\"model\": 3, \"Host\": \"algo-1\", \"Operation\": \"training\", \"Algorithm\": \"Linear Learner\", \"epoch\": 10}, \"StartTime\": 1614517754.913927}\n",
      "\u001b[0m\n",
      "\u001b[34m#metrics {\"Metrics\": {\"train_binary_classification_weighted_cross_entropy_objective\": {\"count\": 1, \"max\": 1.1619016032668779, \"sum\": 1.1619016032668779, \"min\": 1.1619016032668779}}, \"EndTime\": 1614517754.914009, \"Dimensions\": {\"model\": 4, \"Host\": \"algo-1\", \"Operation\": \"training\", \"Algorithm\": \"Linear Learner\", \"epoch\": 10}, \"StartTime\": 1614517754.913991}\n",
      "\u001b[0m\n",
      "\u001b[34m#metrics {\"Metrics\": {\"train_binary_classification_weighted_cross_entropy_objective\": {\"count\": 1, \"max\": 1.199233373102152, \"sum\": 1.199233373102152, \"min\": 1.199233373102152}}, \"EndTime\": 1614517754.914073, \"Dimensions\": {\"model\": 5, \"Host\": \"algo-1\", \"Operation\": \"training\", \"Algorithm\": \"Linear Learner\", \"epoch\": 10}, \"StartTime\": 1614517754.914054}\n",
      "\u001b[0m\n",
      "\u001b[34m#metrics {\"Metrics\": {\"train_binary_classification_weighted_cross_entropy_objective\": {\"count\": 1, \"max\": 1.161967267882149, \"sum\": 1.161967267882149, \"min\": 1.161967267882149}}, \"EndTime\": 1614517754.914239, \"Dimensions\": {\"model\": 6, \"Host\": \"algo-1\", \"Operation\": \"training\", \"Algorithm\": \"Linear Learner\", \"epoch\": 10}, \"StartTime\": 1614517754.914219}\n",
      "\u001b[0m\n",
      "\u001b[34m#metrics {\"Metrics\": {\"train_binary_classification_weighted_cross_entropy_objective\": {\"count\": 1, \"max\": 1.1988838996167452, \"sum\": 1.1988838996167452, \"min\": 1.1988838996167452}}, \"EndTime\": 1614517754.914303, \"Dimensions\": {\"model\": 7, \"Host\": \"algo-1\", \"Operation\": \"training\", \"Algorithm\": \"Linear Learner\", \"epoch\": 10}, \"StartTime\": 1614517754.914285}\n",
      "\u001b[0m\n",
      "\u001b[34m#metrics {\"Metrics\": {\"train_binary_classification_weighted_cross_entropy_objective\": {\"count\": 1, \"max\": 1.110468695874484, \"sum\": 1.110468695874484, \"min\": 1.110468695874484}}, \"EndTime\": 1614517754.914376, \"Dimensions\": {\"model\": 8, \"Host\": \"algo-1\", \"Operation\": \"training\", \"Algorithm\": \"Linear Learner\", \"epoch\": 10}, \"StartTime\": 1614517754.914359}\n",
      "\u001b[0m\n",
      "\u001b[34m#metrics {\"Metrics\": {\"train_binary_classification_weighted_cross_entropy_objective\": {\"count\": 1, \"max\": 1.1111661446049528, \"sum\": 1.1111661446049528, \"min\": 1.1111661446049528}}, \"EndTime\": 1614517754.914437, \"Dimensions\": {\"model\": 9, \"Host\": \"algo-1\", \"Operation\": \"training\", \"Algorithm\": \"Linear Learner\", \"epoch\": 10}, \"StartTime\": 1614517754.91442}\n",
      "\u001b[0m\n",
      "\u001b[34m#metrics {\"Metrics\": {\"train_binary_classification_weighted_cross_entropy_objective\": {\"count\": 1, \"max\": 1.1101271304724352, \"sum\": 1.1101271304724352, \"min\": 1.1101271304724352}}, \"EndTime\": 1614517754.914498, \"Dimensions\": {\"model\": 10, \"Host\": \"algo-1\", \"Operation\": \"training\", \"Algorithm\": \"Linear Learner\", \"epoch\": 10}, \"StartTime\": 1614517754.91448}\n",
      "\u001b[0m\n",
      "\u001b[34m#metrics {\"Metrics\": {\"train_binary_classification_weighted_cross_entropy_objective\": {\"count\": 1, \"max\": 1.1109750527435878, \"sum\": 1.1109750527435878, \"min\": 1.1109750527435878}}, \"EndTime\": 1614517754.914558, \"Dimensions\": {\"model\": 11, \"Host\": \"algo-1\", \"Operation\": \"training\", \"Algorithm\": \"Linear Learner\", \"epoch\": 10}, \"StartTime\": 1614517754.914541}\n",
      "\u001b[0m\n",
      "\u001b[34m#metrics {\"Metrics\": {\"train_binary_classification_weighted_cross_entropy_objective\": {\"count\": 1, \"max\": 1.1657693216575766, \"sum\": 1.1657693216575766, \"min\": 1.1657693216575766}}, \"EndTime\": 1614517754.914618, \"Dimensions\": {\"model\": 12, \"Host\": \"algo-1\", \"Operation\": \"training\", \"Algorithm\": \"Linear Learner\", \"epoch\": 10}, \"StartTime\": 1614517754.914601}\n",
      "\u001b[0m\n",
      "\u001b[34m#metrics {\"Metrics\": {\"train_binary_classification_weighted_cross_entropy_objective\": {\"count\": 1, \"max\": 1.2005642078327683, \"sum\": 1.2005642078327683, \"min\": 1.2005642078327683}}, \"EndTime\": 1614517754.914676, \"Dimensions\": {\"model\": 13, \"Host\": \"algo-1\", \"Operation\": \"training\", \"Algorithm\": \"Linear Learner\", \"epoch\": 10}, \"StartTime\": 1614517754.91466}\n",
      "\u001b[0m\n",
      "\u001b[34m#metrics {\"Metrics\": {\"train_binary_classification_weighted_cross_entropy_objective\": {\"count\": 1, \"max\": 1.1656489499649911, \"sum\": 1.1656489499649911, \"min\": 1.1656489499649911}}, \"EndTime\": 1614517754.914739, \"Dimensions\": {\"model\": 14, \"Host\": \"algo-1\", \"Operation\": \"training\", \"Algorithm\": \"Linear Learner\", \"epoch\": 10}, \"StartTime\": 1614517754.914719}\n",
      "\u001b[0m\n",
      "\u001b[34m#metrics {\"Metrics\": {\"train_binary_classification_weighted_cross_entropy_objective\": {\"count\": 1, \"max\": 1.2006648893536263, \"sum\": 1.2006648893536263, \"min\": 1.2006648893536263}}, \"EndTime\": 1614517754.914807, \"Dimensions\": {\"model\": 15, \"Host\": \"algo-1\", \"Operation\": \"training\", \"Algorithm\": \"Linear Learner\", \"epoch\": 10}, \"StartTime\": 1614517754.914789}\n",
      "\u001b[0m\n",
      "\u001b[34m#metrics {\"Metrics\": {\"train_binary_classification_weighted_cross_entropy_objective\": {\"count\": 1, \"max\": 1.190540402970224, \"sum\": 1.190540402970224, \"min\": 1.190540402970224}}, \"EndTime\": 1614517754.914871, \"Dimensions\": {\"model\": 16, \"Host\": \"algo-1\", \"Operation\": \"training\", \"Algorithm\": \"Linear Learner\", \"epoch\": 10}, \"StartTime\": 1614517754.914854}\n",
      "\u001b[0m\n",
      "\u001b[34m#metrics {\"Metrics\": {\"train_binary_classification_weighted_cross_entropy_objective\": {\"count\": 1, \"max\": 1.1916255481647995, \"sum\": 1.1916255481647995, \"min\": 1.1916255481647995}}, \"EndTime\": 1614517754.914933, \"Dimensions\": {\"model\": 17, \"Host\": \"algo-1\", \"Operation\": \"training\", \"Algorithm\": \"Linear Learner\", \"epoch\": 10}, \"StartTime\": 1614517754.914916}\n",
      "\u001b[0m\n",
      "\u001b[34m#metrics {\"Metrics\": {\"train_binary_classification_weighted_cross_entropy_objective\": {\"count\": 1, \"max\": 1.1905429664467866, \"sum\": 1.1905429664467866, \"min\": 1.1905429664467866}}, \"EndTime\": 1614517754.914996, \"Dimensions\": {\"model\": 18, \"Host\": \"algo-1\", \"Operation\": \"training\", \"Algorithm\": \"Linear Learner\", \"epoch\": 10}, \"StartTime\": 1614517754.914979}\n",
      "\u001b[0m\n",
      "\u001b[34m#metrics {\"Metrics\": {\"train_binary_classification_weighted_cross_entropy_objective\": {\"count\": 1, \"max\": 1.1916190600125294, \"sum\": 1.1916190600125294, \"min\": 1.1916190600125294}}, \"EndTime\": 1614517754.915059, \"Dimensions\": {\"model\": 19, \"Host\": \"algo-1\", \"Operation\": \"training\", \"Algorithm\": \"Linear Learner\", \"epoch\": 10}, \"StartTime\": 1614517754.915042}\n",
      "\u001b[0m\n",
      "\u001b[34m#metrics {\"Metrics\": {\"train_binary_classification_weighted_cross_entropy_objective\": {\"count\": 1, \"max\": 1.2164482721292749, \"sum\": 1.2164482721292749, \"min\": 1.2164482721292749}}, \"EndTime\": 1614517754.915119, \"Dimensions\": {\"model\": 20, \"Host\": \"algo-1\", \"Operation\": \"training\", \"Algorithm\": \"Linear Learner\", \"epoch\": 10}, \"StartTime\": 1614517754.915102}\n",
      "\u001b[0m\n",
      "\u001b[34m#metrics {\"Metrics\": {\"train_binary_classification_weighted_cross_entropy_objective\": {\"count\": 1, \"max\": 1.2349825715838738, \"sum\": 1.2349825715838738, \"min\": 1.2349825715838738}}, \"EndTime\": 1614517754.915177, \"Dimensions\": {\"model\": 21, \"Host\": \"algo-1\", \"Operation\": \"training\", \"Algorithm\": \"Linear Learner\", \"epoch\": 10}, \"StartTime\": 1614517754.915161}\n",
      "\u001b[0m\n",
      "\u001b[34m#metrics {\"Metrics\": {\"train_binary_classification_weighted_cross_entropy_objective\": {\"count\": 1, \"max\": 1.216379539633697, \"sum\": 1.216379539633697, \"min\": 1.216379539633697}}, \"EndTime\": 1614517754.915256, \"Dimensions\": {\"model\": 22, \"Host\": \"algo-1\", \"Operation\": \"training\", \"Algorithm\": \"Linear Learner\", \"epoch\": 10}, \"StartTime\": 1614517754.915237}\n",
      "\u001b[0m\n",
      "\u001b[34m#metrics {\"Metrics\": {\"train_binary_classification_weighted_cross_entropy_objective\": {\"count\": 1, \"max\": 1.235607967736586, \"sum\": 1.235607967736586, \"min\": 1.235607967736586}}, \"EndTime\": 1614517754.915315, \"Dimensions\": {\"model\": 23, \"Host\": \"algo-1\", \"Operation\": \"training\", \"Algorithm\": \"Linear Learner\", \"epoch\": 10}, \"StartTime\": 1614517754.915298}\n",
      "\u001b[0m\n",
      "\u001b[34m#metrics {\"Metrics\": {\"train_binary_classification_weighted_cross_entropy_objective\": {\"count\": 1, \"max\": 1.348235252524322, \"sum\": 1.348235252524322, \"min\": 1.348235252524322}}, \"EndTime\": 1614517754.915383, \"Dimensions\": {\"model\": 24, \"Host\": \"algo-1\", \"Operation\": \"training\", \"Algorithm\": \"Linear Learner\", \"epoch\": 10}, \"StartTime\": 1614517754.915365}\n",
      "\u001b[0m\n",
      "\u001b[34m#metrics {\"Metrics\": {\"train_binary_classification_weighted_cross_entropy_objective\": {\"count\": 1, \"max\": 1.3482860522000295, \"sum\": 1.3482860522000295, \"min\": 1.3482860522000295}}, \"EndTime\": 1614517754.915444, \"Dimensions\": {\"model\": 25, \"Host\": \"algo-1\", \"Operation\": \"training\", \"Algorithm\": \"Linear Learner\", \"epoch\": 10}, \"StartTime\": 1614517754.915427}\n",
      "\u001b[0m\n",
      "\u001b[34m#metrics {\"Metrics\": {\"train_binary_classification_weighted_cross_entropy_objective\": {\"count\": 1, \"max\": 1.3482147930793043, \"sum\": 1.3482147930793043, \"min\": 1.3482147930793043}}, \"EndTime\": 1614517754.915507, \"Dimensions\": {\"model\": 26, \"Host\": \"algo-1\", \"Operation\": \"training\", \"Algorithm\": \"Linear Learner\", \"epoch\": 10}, \"StartTime\": 1614517754.915491}\n",
      "\u001b[0m\n",
      "\u001b[34m#metrics {\"Metrics\": {\"train_binary_classification_weighted_cross_entropy_objective\": {\"count\": 1, \"max\": 1.3483896346182194, \"sum\": 1.3483896346182194, \"min\": 1.3483896346182194}}, \"EndTime\": 1614517754.915575, \"Dimensions\": {\"model\": 27, \"Host\": \"algo-1\", \"Operation\": \"training\", \"Algorithm\": \"Linear Learner\", \"epoch\": 10}, \"StartTime\": 1614517754.915556}\n",
      "\u001b[0m\n",
      "\u001b[34m#metrics {\"Metrics\": {\"train_binary_classification_weighted_cross_entropy_objective\": {\"count\": 1, \"max\": 1.3565251280586674, \"sum\": 1.3565251280586674, \"min\": 1.3565251280586674}}, \"EndTime\": 1614517754.915644, \"Dimensions\": {\"model\": 28, \"Host\": \"algo-1\", \"Operation\": \"training\", \"Algorithm\": \"Linear Learner\", \"epoch\": 10}, \"StartTime\": 1614517754.915627}\n",
      "\u001b[0m\n",
      "\u001b[34m#metrics {\"Metrics\": {\"train_binary_classification_weighted_cross_entropy_objective\": {\"count\": 1, \"max\": 1.369235091299381, \"sum\": 1.369235091299381, \"min\": 1.369235091299381}}, \"EndTime\": 1614517754.915716, \"Dimensions\": {\"model\": 29, \"Host\": \"algo-1\", \"Operation\": \"training\", \"Algorithm\": \"Linear Learner\", \"epoch\": 10}, \"StartTime\": 1614517754.915698}\n",
      "\u001b[0m\n",
      "\u001b[34m#metrics {\"Metrics\": {\"train_binary_classification_weighted_cross_entropy_objective\": {\"count\": 1, \"max\": 1.356738785653744, \"sum\": 1.356738785653744, \"min\": 1.356738785653744}}, \"EndTime\": 1614517754.915785, \"Dimensions\": {\"model\": 30, \"Host\": \"algo-1\", \"Operation\": \"training\", \"Algorithm\": \"Linear Learner\", \"epoch\": 10}, \"StartTime\": 1614517754.915767}\n",
      "\u001b[0m\n",
      "\u001b[34m#metrics {\"Metrics\": {\"train_binary_classification_weighted_cross_entropy_objective\": {\"count\": 1, \"max\": 1.3690410087153597, \"sum\": 1.3690410087153597, \"min\": 1.3690410087153597}}, \"EndTime\": 1614517754.915843, \"Dimensions\": {\"model\": 31, \"Host\": \"algo-1\", \"Operation\": \"training\", \"Algorithm\": \"Linear Learner\", \"epoch\": 10}, \"StartTime\": 1614517754.915828}\n",
      "\u001b[0m\n",
      "\u001b[34m[02/28/2021 13:09:14 INFO 139728157366080] #quality_metric: host=algo-1, epoch=10, train binary_classification_weighted_cross_entropy_objective <loss>=1.10900825241\u001b[0m\n",
      "\u001b[34m[02/28/2021 13:09:14 INFO 139728157366080] #early_stopping_criteria_metric: host=algo-1, epoch=10, criteria=binary_classification_weighted_cross_entropy_objective, value=1.10882173819\u001b[0m\n",
      "\u001b[34m[02/28/2021 13:09:14 INFO 139728157366080] Saving model for epoch: 10\u001b[0m\n",
      "\u001b[34m[02/28/2021 13:09:14 INFO 139728157366080] Saved checkpoint to \"/tmp/tmp5UYpyf/mx-mod-0000.params\"\u001b[0m\n",
      "\u001b[34m[02/28/2021 13:09:14 INFO 139728157366080] Early stop condition met. Stopping training.\u001b[0m\n",
      "\u001b[34m[02/28/2021 13:09:14 INFO 139728157366080] #progress_metric: host=algo-1, completed 100 % epochs\u001b[0m\n",
      "\u001b[34m#metrics {\"Metrics\": {\"Max Batches Seen Between Resets\": {\"count\": 1, \"max\": 54, \"sum\": 54.0, \"min\": 54}, \"Number of Batches Since Last Reset\": {\"count\": 1, \"max\": 54, \"sum\": 54.0, \"min\": 54}, \"Number of Records Since Last Reset\": {\"count\": 1, \"max\": 53214, \"sum\": 53214.0, \"min\": 53214}, \"Total Batches Seen\": {\"count\": 1, \"max\": 606, \"sum\": 606.0, \"min\": 606}, \"Total Records Seen\": {\"count\": 1, \"max\": 597354, \"sum\": 597354.0, \"min\": 597354}, \"Max Records Seen Between Resets\": {\"count\": 1, \"max\": 53214, \"sum\": 53214.0, \"min\": 53214}, \"Reset Count\": {\"count\": 1, \"max\": 13, \"sum\": 13.0, \"min\": 13}}, \"EndTime\": 1614517754.923497, \"Dimensions\": {\"Host\": \"algo-1\", \"Meta\": \"training_data_iter\", \"Operation\": \"training\", \"Algorithm\": \"Linear Learner\", \"epoch\": 10}, \"StartTime\": 1614517753.2566}\n",
      "\u001b[0m\n",
      "\u001b[34m[02/28/2021 13:09:14 INFO 139728157366080] #throughput_metric: host=algo-1, train throughput=31921.841047 records/second\u001b[0m\n",
      "\u001b[34m[02/28/2021 13:09:14 WARNING 139728157366080] wait_for_all_workers will not sync workers since the kv store is not running distributed\u001b[0m\n",
      "\u001b[34m[02/28/2021 13:09:14 WARNING 139728157366080] wait_for_all_workers will not sync workers since the kv store is not running distributed\u001b[0m\n",
      "\u001b[34m[2021-02-28 13:09:14.929] [tensorio] [info] epoch_stats={\"data_pipeline\": \"/opt/ml/input/data/train\", \"epoch\": 25, \"duration\": 5, \"num_examples\": 1, \"num_bytes\": 208000}\u001b[0m\n",
      "\u001b[34m[2021-02-28 13:09:15.133] [tensorio] [info] epoch_stats={\"data_pipeline\": \"/opt/ml/input/data/train\", \"epoch\": 28, \"duration\": 200, \"num_examples\": 54, \"num_bytes\": 11068512}\u001b[0m\n",
      "\u001b[34m[2021-02-28 13:09:15.349] [tensorio] [info] epoch_stats={\"data_pipeline\": \"/opt/ml/input/data/train\", \"epoch\": 30, \"duration\": 174, \"num_examples\": 54, \"num_bytes\": 11068512}\u001b[0m\n",
      "\u001b[34m[02/28/2021 13:09:15 INFO 139728157366080] #train_score (algo-1) : ('binary_classification_weighted_cross_entropy_objective', 1.1126620822100313)\u001b[0m\n",
      "\u001b[34m[02/28/2021 13:09:15 INFO 139728157366080] #train_score (algo-1) : ('binary_classification_accuracy', 0.8823242003983914)\u001b[0m\n",
      "\u001b[34m[02/28/2021 13:09:15 INFO 139728157366080] #train_score (algo-1) : ('binary_f_1.000', 0.23391240518717887)\u001b[0m\n",
      "\u001b[34m[02/28/2021 13:09:15 INFO 139728157366080] #train_score (algo-1) : ('precision', 0.15754779169413316)\u001b[0m\n",
      "\u001b[34m[02/28/2021 13:09:15 INFO 139728157366080] #train_score (algo-1) : ('recall', 0.4539411206077873)\u001b[0m\n",
      "\u001b[34m[02/28/2021 13:09:15 INFO 139728157366080] #train_score (algo-1) : ('roc_auc_score', 0.7877415113562096)\u001b[0m\n",
      "\u001b[34m[02/28/2021 13:09:15 INFO 139728157366080] #quality_metric: host=algo-1, train binary_classification_weighted_cross_entropy_objective <loss>=1.11266208221\u001b[0m\n",
      "\u001b[34m[02/28/2021 13:09:15 INFO 139728157366080] #quality_metric: host=algo-1, train binary_classification_accuracy <score>=0.882324200398\u001b[0m\n",
      "\u001b[34m[02/28/2021 13:09:15 INFO 139728157366080] #quality_metric: host=algo-1, train binary_f_1.000 <score>=0.233912405187\u001b[0m\n",
      "\u001b[34m[02/28/2021 13:09:15 INFO 139728157366080] #quality_metric: host=algo-1, train precision <score>=0.157547791694\u001b[0m\n",
      "\u001b[34m[02/28/2021 13:09:15 INFO 139728157366080] #quality_metric: host=algo-1, train recall <score>=0.453941120608\u001b[0m\n",
      "\u001b[34m[02/28/2021 13:09:15 INFO 139728157366080] #quality_metric: host=algo-1, train roc_auc_score <score>=0.787741511356\u001b[0m\n",
      "\u001b[34m[02/28/2021 13:09:15 INFO 139728157366080] Best model found for hyperparameters: {\"lr_scheduler_step\": 100, \"wd\": 0.0001, \"optimizer\": \"adam\", \"lr_scheduler_factor\": 0.99, \"l1\": 0.0, \"learning_rate\": 0.005, \"lr_scheduler_minimum_lr\": 0.0001}\u001b[0m\n",
      "\u001b[34m[02/28/2021 13:09:15 INFO 139728157366080] Saved checkpoint to \"/tmp/tmp_rnRVT/mx-mod-0000.params\"\u001b[0m\n",
      "\u001b[34m[02/28/2021 13:09:15 INFO 139728157366080] Test data is not provided.\u001b[0m\n",
      "\u001b[34m#metrics {\"Metrics\": {\"totaltime\": {\"count\": 1, \"max\": 21418.1489944458, \"sum\": 21418.1489944458, \"min\": 21418.1489944458}, \"finalize.time\": {\"count\": 1, \"max\": 441.93196296691895, \"sum\": 441.93196296691895, \"min\": 441.93196296691895}, \"initialize.time\": {\"count\": 1, \"max\": 337.2609615325928, \"sum\": 337.2609615325928, \"min\": 337.2609615325928}, \"check_early_stopping.time\": {\"count\": 11, \"max\": 1.277923583984375, \"sum\": 7.328987121582031, \"min\": 0.18095970153808594}, \"setuptime\": {\"count\": 1, \"max\": 23.18882942199707, \"sum\": 23.18882942199707, \"min\": 23.18882942199707}, \"update.time\": {\"count\": 11, \"max\": 2362.34712600708, \"sum\": 20376.937866210938, \"min\": 1509.0320110321045}, \"epochs\": {\"count\": 1, \"max\": 15, \"sum\": 15.0, \"min\": 15}}, \"EndTime\": 1614517755.375404, \"Dimensions\": {\"Host\": \"algo-1\", \"Operation\": \"training\", \"Algorithm\": \"Linear Learner\"}, \"StartTime\": 1614517734.163932}\n",
      "\u001b[0m\n",
      "\n",
      "2021-02-28 13:09:29 Uploading - Uploading generated training model\n",
      "2021-02-28 13:09:29 Completed - Training job completed\n",
      "Training seconds: 72\n",
      "Billable seconds: 72\n",
      "CPU times: user 589 ms, sys: 49.5 ms, total: 639 ms\n",
      "Wall time: 4min 12s\n"
     ]
    }
   ],
   "source": [
    "%%time \n",
    "# train the estimator on formatted training data\n",
    "linear.fit(formatted_train_data)"
   ]
  },
  {
   "cell_type": "code",
   "execution_count": 158,
   "id": "parallel-making",
   "metadata": {},
   "outputs": [
    {
     "name": "stderr",
     "output_type": "stream",
     "text": [
      "Defaulting to the only supported framework/algorithm version: 1. Ignoring framework/algorithm version: 1.\n"
     ]
    },
    {
     "name": "stdout",
     "output_type": "stream",
     "text": [
      "---------------!CPU times: user 277 ms, sys: 10.2 ms, total: 288 ms\n",
      "Wall time: 7min 32s\n"
     ]
    }
   ],
   "source": [
    "%%time \n",
    "# deploy and create a predictor\n",
    "linear_predictor = linear.deploy(initial_instance_count=1, instance_type='ml.t2.medium')"
   ]
  },
  {
   "cell_type": "code",
   "execution_count": 159,
   "id": "professional-musical",
   "metadata": {},
   "outputs": [
    {
     "name": "stdout",
     "output_type": "stream",
     "text": [
      "[label {\n",
      "  key: \"predicted_label\"\n",
      "  value {\n",
      "    float32_tensor {\n",
      "      values: 0.0\n",
      "    }\n",
      "  }\n",
      "}\n",
      "label {\n",
      "  key: \"score\"\n",
      "  value {\n",
      "    float32_tensor {\n",
      "      values: 0.47712865471839905\n",
      "    }\n",
      "  }\n",
      "}\n",
      "]\n"
     ]
    }
   ],
   "source": [
    "# test one prediction\n",
    "#X_train_ls, X_test_ls, y_train_ls, y_test_ls\n",
    "test_x_np = X_test_ls.values.astype('float32')\n",
    "result = linear_predictor.predict(test_x_np[0])\n",
    "\n",
    "print(result)"
   ]
  },
  {
   "cell_type": "code",
   "execution_count": 160,
   "id": "boolean-moisture",
   "metadata": {},
   "outputs": [],
   "source": [
    "def predict_LLearner(predictor, test_features):\n",
    "    \"\"\"\n",
    "    Evaluate a model on a test set given the prediction endpoint.  \n",
    "    Return binary classification metrics.\n",
    "    :param predictor: A prediction endpoint\n",
    "    :param test_features: Test features\n",
    "    :return: A dictionary of performance metrics.\n",
    "    \"\"\"\n",
    "    \n",
    "    # We have a lot of test data, so we'll split it into batches of 100\n",
    "    # split the test data set into batches and evaluate using prediction endpoint    \n",
    "    prediction_batches = [predictor.predict(batch) for batch in np.array_split(test_features, 100)]\n",
    "    \n",
    "    # LinearLearner produces a `predicted_label` for each data point in a batch\n",
    "    # get the 'predicted_label' for every point in a batch\n",
    "    test_preds = np.concatenate([np.array([x.label['score'].float32_tensor.values[0] for x in batch]) \n",
    "                                 for batch in prediction_batches])\n",
    "    return test_preds"
   ]
  },
  {
   "cell_type": "code",
   "execution_count": 163,
   "id": "coordinated-invitation",
   "metadata": {},
   "outputs": [],
   "source": [
    "predictions_ll = predict_LLearner(linear_predictor,X_test_ls.values.astype('float32'))"
   ]
  },
  {
   "cell_type": "code",
   "execution_count": 205,
   "id": "resident-beginning",
   "metadata": {},
   "outputs": [
    {
     "data": {
      "image/png": "[encoded data removed]",
      "text/plain": [
       "<Figure size 1152x576 with 1 Axes>"
      ]
     },
     "metadata": {
      "needs_background": "light"
     },
     "output_type": "display_data"
    }
   ],
   "source": [
    "# Let's plot ROC and calculate AUC\n",
    "import sklearn.metrics as metrics\n",
    "#Calculate FPR and TPR for all thresholds\n",
    "fpr_ll, tpr_ll, threshold = metrics.roc_curve(y_test_ls.values, predictions_ll)\n",
    "roc_auc_ll = metrics.auc(fpr_ll, tpr_ll)\n",
    "# Plotting the ROC curve\n",
    "import matplotlib.pyplot as plt\n",
    "fig, ax = plt.subplots(figsize = (16, 8))\n",
    "plt.title('Receiver Operating Characteristic', fontsize=18)\n",
    "ax.spines['top'].set_visible(False)\n",
    "ax.spines['right'].set_visible(False)\n",
    "plt.plot(fpr_ll, tpr_ll, 'b', label = 'AUC-Linear Learner = %0.4f' % roc_auc_ll)\n",
    "plt.legend(loc = 'upper left', fontsize = 16)\n",
    "plt.plot([0, 1], [0, 1],'r--')\n",
    "plt.ylabel('True Positive Rate', fontsize = 16)\n",
    "plt.xlabel('False Positive Rate', fontsize = 16)\n",
    "plt.show()"
   ]
  },
  {
   "cell_type": "markdown",
   "id": "included-services",
   "metadata": {},
   "source": [
    "### Comparision of both models"
   ]
  },
  {
   "cell_type": "code",
   "execution_count": 209,
   "id": "healthy-count",
   "metadata": {},
   "outputs": [
    {
     "data": {
      "image/png": "[encoded data removed]",
      "text/plain": [
       "<Figure size 1152x576 with 1 Axes>"
      ]
     },
     "metadata": {
      "needs_background": "light"
     },
     "output_type": "display_data"
    }
   ],
   "source": [
    "# Let's plot ROC and calculate AUC\n",
    "import sklearn.metrics as metrics\n",
    "#Calculate FPR and TPR for all thresholds\n",
    "fpr_ll, tpr_ll, threshold = metrics.roc_curve(y_test_ls.values, predictions_ll)\n",
    "roc_auc_ll = metrics.auc(fpr_ll, tpr_ll)\n",
    "# Plotting the ROC curve\n",
    "import matplotlib.pyplot as plt\n",
    "fig, ax = plt.subplots(figsize = (16, 8))\n",
    "plt.title('Receiver Operating Characteristic', fontsize=18)\n",
    "plt.plot(fpr_ll, tpr_ll, 'b', label = 'AUC- Linear Learner = %0.4f' % roc_auc_ll)\n",
    "ax.spines['top'].set_visible(False)\n",
    "ax.spines['right'].set_visible(False)\n",
    "plt.plot(fpr, tpr, 'g', label = 'AUC-XGboost = %0.4f' % roc_auc)\n",
    "plt.legend(loc = 'upper left', fontsize = 16)\n",
    "plt.plot([0, 1], [0, 1],'r--')\n",
    "plt.ylabel('True Positive Rate', fontsize = 16)\n",
    "plt.xlabel('False Positive Rate', fontsize = 16)\n",
    "plt.show()"
   ]
  },
  {
   "cell_type": "code",
   "execution_count": 185,
   "id": "under-visibility",
   "metadata": {},
   "outputs": [],
   "source": [
    "# Delete endpoint\n",
    "linear_predictor.delete_endpoint()"
   ]
  }
 ],
 "metadata": {
  "kernelspec": {
   "display_name": "conda_python3",
   "language": "python",
   "name": "conda_python3"
  },
  "language_info": {
   "codemirror_mode": {
    "name": "ipython",
    "version": 3
   },
   "file_extension": ".py",
   "mimetype": "text/x-python",
   "name": "python",
   "nbconvert_exporter": "python",
   "pygments_lexer": "ipython3",
   "version": "3.6.10"
  }
 },
 "nbformat": 4,
 "nbformat_minor": 5
}
